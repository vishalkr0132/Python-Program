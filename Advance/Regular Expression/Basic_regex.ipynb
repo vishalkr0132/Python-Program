{
 "cells": [
  {
   "cell_type": "code",
   "execution_count": 2,
   "metadata": {},
   "outputs": [
    {
     "name": "stdout",
     "output_type": "stream",
     "text": [
      "Match found\n"
     ]
    }
   ],
   "source": [
    "import re\n",
    "def find(message,patt):\n",
    "    res = re.search(patt,message)\n",
    "    if res:\n",
    "        return \"Match found\"\n",
    "    return \"No match found\"\n",
    "\n",
    "message = \"The most viokent man called one man the most violent\"\n",
    "patt = \"most\"\n",
    "print(find(message,patt))"
   ]
  },
  {
   "cell_type": "code",
   "execution_count": null,
   "metadata": {},
   "outputs": [],
   "source": []
  },
  {
   "cell_type": "markdown",
   "metadata": {},
   "source": [
    "# WAP to find the multiple patterns in a given string using regex."
   ]
  },
  {
   "cell_type": "code",
   "execution_count": 4,
   "metadata": {},
   "outputs": [
    {
     "name": "stdout",
     "output_type": "stream",
     "text": [
      "Pattern 'most': Match found\n",
      "Match found\n"
     ]
    }
   ],
   "source": [
    "import re\n",
    "def multiple_patt(message, patterns):\n",
    "    \n",
    "    for pattern in patterns:\n",
    "        print(f\"Pattern '{pattern}': {find(message, pattern)}\")\n",
    "        if re.search(pattern, message):\n",
    "            return \"Match found\"\n",
    "        return \"No match found\"\n",
    "\n",
    "message = \"The most violet man called one man the most violent\"\n",
    "patterns = [\"most\", \"violet\", \"man\"]\n",
    "print(multiple_patt(message, patterns))"
   ]
  },
  {
   "cell_type": "markdown",
   "metadata": {},
   "source": [
    "# WAP to find the multiple patterns in a given string using regex."
   ]
  },
  {
   "cell_type": "code",
   "execution_count": 6,
   "metadata": {},
   "outputs": [
    {
     "name": "stdout",
     "output_type": "stream",
     "text": [
      "[\"Pattern 'most': Match found\", \"Pattern 'violet': Match found\", \"Pattern 'man': Match found\"]\n"
     ]
    }
   ],
   "source": [
    "import re \n",
    "\n",
    "def multiple_patt(message, patterns):\n",
    "    res = []\n",
    "    for pattern in patterns:\n",
    "        if re.search(pattern, message):\n",
    "            res.append(f\"Pattern '{pattern}': Match found\")\n",
    "        else:\n",
    "            res.append(f\"Pattern '{pattern}': No match found\")\n",
    "    return res\n",
    "\n",
    "message = \"The most violet man called one man the most violent\"\n",
    "\n",
    "patterns = [\"most\", \"violet\", \"man\"]\n",
    "\n",
    "print(multiple_patt(message, patterns))"
   ]
  },
  {
   "cell_type": "markdown",
   "metadata": {},
   "source": [
    "# EX"
   ]
  },
  {
   "cell_type": "code",
   "execution_count": 11,
   "metadata": {},
   "outputs": [
    {
     "name": "stdout",
     "output_type": "stream",
     "text": [
      "Matches found:['most', 'most']\n"
     ]
    }
   ],
   "source": [
    "import re \n",
    "def findall_patt(message, patterns):\n",
    "    res = re.findall(patterns, message)\n",
    "    if res:\n",
    "        return f\"Matches found:{res}\"\n",
    "    return \"No matches found\"\n",
    "\n",
    "message = \"The most violet man called one man the most violent\"\n",
    "patterns = \"most\"\n",
    "print(findall_patt(message, patterns))"
   ]
  },
  {
   "cell_type": "code",
   "execution_count": 13,
   "metadata": {},
   "outputs": [
    {
     "name": "stdout",
     "output_type": "stream",
     "text": [
      "Match found:<re.Match object; span=(2, 6), match='cife'>\n"
     ]
    }
   ],
   "source": [
    "import re \n",
    "def find_pattern(message, pattern):\n",
    "    res = re.search(pattern,message)\n",
    "    if res:\n",
    "        return f\"Match found:{res}\"\n",
    "    return \"No match found\"\n",
    "\n",
    "message = \"Lucifer Morningstar\"\n",
    "patterns = \"cif[a-z]\"\n",
    "print(find_pattern(message, patterns))"
   ]
  },
  {
   "cell_type": "code",
   "execution_count": 19,
   "metadata": {},
   "outputs": [
    {
     "name": "stdout",
     "output_type": "stream",
     "text": [
      "No match found\n"
     ]
    }
   ],
   "source": [
    "import re\n",
    "def pattern(message,patterns):\n",
    "    res = re.search(patterns, message)\n",
    "    if res:\n",
    "        return f\"Match found: {res}\"\n",
    "    return \"No match found\"\n",
    "\n",
    "message = \"Dev\\nloper\"\n",
    "patterns = r\"d[b-m][a-z]\"\n",
    "print(pattern(message, patterns))\n",
    "    "
   ]
  },
  {
   "cell_type": "code",
   "execution_count": 29,
   "metadata": {},
   "outputs": [
    {
     "name": "stdout",
     "output_type": "stream",
     "text": [
      "Pattern '[a]': Match found: <re.Match object; span=(0, 1), match='a'>\n",
      "['a', 'a', 'a', 'a', 'a', 'a', 'a', 'a', 'a', 'a', 'a', 'a', 'a', 'a', 'a', 'a', 'a', 'a', 'a', 'a']\n",
      "\n",
      "Pattern '[a]+': Match found: <re.Match object; span=(0, 5), match='aaaaa'>\n",
      "['aaaaa', 'a', 'aaaaaa', 'aaa', 'a', 'a', 'a', 'a', 'a']\n",
      "\n",
      "Pattern '[a]*': Match found: <re.Match object; span=(0, 5), match='aaaaa'>\n",
      "['aaaaa', '', '', '', '', '', '', '', '', '', '', 'a', '', '', '', '', 'aaaaaa', '', '', '', '', 'aaa', '', '', '', '', 'a', '', 'a', '', 'a', '', 'a', '', 'a', '']\n",
      "\n",
      "Pattern '[ab]+': Match found: <re.Match object; span=(0, 10), match='aaaaabbbbb'>\n",
      "['aaaaabbbbb', 'abbbbaaaaaabb', 'aaabbb', 'ababababa']\n",
      "\n",
      "Pattern '[ab]*': Match found: <re.Match object; span=(0, 10), match='aaaaabbbbb'>\n",
      "['aaaaabbbbb', '', '', '', '', '', 'abbbbaaaaaabb', '', '', 'aaabbb', '', 'ababababa', '']\n",
      "\n",
      "Pattern 'ab+': Match found: <re.Match object; span=(4, 10), match='abbbbb'>\n",
      "['abbbbb', 'abbbb', 'abb', 'abbb', 'ab', 'ab', 'ab', 'ab']\n",
      "\n",
      "Pattern 'ab*': Match found: <re.Match object; span=(0, 1), match='a'>\n",
      "['a', 'a', 'a', 'a', 'abbbbb', 'abbbb', 'a', 'a', 'a', 'a', 'a', 'abb', 'a', 'a', 'abbb', 'ab', 'ab', 'ab', 'ab', 'a']\n",
      "\n"
     ]
    }
   ],
   "source": [
    "import re\n",
    "def multi_char(test_pattern, message):\n",
    "    for patt in test_pattern:\n",
    "        print(f\"Pattern '{patt}': {pattern(message, patt)}\")\n",
    "        print(re.findall(patt, message))\n",
    "        \n",
    "message = \"aaaaabbbbb.....abbbbaaaaaabb..aaabbb.ababababa\"\n",
    "test_pattern = ['[a]'] # find for induvidual a's\n",
    "multi_char(test_pattern, message)\n",
    "print()\n",
    "\n",
    "test_pattern1 = ['[a]+'] # finds  for 1 or more a's\n",
    "multi_char(test_pattern1, message)\n",
    "print()\n",
    "\n",
    "test_pattern2 = ['[a]*'] # finds for 0 or more a's\n",
    "multi_char(test_pattern2, message)\n",
    "print()\n",
    "\n",
    "test_pattern3 = ['[ab]+'] # finds the combinations of a and b 1 or more times\n",
    "multi_char(test_pattern3, message)\n",
    "print()\n",
    "\n",
    "test_pattern4 = ['[ab]*'] # finds the combinations of a and b 0 or more times\n",
    "multi_char(test_pattern4, message)\n",
    "print()\n",
    "\n",
    "test_pattern5 = ['ab+'] # finds for combination of only 1 a and 1 or more b's\n",
    "multi_char(test_pattern5, message)\n",
    "print()\n",
    "\n",
    "test_pattern6 = ['ab*'] # finds for combination of 0 or more a and 0 or more b's\n",
    "multi_char(test_pattern6, message)\n",
    "print()"
   ]
  },
  {
   "cell_type": "code",
   "execution_count": null,
   "metadata": {},
   "outputs": [],
   "source": []
  }
 ],
 "metadata": {
  "kernelspec": {
   "display_name": "Python 3",
   "language": "python",
   "name": "python3"
  },
  "language_info": {
   "codemirror_mode": {
    "name": "ipython",
    "version": 3
   },
   "file_extension": ".py",
   "mimetype": "text/x-python",
   "name": "python",
   "nbconvert_exporter": "python",
   "pygments_lexer": "ipython3",
   "version": "3.13.0"
  }
 },
 "nbformat": 4,
 "nbformat_minor": 2
}
