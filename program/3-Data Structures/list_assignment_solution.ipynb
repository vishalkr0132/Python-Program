{
 "cells": [
  {
   "cell_type": "markdown",
   "metadata": {},
   "source": [
    "# Module 3: Data Structures Assignments\n",
    "## Lesson 3.1: Lists\n",
    "### Assignment 1: Creating and Accessing Lists\n",
    "\n",
    "Create a list of the first 20 positive integers. Print the list."
   ]
  },
  {
   "cell_type": "code",
   "execution_count": 1,
   "metadata": {},
   "outputs": [
    {
     "name": "stdout",
     "output_type": "stream",
     "text": [
      "[1, 2, 3, 4, 5, 6, 7, 8, 9, 10, 11, 12, 13, 14, 15, 16, 17, 18, 19, 20]\n"
     ]
    }
   ],
   "source": [
    "# Your code here\n",
    "lst =list(range(1,21))\n",
    "print(lst)"
   ]
  },
  {
   "cell_type": "markdown",
   "metadata": {},
   "source": [
    "### Assignment 2: Accessing List Elements\n",
    "\n",
    "Print the first, middle, and last elements of the list created in Assignment 1."
   ]
  },
  {
   "cell_type": "code",
   "execution_count": 3,
   "metadata": {},
   "outputs": [
    {
     "name": "stdout",
     "output_type": "stream",
     "text": [
      "First Element : 1\n",
      "Middle Element : 11\n",
      "Last Element : 20\n"
     ]
    }
   ],
   "source": [
    "# Your code here\n",
    "lst = list(range(1,21))\n",
    "print(f\"First Element : {lst[0]}\")\n",
    "print(f\"Middle Element : {lst[len(lst) // 2 ]}\")\n",
    "print(f\"Last Element : {lst[-1]}\")"
   ]
  },
  {
   "cell_type": "markdown",
   "metadata": {},
   "source": [
    "### Assignment 3: List Slicing\n",
    "\n",
    "Print the first five elements, the last five elements, and the elements from index 5 to 15 of the list created in Assignment 1."
   ]
  },
  {
   "cell_type": "code",
   "execution_count": 5,
   "metadata": {},
   "outputs": [
    {
     "name": "stdout",
     "output_type": "stream",
     "text": [
      "First Five Element : [1, 2, 3, 4, 5]\n",
      "Last Five Element : [16, 17, 18, 19, 20]\n",
      "Index from 5 to 15 Element : [6, 7, 8, 9, 10, 11, 12, 13, 14, 15, 16]\n"
     ]
    }
   ],
   "source": [
    "# Your code here\n",
    "lst = list(range(1,21))\n",
    "\n",
    "print(f\"First Five Element : {lst[:5]}\")\n",
    "print(f\"Last Five Element : {lst[-5:]}\")\n",
    "print(f\"Index from 5 to 15 Element : {lst[5:16]}\")"
   ]
  },
  {
   "cell_type": "markdown",
   "metadata": {},
   "source": [
    "### Assignment 4: List Comprehensions\n",
    "\n",
    "Create a new list containing the squares of the first 10 positive integers using a list comprehension. Print the new list."
   ]
  },
  {
   "cell_type": "code",
   "execution_count": 6,
   "metadata": {},
   "outputs": [
    {
     "name": "stdout",
     "output_type": "stream",
     "text": [
      "[1, 4, 9, 16, 25, 36, 49, 64, 81, 100]\n"
     ]
    }
   ],
   "source": [
    "# Your code here\n",
    "lst = [i ** 2 for i in range(1,11)]\n",
    "print(lst)"
   ]
  },
  {
   "cell_type": "markdown",
   "metadata": {},
   "source": [
    "### Assignment 5: Filtering Lists\n",
    "\n",
    "Create a new list containing only the even numbers from the list created in Assignment 1 using a list comprehension. Print the new list."
   ]
  },
  {
   "cell_type": "code",
   "execution_count": 7,
   "metadata": {},
   "outputs": [
    {
     "name": "stdout",
     "output_type": "stream",
     "text": [
      "[2, 4, 6, 8, 10, 12, 14, 16, 18, 20]\n"
     ]
    }
   ],
   "source": [
    "# Your code here\n",
    "lst = list(range(1,21))\n",
    "even = [i for i in lst if i % 2 == 0]\n",
    "print(even)"
   ]
  },
  {
   "cell_type": "markdown",
   "metadata": {},
   "source": [
    "### Assignment 6: List Methods\n",
    "\n",
    "Create a list of random numbers and sort it in ascending and descending order. Remove the duplicates from the list and print the modified list."
   ]
  },
  {
   "cell_type": "code",
   "execution_count": 11,
   "metadata": {},
   "outputs": [
    {
     "name": "stdout",
     "output_type": "stream",
     "text": [
      "Orifinal List : [16, 17, 15, 10, 11, 17, 6, 11, 2, 6, 15, 13, 18, 4, 7]\n",
      "Sorted in ascending order : [2, 4, 6, 6, 7, 10, 11, 11, 13, 15, 15, 16, 17, 17, 18]\n",
      "Sorted in descending order: [18, 17, 17, 16, 15, 15, 13, 11, 11, 10, 7, 6, 6, 4, 2]\n",
      "List With duolicates Removed : [2, 4, 6, 7, 10, 11, 13, 15, 16, 17, 18]\n"
     ]
    }
   ],
   "source": [
    "# Your code here\n",
    "import random\n",
    "\n",
    "random_numbers = [random.randint(1,20) for _ in range(15)]\n",
    "print(f\"Orifinal List : {random_numbers}\")\n",
    "\n",
    "sorted_numbers = sorted(random_numbers)\n",
    "print(f\"Sorted in ascending order : {sorted_numbers}\")\n",
    "\n",
    "sorted_numbers_desc = sorted(random_numbers, reverse = True)\n",
    "print(f\"Sorted in descending order: {sorted_numbers_desc}\")\n",
    "\n",
    "unique_numbers = list(set(random_numbers))\n",
    "print(f\"List With duolicates Removed : {unique_numbers}\")"
   ]
  },
  {
   "cell_type": "markdown",
   "metadata": {},
   "source": [
    "### Assignment 7: Nested Lists\n",
    "\n",
    "Create a nested list representing a 3x3 matrix and print the matrix. Access and print the element at the second row and third column."
   ]
  },
  {
   "cell_type": "code",
   "execution_count": 3,
   "metadata": {},
   "outputs": [
    {
     "name": "stdout",
     "output_type": "stream",
     "text": [
      "[[1, 2, 3], [4, 5, 6], [7, 8, 9]]\n",
      "[1, 2, 3]\n",
      "[4, 5, 6]\n",
      "[7, 8, 9]\n",
      "Element at second row and third column: 6\n"
     ]
    }
   ],
   "source": [
    "# Your code here\n",
    "lst = [[1, 2, 3],[4, 5, 6],[7, 8, 9]]\n",
    "print(lst)\n",
    "for row in lst:\n",
    "    print(row)\n",
    "print(f\"Element at second row and third column: {lst[1][2]}\")"
   ]
  },
  {
   "cell_type": "markdown",
   "metadata": {},
   "source": [
    "### Assignment 8: List of Dictionaries\n",
    "\n",
    "Create a list of dictionaries where each dictionary represents a student with keys 'name' and 'score'. Sort the list of dictionaries by the 'score' in descending order and print the sorted list."
   ]
  },
  {
   "cell_type": "code",
   "execution_count": 10,
   "id": "fefa4643",
   "metadata": {},
   "outputs": [
    {
     "name": "stdout",
     "output_type": "stream",
     "text": [
      "Name :Allen,Score: 72\n",
      "Name :Smith,Score: 95\n",
      "Name :vishal,Score: 45\n"
     ]
    }
   ],
   "source": [
    "# Your code here\n",
    "students = [\n",
    "    {'name': 'vishal', 'score': 88},\n",
    "    {'name': 'Allen', 'score': 72},\n",
    "    {'name': 'Smith', 'score': 95},\n",
    "    {'name': 'Miller', 'score': 65},\n",
    "    {'name': 'Adams','score': 75}       \n",
    "]\n",
    "\n",
    "n = len(students)\n",
    "for i in range(n):\n",
    "    for j in range(0, n - i -1):\n",
    "        if students[j]['score'] < students[j + 1]['score']:\n",
    "            students[j],students[j+1] = students[j + 1],students[j]\n",
    "for student in students:\n",
    "    print(f\"Name :{student['name']},Score: {student['score']}\")"
   ]
  },
  {
   "cell_type": "code",
   "execution_count": 5,
   "id": "34fc7e0c",
   "metadata": {},
   "outputs": [
    {
     "name": "stdout",
     "output_type": "stream",
     "text": [
      "{'name': 'Charlie', 'score': 95}\n",
      "{'name': 'Alice', 'score': 88}\n",
      "{'name': 'Eve', 'score': 78}\n",
      "{'name': 'Bob', 'score': 72}\n",
      "{'name': 'David', 'score': 65}\n"
     ]
    }
   ],
   "source": [
    "students = [\n",
    "    {'name': 'Alice', 'score': 88},\n",
    "    {'name': 'Bob', 'score': 72},\n",
    "    {'name': 'Charlie', 'score': 95},\n",
    "    {'name': 'David', 'score': 65},\n",
    "    {'name': 'Eve', 'score': 78}\n",
    "]\n",
    "sorted_students = sorted(students,key = lambda x : x['score'], reverse = True)\n",
    "for student in sorted_students:\n",
    "    print(student)"
   ]
  },
  {
   "cell_type": "code",
   "execution_count": null,
   "id": "c9d2814c",
   "metadata": {},
   "outputs": [],
   "source": [
    "students = [\n",
    "    {'name': 'Alice', 'score': 88},\n",
    "    {'name': 'Bob', 'score': 72},\n",
    "    {'name': 'Charlie', 'score': 95},\n",
    "    {'name': 'David', 'score': 65},\n",
    "    {'name': 'Eve', 'score': 78}\n",
    "]\n",
    "sorted_students = sorted(students, key=lambda x: x['score'], reverse=True)\n",
    "print(\"Sorted students by score in descending order:\")\n",
    "for student in sorted_students:\n",
    "    print(student)"
   ]
  },
  {
   "cell_type": "markdown",
   "metadata": {},
   "source": [
    "### Assignment 9: Matrix Transposition\n",
    "\n",
    "Write a function that takes a 3x3 matrix (nested list) as input and returns its transpose. Print the original and transposed matrices."
   ]
  },
  {
   "cell_type": "code",
   "execution_count": 5,
   "metadata": {},
   "outputs": [
    {
     "name": "stdout",
     "output_type": "stream",
     "text": [
      "The 3 x 3 matrix is :\n",
      "[1, 2, 3]\n",
      "[4, 5, 6]\n",
      "[7, 8, 9]\n",
      "transposed Matrix :\n",
      "[1, 4, 7]\n",
      "[2, 5, 8]\n",
      "[3, 6, 9]\n"
     ]
    }
   ],
   "source": [
    "# Your code here\n",
    "#without using Any Function\n",
    "mxt = []\n",
    "for i in range(3):\n",
    "    row = []\n",
    "    for j in range(3):\n",
    "        elm = int(input(f\"Enter element at position [{i}][{j}]:\"))\n",
    "        row.append(elm)\n",
    "    mxt.append(row)\n",
    "\n",
    "print(\"The 3 x 3 matrix is :\")\n",
    "for row in mxt:\n",
    "    print(row)\n",
    "    \n",
    "trp = []\n",
    "for k in range(len(mxt)):\n",
    "    trp_row = []\n",
    "    for l in range(len(mxt)):\n",
    "        trp_row.append(mxt[l][k])\n",
    "    trp.append(trp_row)\n",
    "\n",
    "print(\"transposed Matrix :\")\n",
    "for trp_row in trp:\n",
    "    print(trp_row)"
   ]
  },
  {
   "cell_type": "code",
   "execution_count": null,
   "id": "5fe85f8e",
   "metadata": {},
   "outputs": [],
   "source": [
    "matrix = []\n",
    "\n",
    "print(\"Enter the elements of the 3x3 matrix row by row (separate elements with spaces):\")\n",
    "\n",
    "for i in range(3):\n",
    "    row = list(map(int, input(f\"Enter row {i+1}: \").split()))\n",
    "    matrix.append(row)\n",
    "\n",
    "print(\"The 3x3 matrix is:\")\n",
    "for row in matrix:\n",
    "    print(row)\n"
   ]
  },
  {
   "cell_type": "code",
   "execution_count": 7,
   "id": "33d5c4d1",
   "metadata": {},
   "outputs": [
    {
     "name": "stdout",
     "output_type": "stream",
     "text": [
      "The 3x3 Matrix is :\n",
      "[1, 2, 3]\n",
      "[4, 5, 6]\n",
      "[7, 8, 9]\n"
     ]
    }
   ],
   "source": [
    "mxt = []\n",
    "for i in range(3):\n",
    "    row = list(map(int,input(f\"Enter row {i + 1} :\").split()))\n",
    "    mxt.append(row)\n",
    "print(\"The 3x3 Matrix is :\")\n",
    "for row in mxt:\n",
    "    print(row)"
   ]
  },
  {
   "cell_type": "markdown",
   "metadata": {},
   "source": [
    "### Assignment 10: Flattening a Nested List\n",
    "\n",
    "Write a function that takes a nested list and flattens it into a single list. Print the original and flattened lists."
   ]
  },
  {
   "cell_type": "code",
   "execution_count": 1,
   "metadata": {},
   "outputs": [
    {
     "name": "stdout",
     "output_type": "stream",
     "text": [
      "Original nested list:\n",
      "[[1, 2, 3], [4, 5, 6], [7, 8, 9]]\n",
      "Flattened list:\n",
      "[1, 2, 3, 4, 5, 6, 7, 8, 9]\n"
     ]
    }
   ],
   "source": [
    "# Your code here\n",
    "def flatten_list(nested_list):\n",
    "    flat_list = [item for sublist in nested_list for item in sublist]\n",
    "    return flat_list\n",
    "\n",
    "nested_list = [\n",
    "    [1, 2, 3],\n",
    "    [4, 5, 6],\n",
    "    [7, 8, 9]\n",
    "]\n",
    "flattened = flatten_list(nested_list)\n",
    "print(\"Original nested list:\")\n",
    "print(nested_list)\n",
    "print(\"Flattened list:\")\n",
    "print(flattened)"
   ]
  },
  {
   "cell_type": "markdown",
   "id": "78bda23e",
   "metadata": {},
   "source": [
    "Write a program that takes a nested list and flattens it into a single list. Print the original and flattened lists. without using list comprehension and function."
   ]
  },
  {
   "cell_type": "code",
   "execution_count": 4,
   "id": "79a5c9be",
   "metadata": {},
   "outputs": [
    {
     "name": "stdout",
     "output_type": "stream",
     "text": [
      "Original Matrix\n",
      "[1, 2, 3]\n",
      "[4, 5, 6]\n",
      "[7, 8, 9]\n",
      "Flattened List\n",
      "[1, 2, 3, 4, 5, 6, 7, 8, 9]\n"
     ]
    }
   ],
   "source": [
    "matrix = []\n",
    "for i in range(3):\n",
    "    row = []\n",
    "    for j in range(3):\n",
    "        element = int(input(f\"Enter Element at position [{i}][{j}]:\"))\n",
    "        row.append(element)\n",
    "    matrix.append(row)\n",
    "print(\"Original Matrix\")\n",
    "for row in matrix:\n",
    "    print(row)\n",
    "flattened_list = []\n",
    "for row in matrix:\n",
    "    for element in row:\n",
    "        flattened_list.append(element)\n",
    "print(\"Flattened List\")\n",
    "print(flattened_list)    "
   ]
  },
  {
   "cell_type": "markdown",
   "id": "2dc8edde",
   "metadata": {},
   "source": [
    "Write a program that takes a nested list and flattens it into a single list. Print the original and flattened lists. using list comprehension and without using function."
   ]
  },
  {
   "cell_type": "code",
   "execution_count": 8,
   "id": "70396134",
   "metadata": {},
   "outputs": [
    {
     "name": "stdout",
     "output_type": "stream",
     "text": [
      "Original Matrix:\n",
      "[1, 2, 3]\n",
      "[4, 5, 6]\n",
      "[7, 8, 9]\n",
      "Flatten List\n",
      "[1, 2, 3, 4, 5, 6, 7, 8, 9]\n"
     ]
    }
   ],
   "source": [
    "# Flatten the nested list using list comprehension\n",
    "# flattened_list = [element for row in nested_list for element in row]\n",
    "n = int(input(\"Enter a Size of columns :\"))\n",
    "m = int(input(\"Enter a Size of row :\"))\n",
    "matrix = []\n",
    "for i in range(n):\n",
    "    row = []\n",
    "    for j in range(m):\n",
    "        element = int(input(f\"Enter Element at position [{i}][{j}]: \"))\n",
    "        row.append(element)\n",
    "    matrix.append(row)\n",
    "print(\"Original Matrix:\")\n",
    "for row in matrix:\n",
    "    print(row)\n",
    "\n",
    "flatten_list = [element for row in matrix for element in row]\n",
    "\n",
    "print(\"Flatten List\")\n",
    "print(flatten_list)"
   ]
  },
  {
   "cell_type": "markdown",
   "metadata": {},
   "source": [
    "### Assignment 11: List Manipulation\n",
    "\n",
    "Create a list of the first 10 positive integers. Remove the elements at indices 2, 4, and 6, and insert the element '99' at index 5. Print the modified list."
   ]
  },
  {
   "cell_type": "code",
   "execution_count": 1,
   "metadata": {},
   "outputs": [
    {
     "name": "stdout",
     "output_type": "stream",
     "text": [
      "Original List : [1, 2, 3, 4, 5, 6, 7, 8, 9, 10]\n",
      "Modified List [1, 2, 4, 5, 7, 99, 8, 10]\n"
     ]
    }
   ],
   "source": [
    "# Your code here\n",
    "lst = list(range(1,11))\n",
    "print(f\"Original List : {lst}\")\n",
    "del lst[2]\n",
    "del lst[4]\n",
    "del lst[6]\n",
    "lst.insert(5,99)\n",
    "print(f\"Modified List {lst}\")\n"
   ]
  },
  {
   "cell_type": "markdown",
   "metadata": {},
   "source": [
    "### Assignment 12: List Zipping\n",
    "\n",
    "Create two lists of the same length. Use the `zip` function to combine these lists into a list of tuples and print the result."
   ]
  },
  {
   "cell_type": "code",
   "execution_count": 2,
   "metadata": {},
   "outputs": [
    {
     "name": "stdout",
     "output_type": "stream",
     "text": [
      "[(1, 'a'), (2, 'b'), (3, 'c'), (4, 'd'), (5, 'e')]\n"
     ]
    }
   ],
   "source": [
    "# Your code here\n",
    "lst1 = [1,2,3,4,5]\n",
    "lst2 = ['a','b','c','d','e']\n",
    "zipped = list(zip(lst1,lst2))\n",
    "print(zipped)"
   ]
  },
  {
   "cell_type": "markdown",
   "metadata": {},
   "source": [
    "### Assignment 13: List Reversal\n",
    "\n",
    "Write a function that takes a list and returns a new list with the elements in reverse order. Print the original and reversed lists."
   ]
  },
  {
   "cell_type": "code",
   "execution_count": 4,
   "metadata": {},
   "outputs": [],
   "source": [
    "# Your code here\n",
    "\n",
    "\n"
   ]
  },
  {
   "cell_type": "markdown",
   "metadata": {},
   "source": [
    "### Assignment 14: List Rotation\n",
    "\n",
    "Write a function that rotates a list by n positions. Print the original and rotated lists."
   ]
  },
  {
   "cell_type": "code",
   "execution_count": null,
   "metadata": {},
   "outputs": [],
   "source": [
    "# Your code here"
   ]
  },
  {
   "cell_type": "markdown",
   "metadata": {},
   "source": [
    "### Assignment 15: List Intersection\n",
    "\n",
    "Write a function that takes two lists and returns a new list containing only the elements that are present in both lists. Print the intersected list."
   ]
  },
  {
   "cell_type": "code",
   "execution_count": null,
   "metadata": {},
   "outputs": [],
   "source": [
    "# Your code here"
   ]
  }
 ],
 "metadata": {
  "kernelspec": {
   "display_name": "Python 3",
   "language": "python",
   "name": "python3"
  },
  "language_info": {
   "codemirror_mode": {
    "name": "ipython",
    "version": 3
   },
   "file_extension": ".py",
   "mimetype": "text/x-python",
   "name": "python",
   "nbconvert_exporter": "python",
   "pygments_lexer": "ipython3",
   "version": "3.12.0"
  }
 },
 "nbformat": 4,
 "nbformat_minor": 5
}
