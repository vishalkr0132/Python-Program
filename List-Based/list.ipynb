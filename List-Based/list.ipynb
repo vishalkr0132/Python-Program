{
 "cells": [
  {
   "cell_type": "markdown",
   "metadata": {},
   "source": [
    "# Write a function to find duplicate elements in a list without using any additional data structures."
   ]
  },
  {
   "cell_type": "code",
   "execution_count": 1,
   "metadata": {},
   "outputs": [
    {
     "name": "stdout",
     "output_type": "stream",
     "text": [
      "Duplicate elements: [2, 3]\n"
     ]
    }
   ],
   "source": [
    "def find_duplicates(l):\n",
    "    duplicate = []\n",
    "    \n",
    "    for i in range(len(l)):\n",
    "        for j in range(i + 1, len(l)):\n",
    "            if l[i] == l[j] and l[i] not in duplicate:\n",
    "                duplicate +=[l[i]]\n",
    "                break\n",
    "    return duplicate\n",
    "lst = [1, 2, 3, 4, 2, 5, 6, 3]\n",
    "result = find_duplicates(lst)\n",
    "print(\"Duplicate elements:\", result)"
   ]
  },
  {
   "cell_type": "markdown",
   "metadata": {},
   "source": [
    "# Given two sorted lists, write a function to merge them into one sorted list without using built-in sorting functions.\n"
   ]
  },
  {
   "cell_type": "code",
   "execution_count": 3,
   "metadata": {},
   "outputs": [
    {
     "name": "stdout",
     "output_type": "stream",
     "text": [
      "Merged sorted list: [1, 2, 3, 4, 5, 6, 7, 8]\n"
     ]
    }
   ],
   "source": [
    "def merge_sorted_lists(l1,l2):\n",
    "    merge_list = []\n",
    "    i,j = 0,0\n",
    "    \n",
    "    while i < len(l1) and j < len(l2):\n",
    "        if l1[i] < l2[j]:\n",
    "            merge_list += [l1[i]]\n",
    "            i += 1\n",
    "        else:\n",
    "            merge_list += [l2[j]]\n",
    "            j += 1\n",
    "    while i < len(l2):\n",
    "        merge_list += [l1[i]]\n",
    "        i += 1\n",
    "        \n",
    "    while j < len(l2):\n",
    "        merge_list += [l2[j]]\n",
    "        j += 1\n",
    "        \n",
    "    return merge_list\n",
    "\n",
    "lst1 = [1, 3, 5, 7]\n",
    "lst2 = [2, 4, 6, 8]\n",
    "result = merge_sorted_lists(lst1, lst2)\n",
    "print(\"Merged sorted list:\", result)"
   ]
  },
  {
   "cell_type": "markdown",
   "metadata": {},
   "source": [
    "# Implement a function to sort a list containing only the numbers 0, 1, and 2 without using any sorting function"
   ]
  },
  {
   "cell_type": "code",
   "execution_count": 5,
   "metadata": {},
   "outputs": [
    {
     "name": "stdout",
     "output_type": "stream",
     "text": [
      "Sorted list: [0, 0, 0, 1, 1, 1, 2, 2, 2]\n"
     ]
    }
   ],
   "source": [
    "def sort_zeros_ones_twos(l):\n",
    "    low,mid,high = 0,0,len(l) -1\n",
    "    \n",
    "    while mid <= high:\n",
    "        if l[mid] == 0:\n",
    "            l[low],l[mid] = l[mid],l[low]\n",
    "            low += 1\n",
    "            mid += 1\n",
    "            \n",
    "        elif l[mid] == 1:\n",
    "            mid += 1\n",
    "        \n",
    "        else:\n",
    "            l[mid],l[high] = l[high],l[mid]\n",
    "            high -= 1\n",
    "            \n",
    "    return l\n",
    "\n",
    "lst = [2, 0, 1, 2, 1, 0, 1, 2, 0]\n",
    "sorted_lst = sort_zeros_ones_twos(lst)\n",
    "print(\"Sorted list:\", sorted_lst)"
   ]
  },
  {
   "cell_type": "code",
   "execution_count": null,
   "metadata": {},
   "outputs": [],
   "source": []
  }
 ],
 "metadata": {
  "kernelspec": {
   "display_name": "Python 3",
   "language": "python",
   "name": "python3"
  },
  "language_info": {
   "codemirror_mode": {
    "name": "ipython",
    "version": 3
   },
   "file_extension": ".py",
   "mimetype": "text/x-python",
   "name": "python",
   "nbconvert_exporter": "python",
   "pygments_lexer": "ipython3",
   "version": "3.13.0"
  }
 },
 "nbformat": 4,
 "nbformat_minor": 2
}
