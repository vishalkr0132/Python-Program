{
 "cells": [
  {
   "cell_type": "markdown",
   "metadata": {},
   "source": [
    "-> Create a class it should cantain method like my_string when a object is created a class should accept a input string of size N.\n",
    "\n",
    "When we call a method it should check length of a given string excluding special characters, it the length of a string is even convert vowles  into @ and it if is odd conver consonants into $"
   ]
  },
  {
   "cell_type": "code",
   "execution_count": null,
   "metadata": {},
   "outputs": [],
   "source": [
    "class my_string:\n",
    "    def __int__(self,val):\n",
    "        self.val = val\n",
    "        \n",
    "    def mystring(self):\n",
    "        count = 0\n",
    "        new_strings = \"\"\n",
    "        for i in self.val:\n",
    "            if i == ' ':\n",
    "                continue\n",
    "            count += 1\n",
    "            \n",
    "            if count % 2 == 0:\n",
    "                for i in self.val:\n",
    "                    if i == ' ':\n",
    "                        new_strings += i\n",
    "                    elif i in 'aeiouAEIOU':\n",
    "                        new_strings += i\n",
    "                    elif:\n",
    "                        for i in self.val:"
   ]
  }
 ],
 "metadata": {
  "kernelspec": {
   "display_name": "Python 3",
   "language": "python",
   "name": "python3"
  },
  "language_info": {
   "name": "python",
   "version": "3.13.0"
  }
 },
 "nbformat": 4,
 "nbformat_minor": 2
}
