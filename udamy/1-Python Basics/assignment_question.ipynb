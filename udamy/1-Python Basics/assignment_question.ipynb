{
 "cells": [
  {
   "cell_type": "markdown",
   "metadata": {},
   "source": [
    "# Lesson 1.2: Python Basics\n",
    "## Topics Covered:\n",
    "- Syntax and Semantics\n",
    "- Variables and Data Types\n",
    "- Basic Operators (Arithmetic, Comparison, Logical)\n"
   ]
  },
  {
   "cell_type": "markdown",
   "metadata": {},
   "source": [
    "## 1. Syntax and Semantics\n",
    "\n",
    "**Question 1:** Write a Python program to print \"Hello, World!\"."
   ]
  },
  {
   "cell_type": "code",
   "execution_count": null,
   "metadata": {},
   "outputs": [],
   "source": [
    "# Your code here\n",
    "print(\"Hello, World\")"
   ]
  },
  {
   "cell_type": "markdown",
   "metadata": {},
   "source": [
    "**Question 2:** Write a Python program that takes a user input and prints it."
   ]
  },
  {
   "cell_type": "code",
   "execution_count": null,
   "metadata": {},
   "outputs": [],
   "source": [
    "# Your code here\n",
    "var = input(\"Enter Any Number & Char :\")\n",
    "print(var)"
   ]
  },
  {
   "cell_type": "markdown",
   "metadata": {},
   "source": [
    "**Question 3:** Write a Python program to check if a number is positive, negative, or zero."
   ]
  },
  {
   "cell_type": "code",
   "execution_count": 1,
   "metadata": {},
   "outputs": [
    {
     "name": "stdout",
     "output_type": "stream",
     "text": [
      "5 is Positive\n"
     ]
    }
   ],
   "source": [
    "num = int(input('Enter Any Number :'))\n",
    "\n",
    "if num > 0:\n",
    "    print(f\"{num} is Positive\")\n",
    "elif num < 0:\n",
    "    print(f'{num} is Negative')\n",
    "else:\n",
    "    print(f'{num} is Zero')"
   ]
  },
  {
   "cell_type": "code",
   "execution_count": null,
   "metadata": {},
   "outputs": [],
   "source": [
    "# Your code here\n",
    "num = int(input(\"Enter Any Number : \"))\n",
    "\n",
    "if num > 0:\n",
    "    print(f\"{num} is Positive \")\n",
    "elif num < 0:\n",
    "    print(f\"{num} is Negative \")\n",
    "else:\n",
    "    print(f\"{num} is Zero \")\n"
   ]
  },
  {
   "cell_type": "markdown",
   "metadata": {},
   "source": [
    "**Question 4:** Write a Python program to find the largest of three numbers."
   ]
  },
  {
   "cell_type": "code",
   "execution_count": null,
   "metadata": {},
   "outputs": [],
   "source": [
    "# Your code here\n",
    "num1 = int(input(\"Enter First Number :\"))\n",
    "num2 = int(input(\"Enter Second Number :\"))\n",
    "num3 = int(input(\"Enter Third Number :\"))\n",
    "\n",
    "if (num1 > num2) and (num1 > num3):\n",
    "    largest = num1\n",
    "elif (num2 > num1) and (num2 > num3):\n",
    "    largest = num2\n",
    "else:\n",
    "    largest = num3\n",
    "\n",
    "print(f\"The largest Number is {largest}\")"
   ]
  },
  {
   "cell_type": "markdown",
   "metadata": {},
   "source": [
    "**Question 5:** Write a Python program to calculate the factorial of a number."
   ]
  },
  {
   "cell_type": "code",
   "execution_count": null,
   "metadata": {},
   "outputs": [],
   "source": [
    "# Your code here\n",
    "num = int(input(\"Enter a Number : \"))\n",
    "factorial = 1\n",
    "if num < 0:\n",
    "    print(\"Factorial does not exit for negative number.\")\n",
    "elif num == 0:\n",
    "    print(\"The Factorial of 0 is 1.\")\n",
    "else:\n",
    "    for i in range(2, num + 1):\n",
    "        factorial *= i\n",
    "    print(f\"The factorial of {num} is {factorial}\")"
   ]
  },
  {
   "cell_type": "code",
   "execution_count": 2,
   "metadata": {},
   "outputs": [
    {
     "name": "stdout",
     "output_type": "stream",
     "text": [
      "The Factorial of 5 is 120\n"
     ]
    }
   ],
   "source": [
    "num = int(input(\"Enter Any Number :\"))\n",
    "\n",
    "factorial = 1\n",
    "\n",
    "if num < 0:\n",
    "    print(f\"Factorial does not exit for negative number.\")\n",
    "elif num == 1:\n",
    "    print(f\"The factorial of 0 is 1.\")\n",
    "else:\n",
    "    for i in range(2, num + 1):\n",
    "        factorial *= i\n",
    "    print(f\"The Factorial of {num} is {factorial}\")"
   ]
  },
  {
   "cell_type": "markdown",
   "metadata": {},
   "source": [
    "## 2. Variables and Data Types\n",
    "\n",
    "**Question 6:** Create variables of different data types: integer, float, string, and boolean. Print their values and types."
   ]
  },
  {
   "cell_type": "code",
   "execution_count": null,
   "metadata": {},
   "outputs": [],
   "source": [
    "# Your code here\n",
    "integer_var = 10\n",
    "float_var = 10.9\n",
    "complex_var = 10+0j\n",
    "string_var = 'vishal'\n",
    "boolean_var = True\n",
    "\n",
    "print(integer_var)\n",
    "print(type(integer_var))\n",
    "print()\n",
    "print(float_var)\n",
    "print(type(float_var))\n",
    "print()\n",
    "print(complex_var)\n",
    "print(type(complex_var))\n",
    "print()\n",
    "print(string_var)\n",
    "print(type(string_var))\n",
    "print()\n",
    "print(boolean_var)\n",
    "print(type(boolean_var))"
   ]
  },
  {
   "cell_type": "markdown",
   "metadata": {},
   "source": [
    "**Question 7:** Write a Python program to swap the values of two variables."
   ]
  },
  {
   "cell_type": "code",
   "execution_count": null,
   "metadata": {},
   "outputs": [],
   "source": [
    "# Your code here\n",
    "num1 = int(input(\"Enter First Number :\"))\n",
    "num2 = int(input(\"Enter Second Number :\"))\n",
    "\n",
    "print(f\"Before swap : num1 = {num1} , num2 = {num2}\")\n",
    "\n",
    "num1, num2 = num2, num1\n",
    "print(f\"After Swap : num1 = {num1}, num2 = {num2}\")"
   ]
  },
  {
   "cell_type": "markdown",
   "metadata": {},
   "source": [
    "**Question 8:** Write a Python program to convert Celsius to Fahrenheit."
   ]
  },
  {
   "cell_type": "code",
   "execution_count": null,
   "metadata": {},
   "outputs": [],
   "source": [
    "# Your code here\n",
    "celsius = float(input(\"Enter temperature in Celsius : \"))\n",
    "fahrenheit = (celsius * 9/5) + 32\n",
    "\n",
    "print(f\"{celsius}°C is equal to {fahrenheit}°F\")"
   ]
  },
  {
   "cell_type": "markdown",
   "metadata": {},
   "source": [
    "**Question 9:** Write a Python program to concatenate two strings."
   ]
  },
  {
   "cell_type": "code",
   "execution_count": null,
   "metadata": {},
   "outputs": [],
   "source": [
    "# Your code here\n",
    "string1 = input(\"Enter a String :\")\n",
    "string2 = input(\"Enter a String :\")\n",
    "\n",
    "concatenate_string = string1+ \" \" +string2\n",
    "print(concatenate_string)"
   ]
  },
  {
   "cell_type": "markdown",
   "metadata": {},
   "source": [
    "**Question 10:** Write a Python program to check if a variable is of a specific data type."
   ]
  },
  {
   "cell_type": "code",
   "execution_count": 5,
   "metadata": {},
   "outputs": [
    {
     "name": "stdout",
     "output_type": "stream",
     "text": [
      "40.5 is float.\n"
     ]
    }
   ],
   "source": [
    "# Your code here\n",
    "var = float(input(\"Enter The Float Value :\"))\n",
    "\n",
    "if isinstance(var, float):\n",
    "    print(f\"{var} is float.\")\n",
    "else:\n",
    "    print(f\"{var} is Not Float.\")"
   ]
  },
  {
   "cell_type": "markdown",
   "metadata": {},
   "source": [
    "## 3. Basic Operators (Arithmetic, Comparison, Logical)\n",
    "\n",
    "**Question 11:** Write a Python program to perform arithmetic operations: addition, subtraction, multiplication, and division."
   ]
  },
  {
   "cell_type": "code",
   "execution_count": 6,
   "metadata": {},
   "outputs": [
    {
     "name": "stdout",
     "output_type": "stream",
     "text": [
      "Addition : 10 + 5 = 15\n",
      "subtraction : 10 - 5 = 5\n",
      "multiplication : 10 * 5 = 50\n",
      "division : 10 / 5 = 2.0\n"
     ]
    }
   ],
   "source": [
    "# Your code here\n",
    "num1 = int(input(\"Enter Any Number :\"))\n",
    "num2 = int(input(\"Enter Any Number :\"))\n",
    "\n",
    "print(f\"Addition : {num1} + {num2} = {num1 + num2}\")\n",
    "print(f\"subtraction : {num1} - {num2} = {num1 - num2}\")\n",
    "print(f\"multiplication : {num1} * {num2} = {num1 * num2}\")\n",
    "print(f\"division : {num1} / {num2} = {num1 / num2}\")"
   ]
  },
  {
   "cell_type": "markdown",
   "metadata": {},
   "source": [
    "**Question 12:** Write a Python program to demonstrate comparison operators: equal to, not equal to, greater than, less than."
   ]
  },
  {
   "cell_type": "code",
   "execution_count": 7,
   "metadata": {},
   "outputs": [
    {
     "name": "stdout",
     "output_type": "stream",
     "text": [
      "Equal to : 30 == 50 = False\n",
      "Not Equal to : 30 != 50 = True\n",
      "Greater Than : 30 > 50 = False\n",
      "Less Than : 30 < 50 = True\n"
     ]
    }
   ],
   "source": [
    "# Your code here\n",
    "num1 = int(input(\"Enter Any Number :\"))\n",
    "num2 = int(input(\"Enter Any Number :\"))\n",
    "\n",
    "print(f\"Equal to : {num1} == {num2} = {num1 == num2}\")\n",
    "print(f\"Not Equal to : {num1} != {num2} = {num1 != num2}\")\n",
    "print(f\"Greater Than : {num1} > {num2} = {num1 > num2}\")\n",
    "print(f\"Less Than : {num1} < {num2} = {num1 < num2}\")"
   ]
  },
  {
   "cell_type": "markdown",
   "metadata": {},
   "source": [
    "**Question 13:** Write a Python program to demonstrate logical operators: and, or, not."
   ]
  },
  {
   "cell_type": "code",
   "execution_count": 8,
   "metadata": {},
   "outputs": [
    {
     "name": "stdout",
     "output_type": "stream",
     "text": [
      "AND : True and False = False\n",
      "OR : True or False = True\n",
      "Not True : False\n",
      "Not False : True\n"
     ]
    }
   ],
   "source": [
    "# Your code here\n",
    "var1 = True\n",
    "var2 = False\n",
    "\n",
    "print(f\"AND : {var1} and {var2} = {var1 and var2}\")\n",
    "print(f\"OR : {var1} or {var2} = {var1 or var2}\")\n",
    "print(f\"Not True : {not var1}\")\n",
    "print(f\"Not False : {not var2}\")"
   ]
  },
  {
   "cell_type": "markdown",
   "metadata": {},
   "source": [
    "**Question 14:** Write a Python program to calculate the square of a number."
   ]
  },
  {
   "cell_type": "code",
   "execution_count": 12,
   "metadata": {},
   "outputs": [
    {
     "name": "stdout",
     "output_type": "stream",
     "text": [
      "The Square of 4 = 16\n"
     ]
    }
   ],
   "source": [
    "# Your code here\n",
    "num = int(input(\"Enter Any Number :\"))\n",
    "square = num ** 2\n",
    "print(f\"The Square of {num} = {square}\")"
   ]
  },
  {
   "cell_type": "markdown",
   "metadata": {},
   "source": [
    "**Question 15:** Write a Python program to check if a number is even or odd."
   ]
  },
  {
   "cell_type": "code",
   "execution_count": 14,
   "metadata": {},
   "outputs": [
    {
     "name": "stdout",
     "output_type": "stream",
     "text": [
      "49 is odd\n"
     ]
    }
   ],
   "source": [
    "# Your code here\n",
    "num = int(input(\"Enter Any Number :\"))\n",
    "\n",
    "if num % 2 == 0:\n",
    "    print(f\"{num} is Even\")\n",
    "else:\n",
    "    print(f\"{num} is odd\")"
   ]
  },
  {
   "cell_type": "markdown",
   "metadata": {},
   "source": [
    "**Question 16:** Write a Python program to find the sum of the first n natural numbers."
   ]
  },
  {
   "cell_type": "code",
   "execution_count": 15,
   "metadata": {},
   "outputs": [
    {
     "name": "stdout",
     "output_type": "stream",
     "text": [
      "The Sum of First 10 Natural Number is 55\n"
     ]
    }
   ],
   "source": [
    "# Your code here\n",
    "num = int(input(\"Enter Any Number :\"))\n",
    "sum_n = (num * (num + 1)) // 2\n",
    "print(f\"The Sum of First {num} Natural Number is {sum_n}\")"
   ]
  },
  {
   "cell_type": "markdown",
   "metadata": {},
   "source": [
    "**Question 17:** Write a Python program to check if a year is a leap year."
   ]
  },
  {
   "cell_type": "code",
   "execution_count": 16,
   "metadata": {},
   "outputs": [
    {
     "name": "stdout",
     "output_type": "stream",
     "text": [
      "2033 is not leap year.\n"
     ]
    }
   ],
   "source": [
    "# Your code here\n",
    "year = int(input(\"Enter Any Year :\"))\n",
    "\n",
    "if (year % 4 == 0 and year % 100 != 0) or (year % 400 == 0):\n",
    "    print(f\"{year} is a leap Year.\")\n",
    "else:\n",
    "    print(f\"{year} is not leap year.\")"
   ]
  },
  {
   "cell_type": "markdown",
   "metadata": {},
   "source": [
    "**Question 18:** Write a Python program to reverse a string."
   ]
  },
  {
   "cell_type": "code",
   "execution_count": 17,
   "metadata": {},
   "outputs": [
    {
     "name": "stdout",
     "output_type": "stream",
     "text": [
      "The Reverse String is : lahsiv\n"
     ]
    }
   ],
   "source": [
    "# Your code here\n",
    "string = input(\"Enter Any String :\")\n",
    "reverse_string = string[::-1]\n",
    "print(f\"The Reverse String is : {reverse_string}\")"
   ]
  },
  {
   "cell_type": "markdown",
   "metadata": {},
   "source": [
    "**Question 19:** Write a Python program to check if a string is a palindrome."
   ]
  },
  {
   "cell_type": "code",
   "execution_count": 18,
   "metadata": {},
   "outputs": [
    {
     "name": "stdout",
     "output_type": "stream",
     "text": [
      "man is Not palindrome.\n"
     ]
    }
   ],
   "source": [
    "# Your code here\n",
    "string = input(\"Enter Any String :\")\n",
    "if string == string[::-1]:\n",
    "    print(f\"{string} is palindrome.\")\n",
    "else:\n",
    "    print(f\"{string} is Not palindrome.\")"
   ]
  },
  {
   "cell_type": "markdown",
   "metadata": {},
   "source": [
    "**Question 20:** Write a Python program to sort a list of numbers in ascending order."
   ]
  },
  {
   "cell_type": "code",
   "execution_count": 19,
   "metadata": {},
   "outputs": [
    {
     "name": "stdout",
     "output_type": "stream",
     "text": [
      "Sorted list: [3, 4, 5, 6, 6, 6, 22, 34, 43]\n"
     ]
    }
   ],
   "source": [
    "# Your code here\n",
    "num = [int(x) for x in input(\"Enter Number separated by spaces :\").split()]\n",
    "num.sort()\n",
    "print(f\"Sorted list: {num}\")"
   ]
  },
  {
   "cell_type": "code",
   "execution_count": null,
   "metadata": {},
   "outputs": [],
   "source": []
  }
 ],
 "metadata": {
  "kernelspec": {
   "display_name": "Python 3",
   "language": "python",
   "name": "python3"
  },
  "language_info": {
   "codemirror_mode": {
    "name": "ipython",
    "version": 3
   },
   "file_extension": ".py",
   "mimetype": "text/x-python",
   "name": "python",
   "nbconvert_exporter": "python",
   "pygments_lexer": "ipython3",
   "version": "3.12.0"
  }
 },
 "nbformat": 4,
 "nbformat_minor": 4
}
