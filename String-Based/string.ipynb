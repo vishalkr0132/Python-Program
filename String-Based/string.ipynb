{
 "cells": [
  {
   "cell_type": "markdown",
   "metadata": {},
   "source": [
    "# Write a Python function to reverse a string without using built-in methods."
   ]
  },
  {
   "cell_type": "code",
   "execution_count": null,
   "metadata": {},
   "outputs": [
    {
     "name": "stdout",
     "output_type": "stream",
     "text": [
      "!dlroW ,olleH\n"
     ]
    }
   ],
   "source": [
    "def reverse_string(s):\n",
    "    reversed_str = \"\"\n",
    "    \n",
    "    for i in s:\n",
    "        reversed_str = i + reversed_str\n",
    "    return reversed_str\n",
    "\n",
    "string = \"Hello, World!\"\n",
    "print(reverse_string(string))"
   ]
  },
  {
   "cell_type": "markdown",
   "metadata": {},
   "source": [
    "# Implement a function to check if a given string is a palindrome."
   ]
  },
  {
   "cell_type": "code",
   "execution_count": null,
   "metadata": {},
   "outputs": [
    {
     "name": "stdout",
     "output_type": "stream",
     "text": [
      "True\n",
      "False\n"
     ]
    }
   ],
   "source": [
    "def palindrome(s):\n",
    "    length = len(s)\n",
    "    for i in range(length // 2):\n",
    "        if s[i] != s[length - 1 - i]:\n",
    "            return False\n",
    "    return True\n",
    "input_str = \"madam\"\n",
    "print(palindrome(input_str))\n",
    "\n",
    "input_str = \"hello\"\n",
    "print(palindrome(input_str)) "
   ]
  },
  {
   "cell_type": "markdown",
   "metadata": {},
   "source": [
    "# Write a function to find the first non-repeating character in a string."
   ]
  },
  {
   "cell_type": "code",
   "execution_count": 4,
   "metadata": {},
   "outputs": [
    {
     "name": "stdout",
     "output_type": "stream",
     "text": [
      "l\n",
      "w\n"
     ]
    }
   ],
   "source": [
    "def first_non_repeating_char(s):\n",
    "    count = {}\n",
    "    for i in s:\n",
    "        if i in count:\n",
    "            count[i] += 1\n",
    "        else:\n",
    "            count[i] = 1\n",
    "            \n",
    "    for i in s:\n",
    "        if count[i] == 1:\n",
    "            return i\n",
    "    return None\n",
    "\n",
    "string = \"google\"\n",
    "print(first_non_repeating_char(string))\n",
    "\n",
    "input_str = \"swiss\"\n",
    "print(first_non_repeating_char(input_str)) "
   ]
  },
  {
   "cell_type": "markdown",
   "metadata": {},
   "source": [
    "# Implement a function to determine if two strings are anagrams of each other."
   ]
  },
  {
   "cell_type": "code",
   "execution_count": 5,
   "metadata": {},
   "outputs": [
    {
     "name": "stdout",
     "output_type": "stream",
     "text": [
      "True\n",
      "s2 contains characters not in s1\n"
     ]
    }
   ],
   "source": [
    "def anagrams(s1, s2):\n",
    "    if len(s1) != len(s2):\n",
    "        return \"lengths are not equal, they can't be anagrams\"\n",
    "    count = {}\n",
    "    for i in s1:\n",
    "        if i in count:\n",
    "            count[i] += 1\n",
    "        else:\n",
    "            count[i] = 1\n",
    "    for i in s2:\n",
    "        if i in count:\n",
    "            count[i] -= 1\n",
    "        else:\n",
    "            return \"s2 contains characters not in s1\"\n",
    "    for v in count.values():\n",
    "        if v != 0:\n",
    "            return \"False\"\n",
    "    return \"True\"\n",
    "\n",
    "str1 = \"listen\"\n",
    "str2 = \"silent\"\n",
    "print(anagrams(str1, str2))  \n",
    "\n",
    "str1 = \"hello\"\n",
    "str2 = \"world\"\n",
    "print(anagrams(str1, str2))\n",
    "        "
   ]
  },
  {
   "cell_type": "code",
   "execution_count": null,
   "metadata": {},
   "outputs": [],
   "source": []
  }
 ],
 "metadata": {
  "kernelspec": {
   "display_name": "Python 3",
   "language": "python",
   "name": "python3"
  },
  "language_info": {
   "codemirror_mode": {
    "name": "ipython",
    "version": 3
   },
   "file_extension": ".py",
   "mimetype": "text/x-python",
   "name": "python",
   "nbconvert_exporter": "python",
   "pygments_lexer": "ipython3",
   "version": "3.13.0"
  }
 },
 "nbformat": 4,
 "nbformat_minor": 2
}
