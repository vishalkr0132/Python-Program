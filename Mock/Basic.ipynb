{
 "cells": [
  {
   "cell_type": "markdown",
   "metadata": {},
   "source": [
    "# WAP to check given string ending with char 'a'."
   ]
  },
  {
   "cell_type": "code",
   "execution_count": 3,
   "metadata": {},
   "outputs": [
    {
     "name": "stdout",
     "output_type": "stream",
     "text": [
      "The string Not end with 'a'\n"
     ]
    }
   ],
   "source": [
    "string = input('Enter s string :')\n",
    "if len(string) > 0 and string[-1] == 'a':\n",
    "    print(\"The string end with 'a'\")\n",
    "else:\n",
    "    print(\"The string Not end with 'a'\")"
   ]
  },
  {
   "cell_type": "markdown",
   "metadata": {},
   "source": [
    "# Consider a string input and Check whether ASCII value of the first character is even or odd."
   ]
  },
  {
   "cell_type": "code",
   "execution_count": 6,
   "metadata": {},
   "outputs": [
    {
     "name": "stdout",
     "output_type": "stream",
     "text": [
      "The ASCII value of the first character is even\n"
     ]
    }
   ],
   "source": [
    "string = input('Enter a character')\n",
    "if len(string) > 0:\n",
    "    for char in string:\n",
    "        if ord(char) % 2 == 0:\n",
    "            print('The ASCII value of the first character is even')\n",
    "        else:\n",
    "            print('The ASCII value of the first character is odd')\n",
    "else:\n",
    "    print('Empty string')"
   ]
  },
  {
   "cell_type": "markdown",
   "metadata": {},
   "source": [
    "# WAP to print the 1st value of tuple only if it is a string."
   ]
  },
  {
   "cell_type": "code",
   "execution_count": 8,
   "metadata": {},
   "outputs": [
    {
     "name": "stdout",
     "output_type": "stream",
     "text": [
      "The first element is a string : vishal\n"
     ]
    }
   ],
   "source": [
    "tup = ('vishal',42,3.14)\n",
    "if type(tup) == tuple:\n",
    "    if len(tup) > 0:\n",
    "        if type(tup[0]) == str:\n",
    "            print('The first element is a string :',tup[0])\n",
    "        else:\n",
    "            print('The first element is not a string')"
   ]
  },
  {
   "cell_type": "code",
   "execution_count": 13,
   "metadata": {},
   "outputs": [
    {
     "name": "stdout",
     "output_type": "stream",
     "text": [
      "The first element is a string vishal\n"
     ]
    }
   ],
   "source": [
    "tup = ('vishal',42,3.14)\n",
    "if type(tup) == tuple:\n",
    "    if len(tup) > 0:\n",
    "        for char in tup[0]:\n",
    "            if 65 <= ord(char) <= 90 or 97 <= ord(char) <= 122:\n",
    "                print('The first element is a string',tup[0])\n",
    "                break\n",
    "            else:\n",
    "                print('The first element is not a string')"
   ]
  },
  {
   "cell_type": "markdown",
   "metadata": {},
   "source": [
    "# WAP to print 1st value of a tuple only if it is a string having length more 5 and string should be in palindrome."
   ]
  },
  {
   "cell_type": "code",
   "execution_count": 17,
   "metadata": {},
   "outputs": [
    {
     "name": "stdout",
     "output_type": "stream",
     "text": [
      "The first element is a string of length more than 5 and is a palindrome: madam\n"
     ]
    }
   ],
   "source": [
    "t = ('madam', 42, 3.14)\n",
    "\n",
    "# Check if the input is a tuple\n",
    "if type(t) == tuple:\n",
    "    if len(t) > 0:\n",
    "        value = t[0]\n",
    "        # Check if the first element is a string\n",
    "        if type(value) == str:\n",
    "            # Check if the string's length is more than 5\n",
    "            if len(value) > 5:\n",
    "                # Check if the string is a palindrome\n",
    "                if value == value[::-1]:\n",
    "                    print('The first element is a string of length more than 5 and is a palindrome:', value)\n",
    "                else:\n",
    "                    print('The first element is a string of length more than 5 but is not a palindrome')\n",
    "            else:\n",
    "                print('The first element is a string but its length is 5 or less')\n",
    "        else:\n",
    "            print('The first element is not a string')\n",
    "    else:\n",
    "        print('The tuple is empty')\n",
    "else:\n",
    "    print('The given input is not a tuple')\n"
   ]
  },
  {
   "cell_type": "markdown",
   "metadata": {},
   "source": [
    "# WAP to print middle value of a list only if it is a string."
   ]
  },
  {
   "cell_type": "code",
   "execution_count": 21,
   "metadata": {},
   "outputs": [
    {
     "name": "stdout",
     "output_type": "stream",
     "text": [
      "the middle element is string\n"
     ]
    }
   ],
   "source": [
    "lst = [1, 'vishal', 3.14]\n",
    "if type(lst) == list:\n",
    "    if len(lst) > 0:\n",
    "        middle_index = len(lst) // 2\n",
    "        if type(lst[middle_index]) == str:\n",
    "            print('the middle element is string')\n",
    "        else:\n",
    "            print('the middle element is not string')\n",
    "    else:\n",
    "        print('The list is empty')\n",
    "else:\n",
    "    print('the given input is not a list')"
   ]
  },
  {
   "cell_type": "markdown",
   "metadata": {},
   "source": [
    "# wap to extract all int elements present at odd index only if it is a having excatly 2 digits and it is even from the list(for loop)"
   ]
  },
  {
   "cell_type": "code",
   "execution_count": 22,
   "metadata": {},
   "outputs": [
    {
     "name": "stdout",
     "output_type": "stream",
     "text": [
      "Extracted elements: [56, 78, 44]\n"
     ]
    }
   ],
   "source": [
    "lst = [12, 101, 34, 56, 'vishal', 78, 9, 44, 3.13, 67, 28, 99]\n",
    "even_index_values = []\n",
    "for i in range(len(lst)):\n",
    "    if i % 2 != 0:\n",
    "        if type(lst[i]) == int:\n",
    "            if 10 <= lst[i] <= 99 and lst[i] % 2 == 0:\n",
    "                even_index_values.append(lst[i])\n",
    "print(\"Extracted elements:\", even_index_values)"
   ]
  },
  {
   "cell_type": "code",
   "execution_count": null,
   "metadata": {},
   "outputs": [],
   "source": []
  }
 ],
 "metadata": {
  "kernelspec": {
   "display_name": "Python 3",
   "language": "python",
   "name": "python3"
  },
  "language_info": {
   "codemirror_mode": {
    "name": "ipython",
    "version": 3
   },
   "file_extension": ".py",
   "mimetype": "text/x-python",
   "name": "python",
   "nbconvert_exporter": "python",
   "pygments_lexer": "ipython3",
   "version": "3.13.0"
  }
 },
 "nbformat": 4,
 "nbformat_minor": 2
}
