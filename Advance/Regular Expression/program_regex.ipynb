{
 "cells": [
  {
   "cell_type": "markdown",
   "metadata": {},
   "source": [
    "# WAP to check given email id is valid or not valid using regular expression."
   ]
  },
  {
   "cell_type": "code",
   "execution_count": 6,
   "metadata": {},
   "outputs": [
    {
     "name": "stdout",
     "output_type": "stream",
     "text": [
      "Valid email: vishalgupta.itcs@gmail.com\n"
     ]
    }
   ],
   "source": [
    "import re\n",
    "def valid_email(email):\n",
    "    pattern = r\"[a-zA-Z0-9]+@[a-zA-Z]+\\.(com|in|edu|org)\"\n",
    "    res = re.search(pattern, email)\n",
    "    if res:\n",
    "        return f\"Valid email: {email}\"\n",
    "    return f\"Invalid email: {email}\"\n",
    "\n",
    "email = input(\"Enter an email: \")\n",
    "print(valid_email(email))"
   ]
  },
  {
   "cell_type": "code",
   "execution_count": 1,
   "metadata": {},
   "outputs": [
    {
     "name": "stdout",
     "output_type": "stream",
     "text": [
      "Valid email.\n"
     ]
    }
   ],
   "source": [
    "import re\n",
    "def valid_email(email):\n",
    "    pattern = r'^[a-zA-Z0-9._%+-]+@[a-zA-Z0-9.-]+\\.[a-zA-Z]{2,}$'\n",
    "    if re.match(pattern, email):\n",
    "        return True\n",
    "    else:\n",
    "        return False\n",
    "\n",
    "email = input(\"Enter an email: \")\n",
    "\n",
    "if valid_email(email):\n",
    "    print(\"Valid email.\")\n",
    "else:\n",
    "    print(\"Invalid email.\")"
   ]
  },
  {
   "cell_type": "code",
   "execution_count": null,
   "metadata": {},
   "outputs": [],
   "source": []
  }
 ],
 "metadata": {
  "kernelspec": {
   "display_name": "Python 3",
   "language": "python",
   "name": "python3"
  },
  "language_info": {
   "codemirror_mode": {
    "name": "ipython",
    "version": 3
   },
   "file_extension": ".py",
   "mimetype": "text/x-python",
   "name": "python",
   "nbconvert_exporter": "python",
   "pygments_lexer": "ipython3",
   "version": "3.13.0"
  }
 },
 "nbformat": 4,
 "nbformat_minor": 2
}
