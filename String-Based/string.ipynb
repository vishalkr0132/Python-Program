{
 "cells": [
  {
   "cell_type": "markdown",
   "metadata": {},
   "source": [
    "# Write a Python function to reverse a string without using built-in methods."
   ]
  },
  {
   "cell_type": "code",
   "execution_count": null,
   "metadata": {},
   "outputs": [
    {
     "name": "stdout",
     "output_type": "stream",
     "text": [
      "!dlroW ,olleH\n"
     ]
    }
   ],
   "source": [
    "def reverse_string(s):\n",
    "    reversed_str = \"\"\n",
    "    \n",
    "    for i in s:\n",
    "        reversed_str = i + reversed_str\n",
    "    return reversed_str\n",
    "\n",
    "string = \"Hello, World!\"\n",
    "print(reverse_string(string))"
   ]
  },
  {
   "cell_type": "markdown",
   "metadata": {},
   "source": [
    "# Implement a function to check if a given string is a palindrome."
   ]
  },
  {
   "cell_type": "code",
   "execution_count": null,
   "metadata": {},
   "outputs": [
    {
     "name": "stdout",
     "output_type": "stream",
     "text": [
      "True\n",
      "False\n"
     ]
    }
   ],
   "source": [
    "def palindrome(s):\n",
    "    length = len(s)\n",
    "    for i in range(length // 2):\n",
    "        if s[i] != s[length - 1 - i]:\n",
    "            return False\n",
    "    return True\n",
    "input_str = \"madam\"\n",
    "print(palindrome(input_str))\n",
    "\n",
    "input_str = \"hello\"\n",
    "print(palindrome(input_str)) "
   ]
  },
  {
   "cell_type": "markdown",
   "metadata": {},
   "source": [
    "# Write a function to find the first non-repeating character in a string."
   ]
  },
  {
   "cell_type": "code",
   "execution_count": 4,
   "metadata": {},
   "outputs": [
    {
     "name": "stdout",
     "output_type": "stream",
     "text": [
      "l\n",
      "w\n"
     ]
    }
   ],
   "source": [
    "def first_non_repeating_char(s):\n",
    "    count = {}\n",
    "    for i in s:\n",
    "        if i in count:\n",
    "            count[i] += 1\n",
    "        else:\n",
    "            count[i] = 1\n",
    "            \n",
    "    for i in s:\n",
    "        if count[i] == 1:\n",
    "            return i\n",
    "    return None\n",
    "\n",
    "string = \"google\"\n",
    "print(first_non_repeating_char(string))\n",
    "\n",
    "input_str = \"swiss\"\n",
    "print(first_non_repeating_char(input_str)) "
   ]
  },
  {
   "cell_type": "markdown",
   "metadata": {},
   "source": [
    "# Implement a function to determine if two strings are anagrams of each other."
   ]
  },
  {
   "cell_type": "code",
   "execution_count": 5,
   "metadata": {},
   "outputs": [
    {
     "name": "stdout",
     "output_type": "stream",
     "text": [
      "True\n",
      "s2 contains characters not in s1\n"
     ]
    }
   ],
   "source": [
    "def anagrams(s1, s2):\n",
    "    if len(s1) != len(s2):\n",
    "        return \"lengths are not equal, they can't be anagrams\"\n",
    "    count = {}\n",
    "    for i in s1:\n",
    "        if i in count:\n",
    "            count[i] += 1\n",
    "        else:\n",
    "            count[i] = 1\n",
    "    for i in s2:\n",
    "        if i in count:\n",
    "            count[i] -= 1\n",
    "        else:\n",
    "            return \"s2 contains characters not in s1\"\n",
    "    for v in count.values():\n",
    "        if v != 0:\n",
    "            return \"False\"\n",
    "    return \"True\"\n",
    "\n",
    "str1 = \"listen\"\n",
    "str2 = \"silent\"\n",
    "print(anagrams(str1, str2))  \n",
    "\n",
    "str1 = \"hello\"\n",
    "str2 = \"world\"\n",
    "print(anagrams(str1, str2))\n",
    "        "
   ]
  },
  {
   "cell_type": "markdown",
   "metadata": {},
   "source": [
    "# Write a function to count the occurrence of each character in a string."
   ]
  },
  {
   "cell_type": "code",
   "execution_count": 2,
   "metadata": {},
   "outputs": [
    {
     "name": "stdout",
     "output_type": "stream",
     "text": [
      "I: 2\n",
      " : 7\n",
      "a: 4\n",
      "m: 2\n",
      "n: 3\n",
      "o: 1\n",
      "t: 2\n",
      "d: 2\n",
      "g: 2\n",
      "e: 3\n",
      "r: 2\n",
      ",: 1\n",
      "h: 1\n",
      "!: 1\n",
      "None\n"
     ]
    }
   ],
   "source": [
    "def count_of_occur(strings):\n",
    "    count = {}\n",
    "    \n",
    "    for i in strings:\n",
    "        if i in count:\n",
    "            count[i] += 1\n",
    "        else:\n",
    "            count[i] = 1\n",
    "            \n",
    "    for char in count:\n",
    "        print(f\"{char}: {count[char]}\")\n",
    "\n",
    "strings = \"I am not danger, I am the danger!\"\n",
    "print(count_of_occur(strings))"
   ]
  },
  {
   "cell_type": "markdown",
   "metadata": {},
   "source": [
    "# Implement a function that checks if a string has all unique characters without using additional data structures."
   ]
  },
  {
   "cell_type": "code",
   "execution_count": 3,
   "metadata": {},
   "outputs": [
    {
     "name": "stdout",
     "output_type": "stream",
     "text": [
      "True\n"
     ]
    }
   ],
   "source": [
    "def unique_char(strings):\n",
    "    \n",
    "    for i in range(len(strings)):\n",
    "        for j in range(i + 1, len(strings)):\n",
    "            if strings[i] == strings[j]:\n",
    "                return False\n",
    "    return True\n",
    "\n",
    "strings = \"abcde\"\n",
    "print(unique_char(strings))"
   ]
  },
  {
   "cell_type": "markdown",
   "metadata": {},
   "source": [
    "# Write a function to remove all duplicates from a string."
   ]
  },
  {
   "cell_type": "code",
   "execution_count": 4,
   "metadata": {},
   "outputs": [
    {
     "name": "stdout",
     "output_type": "stream",
     "text": [
      "gole\n"
     ]
    }
   ],
   "source": [
    "def duplicate_remove(strings):\n",
    "    rev_string = \"\"\n",
    "    \n",
    "    for i in strings:\n",
    "        if i not in rev_string:\n",
    "            rev_string += i\n",
    "    return rev_string\n",
    "\n",
    "string = \"google\"\n",
    "print(duplicate_remove(string))"
   ]
  },
  {
   "cell_type": "markdown",
   "metadata": {},
   "source": [
    "# Implement a function to capitalize the first letter of each word in a sentence without using built-in methods."
   ]
  },
  {
   "cell_type": "code",
   "execution_count": 5,
   "metadata": {},
   "outputs": [
    {
     "name": "stdout",
     "output_type": "stream",
     "text": [
      "I Am Not Danger, I Am The Danger!\n"
     ]
    }
   ],
   "source": [
    "def capitalize_word(strings):\n",
    "    result = \"\"\n",
    "    \n",
    "    for i in range(len(strings)):\n",
    "        if (i == 0 or strings[i - 1] == \" \") and 'a' <= strings[i] <= 'z':\n",
    "            result += chr(ord(strings[i]) - 32)\n",
    "        else:\n",
    "            result += strings[i]\n",
    "    return result\n",
    "\n",
    "string = 'I am not danger, I am the danger!'\n",
    "print(capitalize_word(string))"
   ]
  },
  {
   "cell_type": "markdown",
   "metadata": {},
   "source": [
    "# Write a function to find the longest word in a sentence."
   ]
  },
  {
   "cell_type": "code",
   "execution_count": 7,
   "metadata": {},
   "outputs": [
    {
     "name": "stdout",
     "output_type": "stream",
     "text": [
      "danger,\n"
     ]
    }
   ],
   "source": [
    "def longest(strings):\n",
    "    string = strings.split()\n",
    "    longest_word = ''\n",
    "    for i in string:\n",
    "        if len(i) > len(longest_word):\n",
    "            longest_word = i\n",
    "    return longest_word\n",
    "\n",
    "string = \"I am not danger, I am the danger!\"\n",
    "print(longest(string))"
   ]
  },
  {
   "cell_type": "markdown",
   "metadata": {},
   "source": [
    "# Implement a function to check if one string is a rotation of another."
   ]
  },
  {
   "cell_type": "code",
   "execution_count": 3,
   "metadata": {},
   "outputs": [
    {
     "name": "stdout",
     "output_type": "stream",
     "text": [
      "True\n",
      "True\n",
      "True\n"
     ]
    }
   ],
   "source": [
    "def rotation(s1,s2):\n",
    "    if len(s2) != len(s2):\n",
    "        return False\n",
    "    \n",
    "    concatenate = s1 + s2\n",
    "    for i in range(len(concatenate) - len(s2) + 1):\n",
    "        for j in range(len(s2)):\n",
    "            if concatenate[i +j] != s2[j]:\n",
    "                break\n",
    "        else:\n",
    "            return True\n",
    "    return False\n",
    "\n",
    "s1 = \"abcde\"\n",
    "s2 = \"deabc\"\n",
    "print(rotation(s1, s2))\n",
    "\n",
    "s1 = \"abc\"\n",
    "s2 = \"cab\"\n",
    "print(rotation(s1, s2)) \n",
    "\n",
    "s1 = \"abc\"\n",
    "s2 = \"cba\"\n",
    "print(rotation(s1, s2)) "
   ]
  },
  {
   "cell_type": "markdown",
   "metadata": {},
   "source": [
    "# Write a function to find all substrings of a given string."
   ]
  },
  {
   "cell_type": "code",
   "execution_count": 4,
   "metadata": {},
   "outputs": [
    {
     "name": "stdout",
     "output_type": "stream",
     "text": [
      "['a', 'ab', 'abc', 'b', 'bc', 'c']\n"
     ]
    }
   ],
   "source": [
    "def find_substrings(strings):\n",
    "    substrings = []\n",
    "    \n",
    "    for i in range(len(strings)):\n",
    "        for j in range(i,len(strings)):\n",
    "            substring = ''\n",
    "            for k in range(i, j + 1):\n",
    "                substring += strings[k]\n",
    "            substrings.append(substring)\n",
    "    return substrings\n",
    "\n",
    "strings = \"abc\"\n",
    "print(find_substrings(strings))                "
   ]
  },
  {
   "cell_type": "markdown",
   "metadata": {},
   "source": [
    "# Implement a function to find the most common word in a paragraph or string of text."
   ]
  },
  {
   "cell_type": "code",
   "execution_count": 5,
   "metadata": {},
   "outputs": [
    {
     "name": "stdout",
     "output_type": "stream",
     "text": [
      "the\n"
     ]
    }
   ],
   "source": [
    "def most_common_word(text):\n",
    "    # Convert text to lowercase and initialize variables\n",
    "    text = text.lower()\n",
    "    word_counts = {}\n",
    "    word = \"\"\n",
    "\n",
    "    # Iterate over each character in the text\n",
    "    for char in text:\n",
    "        # Build the word by checking if the character is alphabetic\n",
    "        if 'a' <= char <= 'z':\n",
    "            word += char\n",
    "        else:\n",
    "            # If the word is not empty, add it to the dictionary\n",
    "            if word:\n",
    "                if word in word_counts:\n",
    "                    word_counts[word] += 1\n",
    "                else:\n",
    "                    word_counts[word] = 1\n",
    "                word = \"\"  # Reset word after adding it to dictionary\n",
    "\n",
    "    # Final check for the last word in case text doesn't end with punctuation\n",
    "    if word:\n",
    "        if word in word_counts:\n",
    "            word_counts[word] += 1\n",
    "        else:\n",
    "            word_counts[word] = 1\n",
    "\n",
    "    # Find the most common word\n",
    "    max_count = 0\n",
    "    common_word = \"\"\n",
    "    for w in word_counts:\n",
    "        if word_counts[w] > max_count:\n",
    "            max_count = word_counts[w]\n",
    "            common_word = w\n",
    "\n",
    "    return common_word\n",
    "\n",
    "# Test the function\n",
    "paragraph = \"The quick brown fox jumps over the lazy dog. The dog was not amused by the fox.\"\n",
    "print(most_common_word(paragraph))  # Output: \"the\"\n"
   ]
  },
  {
   "cell_type": "code",
   "execution_count": null,
   "metadata": {},
   "outputs": [],
   "source": []
  }
 ],
 "metadata": {
  "kernelspec": {
   "display_name": "Python 3",
   "language": "python",
   "name": "python3"
  },
  "language_info": {
   "codemirror_mode": {
    "name": "ipython",
    "version": 3
   },
   "file_extension": ".py",
   "mimetype": "text/x-python",
   "name": "python",
   "nbconvert_exporter": "python",
   "pygments_lexer": "ipython3",
   "version": "3.13.0"
  }
 },
 "nbformat": 4,
 "nbformat_minor": 2
}
