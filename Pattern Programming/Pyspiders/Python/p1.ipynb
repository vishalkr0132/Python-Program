{
 "cells": [
  {
   "cell_type": "code",
   "execution_count": 3,
   "metadata": {},
   "outputs": [
    {
     "name": "stdout",
     "output_type": "stream",
     "text": [
      "A * * * * \n",
      "$ B * * * \n",
      "$ $ C * * \n",
      "$ $ $ D * \n",
      "$ $ $ $ E \n"
     ]
    }
   ],
   "source": [
    "n = int(input('Enter the number of rows & cols:'))\n",
    "val = ord('A')\n",
    "for i in range(n):\n",
    "    for j in range(n):\n",
    "        if i == j:\n",
    "            print(chr(val), end = ' ')\n",
    "            val += 1\n",
    "            if val > ord('Z'):\n",
    "                val = ord('A')\n",
    "        elif i >= j:\n",
    "            print(\"$\", end = \" \")\n",
    "        else:\n",
    "            print(\"*\", end = \" \")\n",
    "    print()"
   ]
  },
  {
   "cell_type": "code",
   "execution_count": null,
   "metadata": {},
   "outputs": [],
   "source": [
    "n = int(input(\"Enter the number of rows & cols :\"))\n",
    "is_p = True\n",
    "val = 1\n",
    "char = ord('A')\n",
    "for i in range(n):\n",
    "    for j in range(n):\n",
    "        if is_p:\n",
    "            print(val, end = \" \")\n",
    "            val += 1\n",
    "            if val > 9:\n",
    "                val = 1\n",
    "            is_p = False\n",
    "        else:\n",
    "            print(chr(char), end = \" \")\n",
    "            char += 1\n",
    "            if char > ord('Z'):\n",
    "                char = ord('A')\n",
    "            is_p = True\n",
    "    print()"
   ]
  },
  {
   "cell_type": "code",
   "execution_count": 23,
   "metadata": {},
   "outputs": [
    {
     "name": "stdout",
     "output_type": "stream",
     "text": [
      "        1 \n",
      "      2 3 4 \n",
      "    5 6 7 8 9 \n",
      "  1 2 3 4 5 6 7 \n",
      "8 9 1 2 3 4 5 6 7 \n"
     ]
    }
   ],
   "source": [
    "n = int(input(\"Enter the number of rows & cols :\"))\n",
    "val = 1\n",
    "for i in range(n):\n",
    "    for j in range(n-1-i):\n",
    "        print(\" \", end = \" \")\n",
    "    for k in range(2*i + 1):\n",
    "        print(val, end = \" \")\n",
    "        val += 1\n",
    "        if val > 9:\n",
    "            val = 1\n",
    "    print()\n",
    "    "
   ]
  },
  {
   "cell_type": "code",
   "execution_count": 25,
   "metadata": {},
   "outputs": [
    {
     "name": "stdout",
     "output_type": "stream",
     "text": [
      "        A \n",
      "      B C D \n",
      "    E F G H I \n",
      "  J K L M N O P \n",
      "Q R S T U V W X Y \n"
     ]
    }
   ],
   "source": [
    "n = int(input(\"Enter the number of rows & cols :\"))\n",
    "val = ord('A')\n",
    "for i in range(n):\n",
    "    for j in range(n-1-i):\n",
    "        print(\" \", end = \" \")\n",
    "    for k in range(2*i + 1):\n",
    "        print(chr(val), end = \" \")\n",
    "        val += 1\n",
    "        if val > ord('Z'):\n",
    "            val = ord('A')\n",
    "    print()\n",
    "    "
   ]
  },
  {
   "cell_type": "code",
   "execution_count": 29,
   "metadata": {},
   "outputs": [
    {
     "name": "stdout",
     "output_type": "stream",
     "text": [
      "        A \n",
      "      A B C \n",
      "    A B C D E \n",
      "  A B C D E F G \n",
      "A B C D E F G H I \n"
     ]
    }
   ],
   "source": [
    "n = int(input(\"Enter the number of rows & cols :\"))\n",
    "for i in range(n):\n",
    "    val = ord('A')\n",
    "    for j in range(n-1-i):\n",
    "        print(\" \", end = \" \")\n",
    "    for k in range(2*i + 1):\n",
    "        print(chr(val), end = \" \")\n",
    "        val += 1\n",
    "        if val > ord('Z'):\n",
    "            val = ord('A')\n",
    "    print()\n",
    "    "
   ]
  },
  {
   "cell_type": "code",
   "execution_count": 37,
   "metadata": {},
   "outputs": [
    {
     "name": "stdout",
     "output_type": "stream",
     "text": [
      "* * * * * * * * * \n",
      "  * * * * * * * \n",
      "    * * * * * \n",
      "      * * * \n",
      "        * \n"
     ]
    }
   ],
   "source": [
    "n = int(input())\n",
    "for i in range(n-1,-1 ,-1):\n",
    "    for j in range(n-1-i):\n",
    "        print(\" \", end = \" \")\n",
    "    for k in range(2*i + 1):\n",
    "        print(\"*\", end = \" \")\n",
    "    print()\n"
   ]
  },
  {
   "cell_type": "code",
   "execution_count": 39,
   "metadata": {},
   "outputs": [
    {
     "name": "stdout",
     "output_type": "stream",
     "text": [
      "3 3 3 3 3 \n",
      "  2 2 2 \n",
      "    1 \n"
     ]
    }
   ],
   "source": [
    "n = int(input())\n",
    "val = n\n",
    "for i in range(n-1,-1 ,-1):\n",
    "    for j in range(n-1-i):\n",
    "        print(\" \", end = \" \")\n",
    "    for k in range(2*i + 1):\n",
    "        print(val, end = \" \")\n",
    "    print()\n",
    "    val -= 1\n"
   ]
  },
  {
   "cell_type": "code",
   "execution_count": 42,
   "metadata": {},
   "outputs": [
    {
     "name": "stdout",
     "output_type": "stream",
     "text": [
      "1 2 3 4 5 \n",
      "  1 2 3 \n",
      "    1 \n"
     ]
    }
   ],
   "source": [
    "n = int(input())\n",
    "for i in range(n-1,-1 ,-1):\n",
    "    val = 1\n",
    "    for j in range(n-1-i):\n",
    "        print(\" \", end = \" \")\n",
    "    for k in range(2*i + 1):\n",
    "        print(val, end = \" \")\n",
    "        val += 1\n",
    "    print()\n"
   ]
  },
  {
   "cell_type": "code",
   "execution_count": null,
   "metadata": {},
   "outputs": [],
   "source": []
  }
 ],
 "metadata": {
  "kernelspec": {
   "display_name": "Python 3",
   "language": "python",
   "name": "python3"
  },
  "language_info": {
   "codemirror_mode": {
    "name": "ipython",
    "version": 3
   },
   "file_extension": ".py",
   "mimetype": "text/x-python",
   "name": "python",
   "nbconvert_exporter": "python",
   "pygments_lexer": "ipython3",
   "version": "3.12.2"
  }
 },
 "nbformat": 4,
 "nbformat_minor": 2
}
