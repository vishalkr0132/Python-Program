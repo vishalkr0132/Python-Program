{
 "cells": [
  {
   "cell_type": "markdown",
   "metadata": {},
   "source": [
    "-> Create a class it should cantain method like my_string when a object is created a class should accept a input string of size N.\n",
    "\n",
    "When we call a method it should check length of a given string excluding special characters, it the length of a string is even convert vowles  into @ and it if is odd conver consonants into $"
   ]
  },
  {
   "cell_type": "code",
   "execution_count": 6,
   "metadata": {},
   "outputs": [
    {
     "ename": "TypeError",
     "evalue": "my_string() takes no arguments",
     "output_type": "error",
     "traceback": [
      "\u001b[1;31m---------------------------------------------------------------------------\u001b[0m",
      "\u001b[1;31mTypeError\u001b[0m                                 Traceback (most recent call last)",
      "Cell \u001b[1;32mIn[6], line 31\u001b[0m\n\u001b[0;32m     29\u001b[0m \u001b[38;5;66;03m# Test the function\u001b[39;00m\n\u001b[0;32m     30\u001b[0m val \u001b[38;5;241m=\u001b[39m \u001b[38;5;28minput\u001b[39m(\u001b[38;5;124m\"\u001b[39m\u001b[38;5;124mEnter the string :\u001b[39m\u001b[38;5;124m\"\u001b[39m)\n\u001b[1;32m---> 31\u001b[0m m1 \u001b[38;5;241m=\u001b[39m \u001b[43mmy_string\u001b[49m\u001b[43m(\u001b[49m\u001b[43mval\u001b[49m\u001b[43m)\u001b[49m\n\u001b[0;32m     32\u001b[0m m1\u001b[38;5;241m.\u001b[39mmystring()\n",
      "\u001b[1;31mTypeError\u001b[0m: my_string() takes no arguments"
     ]
    }
   ],
   "source": [
    "class my_string:\n",
    "    def __int__(self,val):\n",
    "        self.val = val\n",
    "        \n",
    "    def mystring(self):\n",
    "        count = 0\n",
    "        new_strings = \"\"\n",
    "        for i in self.val:\n",
    "            if i == ' ':\n",
    "                continue\n",
    "            count += 1\n",
    "            \n",
    "            if count % 2 == 0:\n",
    "                for i in self.val:\n",
    "                    if i == ' ':\n",
    "                        new_strings += i\n",
    "                    elif i in 'aeiouAEIOU':\n",
    "                        new_strings += '@'\n",
    "                    else:\n",
    "                        new_strings += i\n",
    "            else:\n",
    "                for i in self.val:\n",
    "                    if i not in 'aeiouAEIOU':\n",
    "                        new_strings += '$'\n",
    "                    else:\n",
    "                        new_strings += i\n",
    "        print(new_strings)\n",
    "        \n",
    "# Test the function\n",
    "val = input(\"Enter the string :\")\n",
    "m1 = my_string(val)\n",
    "m1.mystring()"
   ]
  },
  {
   "cell_type": "markdown",
   "metadata": {},
   "source": [
    "WAP to comparase the string into specific characters along with it's occurance integer .\n",
    "EX- aaaaabbcccdddddeefffgggghhiiii\n",
    "o/p:a5b2c3......"
   ]
  },
  {
   "cell_type": "code",
   "execution_count": 8,
   "metadata": {},
   "outputs": [
    {
     "name": "stdout",
     "output_type": "stream",
     "text": [
      "a4b2c3d5e2f3g4h2i4\n"
     ]
    }
   ],
   "source": [
    "def stringcomprase(s1):\n",
    "    s2 = \"\"\n",
    "    count = 0\n",
    "    for i in range(1,len(s1)):\n",
    "        if s1[i] == s1[i-1]:\n",
    "            count += 1\n",
    "        else:\n",
    "            if count > 0:\n",
    "                s2 += s1[i-1] + str(count)\n",
    "            count = 1\n",
    "    s2 += s1[len(s1)-1] + str(count)\n",
    "    print(s2)\n",
    "    \n",
    "stringcomprase(\"aaaaabbcccdddddeefffgggghhiiii\")"
   ]
  },
  {
   "cell_type": "markdown",
   "metadata": {},
   "source": [
    "WAP to display the string which is grater then given length."
   ]
  },
  {
   "cell_type": "code",
   "execution_count": 9,
   "metadata": {},
   "outputs": [
    {
     "name": "stdout",
     "output_type": "stream",
     "text": [
      "most violent called most violent \n"
     ]
    }
   ],
   "source": [
    "def graterstring(s1,n):\n",
    "    s2 = s1.split()\n",
    "    s3 = ''\n",
    "    for i in s2:\n",
    "        if len(i) > n:\n",
    "            s3 += i + ' '\n",
    "    return s3\n",
    "\n",
    "stringed = \"The most violent man called one man the most violent\"\n",
    "n = int(input('Enter the number of length of the string'))\n",
    "print(graterstring(stringed,n))"
   ]
  },
  {
   "cell_type": "markdown",
   "metadata": {},
   "source": [
    "WAP to shift all the even no of character to the first half and all the odd no character right side."
   ]
  },
  {
   "cell_type": "code",
   "execution_count": 11,
   "metadata": {},
   "outputs": [
    {
     "name": "stdout",
     "output_type": "stream",
     "text": [
      "zhbdacikg\n"
     ]
    }
   ],
   "source": [
    "def even_odd_char(s1):\n",
    "    s2 = \"\"\n",
    "    s3 = \"\"\n",
    "    for i in s1:\n",
    "        if ord(i) % 2 == 0:\n",
    "            s2 += i\n",
    "        else:\n",
    "            s3 += i\n",
    "    return s2 + s3\n",
    "\n",
    "stringed = 'aczhikbdg'\n",
    "print(even_odd_char(stringed))"
   ]
  },
  {
   "cell_type": "markdown",
   "metadata": {},
   "source": []
  },
  {
   "cell_type": "code",
   "execution_count": null,
   "metadata": {},
   "outputs": [],
   "source": []
  }
 ],
 "metadata": {
  "kernelspec": {
   "display_name": "Python 3",
   "language": "python",
   "name": "python3"
  },
  "language_info": {
   "codemirror_mode": {
    "name": "ipython",
    "version": 3
   },
   "file_extension": ".py",
   "mimetype": "text/x-python",
   "name": "python",
   "nbconvert_exporter": "python",
   "pygments_lexer": "ipython3",
   "version": "3.13.0"
  }
 },
 "nbformat": 4,
 "nbformat_minor": 2
}
