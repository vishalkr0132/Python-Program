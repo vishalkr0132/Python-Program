{
 "cells": [
  {
   "cell_type": "markdown",
   "metadata": {},
   "source": [
    "# WAP to find total number in char present in the string, exclude special char and number."
   ]
  },
  {
   "cell_type": "code",
   "execution_count": 1,
   "metadata": {},
   "outputs": [
    {
     "name": "stdout",
     "output_type": "stream",
     "text": [
      "Total char in string -> 23\n"
     ]
    }
   ],
   "source": [
    "def find_total_number_char(string):\n",
    "    count = 0\n",
    "    for i in string:\n",
    "        if ord(i) >= 65 and ord(i) <= 90 or ord(i) >= 97 and ord(i) <= 122:\n",
    "            count += 1\n",
    "    return count\n",
    "\n",
    "string = \"Vishalkumar.itcs@gmail.com\"\n",
    "result = find_total_number_char(string)\n",
    "print(f\"Total char in string -> {result}\")"
   ]
  },
  {
   "cell_type": "markdown",
   "metadata": {},
   "source": [
    "# WAP to find the given string is palindrome string or not."
   ]
  },
  {
   "cell_type": "code",
   "execution_count": 2,
   "metadata": {},
   "outputs": [
    {
     "name": "stdout",
     "output_type": "stream",
     "text": [
      "String is palindrome\n"
     ]
    }
   ],
   "source": [
    "def palindrome(string):\n",
    "    length = len(string) - 1\n",
    "    for i in range(len(string)):\n",
    "        if string[i] != string[length]:\n",
    "            return 'String is not palindrome'\n",
    "            break\n",
    "        length -= 1\n",
    "    else:\n",
    "        return 'String is palindrome'\n",
    "    \n",
    "string = 'madam'\n",
    "result = palindrome(string)\n",
    "print(result)\n",
    "        \n",
    "        "
   ]
  },
  {
   "cell_type": "markdown",
   "metadata": {},
   "source": [
    "# WAP to find frequency of each character in a given string."
   ]
  },
  {
   "cell_type": "code",
   "execution_count": 6,
   "metadata": {},
   "outputs": [
    {
     "name": "stdout",
     "output_type": "stream",
     "text": [
      "I -> 2\n",
      "  -> 13\n",
      "a -> 7\n",
      "m -> 4\n",
      "n -> 6\n",
      "o -> 2\n",
      "t -> 2\n",
      "i -> 2\n",
      "d -> 2\n",
      "g -> 2\n",
      "e -> 4\n",
      "r -> 2\n",
      ", -> 1\n",
      "h -> 2\n",
      "w -> 1\n",
      "s -> 2\n",
      "y -> 2\n",
      "V -> 1\n",
      "l -> 1\n",
      "None\n"
     ]
    }
   ],
   "source": [
    "def frequency(string):\n",
    "    d1 = {}\n",
    "    for i in string:\n",
    "        if i not in d1.keys():\n",
    "            d1[i] = 1\n",
    "        else:\n",
    "            d1[i]+= 1\n",
    "    \n",
    "    for k,v in d1.items():\n",
    "        print(k , \"->\", v)\n",
    "\n",
    "string = 'I am not in danger, I am the danger now say my name Vishal'\n",
    "result = frequency(string) \n",
    "print(result)   "
   ]
  },
  {
   "cell_type": "markdown",
   "metadata": {},
   "source": [
    "# WAP to check the given string is panagram or not."
   ]
  },
  {
   "cell_type": "code",
   "execution_count": 7,
   "metadata": {},
   "outputs": [
    {
     "name": "stdout",
     "output_type": "stream",
     "text": [
      "String is a panagram\n",
      "None\n"
     ]
    }
   ],
   "source": [
    "def panagram(string):\n",
    "    unique_char = set()\n",
    "    \n",
    "    for i in string:\n",
    "        if i == \" \":\n",
    "            continue\n",
    "        else:\n",
    "            unique_char.add(i.lower())\n",
    "    if len(unique_char) == 26:\n",
    "        print('String is a panagram')\n",
    "    else:\n",
    "        print('String is not a panagram')\n",
    "        \n",
    "string = \"Pack my box with five dozen liquor jugs\"\n",
    "print(panagram(string))"
   ]
  },
  {
   "cell_type": "markdown",
   "metadata": {},
   "source": [
    "# WAP to convert camel case string to snake case string."
   ]
  },
  {
   "cell_type": "code",
   "execution_count": null,
   "metadata": {},
   "outputs": [
    {
     "ename": "IndexError",
     "evalue": "string index out of range",
     "output_type": "error",
     "traceback": [
      "\u001b[1;31m---------------------------------------------------------------------------\u001b[0m",
      "\u001b[1;31mIndexError\u001b[0m                                Traceback (most recent call last)",
      "Cell \u001b[1;32mIn[13], line 16\u001b[0m\n\u001b[0;32m     13\u001b[0m     \u001b[38;5;28;01mreturn\u001b[39;00m s1\n\u001b[0;32m     15\u001b[0m string \u001b[38;5;241m=\u001b[39m \u001b[38;5;124m\"\u001b[39m\u001b[38;5;124mI Am The Devil In My World\u001b[39m\u001b[38;5;124m\"\u001b[39m\n\u001b[1;32m---> 16\u001b[0m \u001b[38;5;28mprint\u001b[39m(\u001b[43mcamel_to_snake\u001b[49m\u001b[43m(\u001b[49m\u001b[43mstring\u001b[49m\u001b[43m)\u001b[49m)\n",
      "Cell \u001b[1;32mIn[13], line 3\u001b[0m, in \u001b[0;36mcamel_to_snake\u001b[1;34m(string)\u001b[0m\n\u001b[0;32m      1\u001b[0m \u001b[38;5;28;01mdef\u001b[39;00m \u001b[38;5;21mcamel_to_snake\u001b[39m(string):\n\u001b[0;32m      2\u001b[0m     s1 \u001b[38;5;241m=\u001b[39m \u001b[38;5;124m'\u001b[39m\u001b[38;5;124m'\u001b[39m\n\u001b[1;32m----> 3\u001b[0m     s1 \u001b[38;5;241m+\u001b[39m\u001b[38;5;241m=\u001b[39m \u001b[38;5;28mchr\u001b[39m(\u001b[38;5;28mord\u001b[39m(\u001b[43ms1\u001b[49m\u001b[43m[\u001b[49m\u001b[38;5;241;43m0\u001b[39;49m\u001b[43m]\u001b[49m \u001b[38;5;241m+\u001b[39m \u001b[38;5;241m32\u001b[39m))\n\u001b[0;32m      5\u001b[0m     \u001b[38;5;28;01mfor\u001b[39;00m i \u001b[38;5;129;01min\u001b[39;00m \u001b[38;5;28mrange\u001b[39m(\u001b[38;5;241m1\u001b[39m,\u001b[38;5;28mlen\u001b[39m(string)):\n\u001b[0;32m      6\u001b[0m         \u001b[38;5;28;01mif\u001b[39;00m string[i] \u001b[38;5;241m==\u001b[39m \u001b[38;5;124m'\u001b[39m\u001b[38;5;124m \u001b[39m\u001b[38;5;124m'\u001b[39m:\n",
      "\u001b[1;31mIndexError\u001b[0m: string index out of range"
     ]
    }
   ],
   "source": [
    "def camel_to_snake(string):\n",
    "    s1 = ''\n",
    "    s1 += chr(ord(s1[0] + 32))\n",
    "    \n",
    "    for i in range(1,len(string)):\n",
    "        if string[i] == ' ':\n",
    "            s1 += '_'\n",
    "        else:\n",
    "            if s1[i-1] == \"_\":\n",
    "                s1 += chr(ord(string[i]) + 32)\n",
    "            else:\n",
    "                s1 += string[i]\n",
    "    return s1\n",
    "\n",
    "string = \"I Am The Devil In My World\"\n",
    "print(camel_to_snake(string))\n",
    "            \n",
    "                "
   ]
  },
  {
   "cell_type": "code",
   "execution_count": null,
   "metadata": {},
   "outputs": [],
   "source": []
  }
 ],
 "metadata": {
  "kernelspec": {
   "display_name": "Python 3",
   "language": "python",
   "name": "python3"
  },
  "language_info": {
   "codemirror_mode": {
    "name": "ipython",
    "version": 3
   },
   "file_extension": ".py",
   "mimetype": "text/x-python",
   "name": "python",
   "nbconvert_exporter": "python",
   "pygments_lexer": "ipython3",
   "version": "3.13.0"
  }
 },
 "nbformat": 4,
 "nbformat_minor": 2
}
