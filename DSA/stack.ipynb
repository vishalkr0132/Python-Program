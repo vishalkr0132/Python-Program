{
 "cells": [
  {
   "cell_type": "code",
   "execution_count": 1,
   "metadata": {},
   "outputs": [
    {
     "name": "stdout",
     "output_type": "stream",
     "text": [
      "\n",
      "..............Stack Operations...............\n",
      "\n",
      "1. isEmpty\n",
      "2. isFull\n",
      "3. push\n",
      "4. pop\n",
      "5. peek\n",
      "6. display\n",
      "7. Exit \n",
      "\n",
      "..............Stack Operations...............\n",
      "\n",
      "1. isEmpty\n",
      "2. isFull\n",
      "3. push\n",
      "4. pop\n",
      "5. peek\n",
      "6. display\n",
      "7. Exit \n"
     ]
    },
    {
     "ename": "",
     "evalue": "",
     "output_type": "error",
     "traceback": [
      "\u001b[1;31mThe Kernel crashed while executing code in the current cell or a previous cell. \n",
      "\u001b[1;31mPlease review the code in the cell(s) to identify a possible cause of the failure. \n",
      "\u001b[1;31mClick <a href='https://aka.ms/vscodeJupyterKernelCrash'>here</a> for more info. \n",
      "\u001b[1;31mView Jupyter <a href='command:jupyter.viewOutput'>log</a> for further details."
     ]
    }
   ],
   "source": [
    "class stack:\n",
    "    def __init__(self,max_size):\n",
    "        self.max_size = max_size\n",
    "        self.stack = []\n",
    "    \n",
    "    def isEmpty(self):\n",
    "        if len(self.stack) == 0:\n",
    "            return 'Stack is empty'\n",
    "        return len(self.stack)\n",
    "    \n",
    "    def isFull(self):\n",
    "        if len(self.stack) == self.max_size:\n",
    "            return 'Stack is full'\n",
    "        return len(self.stack)\n",
    "    \n",
    "    def push(self,data):\n",
    "        if self.isFull():\n",
    "            return '\\nThe stack is full.'\n",
    "        return self.stack.append(data)\n",
    "    \n",
    "    def pop (self):\n",
    "        if self.isEmpty():\n",
    "            return '\\nThe stack is empty.'\n",
    "        return self.stack.pop()\n",
    "    \n",
    "    def peek(self):\n",
    "        if self.isEmpty():\n",
    "            return '\\nThe stack is empty.'\n",
    "        return f'\\nThe last element of stack : {self.stack[-1]}'\n",
    "    \n",
    "    def display(self):\n",
    "        print('\\nElements inside the satck :')\n",
    "        for i in range(len(self.stack)-1, -1, -1):\n",
    "            print(self.stack[i], end=' ')\n",
    "            \n",
    "s = stack(int(input('Max size of the stack :')))\n",
    "\n",
    "while True:\n",
    "    print('\\n..............Stack Operations...............')\n",
    "    print('\\n1. isEmpty\\n2. isFull\\n3. push\\n4. pop\\n5. peek\\n6. display\\n7. Exit ')\n",
    "    match int(input('Make your choice : ')):\n",
    "        case 1: s.isEmpty()\n",
    "        case 2: s.isFull()\n",
    "        case 3: s.push(int(input('Enter the value : ')))\n",
    "        case 4: s.pop()\n",
    "        case 5: s.peek()\n",
    "        case 6: s.display()\n",
    "        case 7: exit()\n",
    "    "
   ]
  },
  {
   "cell_type": "code",
   "execution_count": null,
   "metadata": {},
   "outputs": [],
   "source": []
  }
 ],
 "metadata": {
  "kernelspec": {
   "display_name": "Python 3",
   "language": "python",
   "name": "python3"
  },
  "language_info": {
   "codemirror_mode": {
    "name": "ipython",
    "version": 3
   },
   "file_extension": ".py",
   "mimetype": "text/x-python",
   "name": "python",
   "nbconvert_exporter": "python",
   "pygments_lexer": "ipython3",
   "version": "3.12.0"
  }
 },
 "nbformat": 4,
 "nbformat_minor": 2
}
