{
 "cells": [
  {
   "cell_type": "markdown",
   "metadata": {},
   "source": [
    "# WAP To clock-wise rotation in given list using slicing."
   ]
  },
  {
   "cell_type": "code",
   "execution_count": 6,
   "metadata": {},
   "outputs": [
    {
     "name": "stdout",
     "output_type": "stream",
     "text": [
      "List after one clockwise rotation: [5, 4, 3, 2, 1]\n"
     ]
    }
   ],
   "source": [
    "def rotate_clockwise(l):\n",
    "    if not l:\n",
    "        return 'List is empty'\n",
    "    return l[-1::-1]\n",
    "\n",
    "lst = [1, 2, 3, 4, 5]\n",
    "result = rotate_clockwise(lst)\n",
    "print(\"List after one clockwise rotation:\", result)"
   ]
  },
  {
   "cell_type": "markdown",
   "metadata": {},
   "source": [
    "# WAP to clock-wise rotation in given list onetime."
   ]
  },
  {
   "cell_type": "code",
   "execution_count": 9,
   "metadata": {},
   "outputs": [
    {
     "name": "stdout",
     "output_type": "stream",
     "text": [
      "List after one clockwise rotation: [5, 1, 2, 3, 4]\n"
     ]
    }
   ],
   "source": [
    "def rotate_clockwise(l):\n",
    "    if not l:\n",
    "        return 'List is empty'\n",
    "    return [l[-1]] + l[:-1]\n",
    "\n",
    "lst = [1, 2, 3, 4, 5]\n",
    "result = rotate_clockwise(lst)\n",
    "print(\"List after one clockwise rotation:\", result)"
   ]
  },
  {
   "cell_type": "markdown",
   "metadata": {},
   "source": [
    "# WAP to number of times clock-wise rotation."
   ]
  },
  {
   "cell_type": "code",
   "execution_count": 12,
   "metadata": {},
   "outputs": [
    {
     "name": "stdout",
     "output_type": "stream",
     "text": [
      "List after 8 clockwise rotations: [3, 4, 5, 1, 2]\n"
     ]
    }
   ],
   "source": [
    "def rotate_clockwise(l,n):\n",
    "    if not l:\n",
    "        return 'List is empty'\n",
    "    n = n % len(l)\n",
    "    for i in range(n):\n",
    "        temp = l[-1]\n",
    "        for j in range(len(l)-1, 0, -1):\n",
    "            l[j] = l[j-1]\n",
    "        l[0] = temp\n",
    "        \n",
    "    return l\n",
    "l = [1,2,3,4,5]\n",
    "n = int(input(\"Enter the number of times to rotate clockwise: \"))\n",
    "result = rotate_clockwise(l, n)\n",
    "print(\"List after\", n, \"clockwise rotations:\", result)"
   ]
  },
  {
   "cell_type": "code",
   "execution_count": 17,
   "metadata": {},
   "outputs": [
    {
     "name": "stdout",
     "output_type": "stream",
     "text": [
      "List after 8 clockwise rotations: [3, 4, 5, 1, 2]\n"
     ]
    }
   ],
   "source": [
    "def rotate_clockwise(l, n):\n",
    "    if not l:\n",
    "        return 'List is empty'\n",
    "    \n",
    "    n = n % len(l)  \n",
    "    for i in range(n):\n",
    "        l = l[-1:] + l[:-1] \n",
    "    \n",
    "    return l\n",
    "l = [1, 2, 3, 4, 5]\n",
    "n = int(input(\"Enter the number of times to rotate clockwise: \"))\n",
    "result = rotate_clockwise(l, n)\n",
    "print(\"List after\", n, \"clockwise rotations:\", result)\n"
   ]
  },
  {
   "cell_type": "markdown",
   "metadata": {},
   "source": [
    "# WAP To anti-clock-wise rotation in given list using slicing."
   ]
  },
  {
   "cell_type": "code",
   "execution_count": 22,
   "metadata": {},
   "outputs": [
    {
     "name": "stdout",
     "output_type": "stream",
     "text": [
      "clockwise rotations: [2, 3, 4, 5, 1]\n"
     ]
    }
   ],
   "source": [
    "def anti_clock_wise(l):\n",
    "    if not l:\n",
    "        return 'List is empty'\n",
    "    return l[1:] + l[:1]\n",
    "\n",
    "l = [1, 2, 3, 4, 5]\n",
    "result = anti_clock_wise(l)\n",
    "print(\"clockwise rotations:\", result)"
   ]
  },
  {
   "cell_type": "markdown",
   "metadata": {},
   "source": [
    "# WAP to number of times anti-clock-wise rotation n-time."
   ]
  },
  {
   "cell_type": "code",
   "execution_count": 25,
   "metadata": {},
   "outputs": [
    {
     "name": "stdout",
     "output_type": "stream",
     "text": [
      "List after 2 clockwise rotations: [4, 5, 1, 2, 3]\n"
     ]
    }
   ],
   "source": [
    "def anti_clock_wise(l,n):\n",
    "    if not l:\n",
    "        return 'List is empty'\n",
    "    \n",
    "    n = n % len(l)\n",
    "    for i in range(n):\n",
    "        temp = l[0]\n",
    "        for j in range(len(l)-1):\n",
    "            l[j] = l[j+1]\n",
    "        l[-1]=temp\n",
    "    return\n",
    "l = [1, 2, 3, 4, 5]\n",
    "n = int(input(\"Enter the number of times to rotate clockwise: \"))\n",
    "result = rotate_clockwise(l, n)\n",
    "print(\"List after\", n, \"clockwise rotations:\", result)\n"
   ]
  },
  {
   "cell_type": "markdown",
   "metadata": {},
   "source": [
    "# Write a function to separate the even and odd numbers in a list into two different lists."
   ]
  },
  {
   "cell_type": "code",
   "execution_count": 26,
   "metadata": {},
   "outputs": [
    {
     "name": "stdout",
     "output_type": "stream",
     "text": [
      "Even numbers: [2, 4, 6, 8, 10]\n",
      "Odd numbers: [1, 3, 5, 7, 9]\n"
     ]
    }
   ],
   "source": [
    "def even_odd(l):\n",
    "    even = []\n",
    "    odd = []\n",
    "    \n",
    "    for i in l:\n",
    "        if i % 2 == 0:\n",
    "            even += [i]\n",
    "        else:\n",
    "            odd += [i]\n",
    "    return even, odd\n",
    "l = [1, 2, 3, 4, 5, 6, 7, 8, 9, 10]\n",
    "even_numbers, odd_numbers = even_odd(l)\n",
    "print(\"Even numbers:\", even_numbers)\n",
    "print(\"Odd numbers:\", odd_numbers)"
   ]
  },
  {
   "cell_type": "markdown",
   "metadata": {},
   "source": [
    "# Write a function that checks if a given list is a palindrome (reads the same forward and backward)."
   ]
  },
  {
   "cell_type": "code",
   "execution_count": 29,
   "metadata": {},
   "outputs": [
    {
     "name": "stdout",
     "output_type": "stream",
     "text": [
      "Is the list a palindrome? Palindrome List\n"
     ]
    }
   ],
   "source": [
    "def palindrome(l):\n",
    "    start = 0\n",
    "    end = len(l) - 1\n",
    "    \n",
    "    while start < end :\n",
    "        if l[start] != l[end]:\n",
    "            return 'Not Palindrome List'\n",
    "        start += 1\n",
    "        end -= 1\n",
    "    return \"Palindrome List\"\n",
    "\n",
    "lst = [1, 2, 3, 2, 1]\n",
    "result = palindrome(lst)\n",
    "print(\"Is the list a palindrome?\", result)"
   ]
  },
  {
   "cell_type": "markdown",
   "metadata": {},
   "source": [
    "# Given a list of lists, implement a function to flatten it into a single list."
   ]
  },
  {
   "cell_type": "code",
   "execution_count": null,
   "metadata": {},
   "outputs": [
    {
     "name": "stdout",
     "output_type": "stream",
     "text": [
      "Flattened list: [1, 2, 3, 4, 5, 6, 7, 8]\n"
     ]
    }
   ],
   "source": [
    "def flatten(l):\n",
    "    flatten_list = []\n",
    "    \n",
    "    for i in l:\n",
    "        for j in i:\n",
    "            flatten_list += [j]\n",
    "    return flatten_list\n",
    "\n",
    "l = [[1, 2, 3], [4, 5], [6, 7, 8]]\n",
    "result = flatten(l)\n",
    "print(\"Flattened list:\", result)"
   ]
  },
  {
   "cell_type": "markdown",
   "metadata": {},
   "source": [
    "# Write a function that finds all unique pairs in a list that sum up to a specific target value.. without using built in method."
   ]
  },
  {
   "cell_type": "code",
   "execution_count": 36,
   "metadata": {},
   "outputs": [
    {
     "name": "stdout",
     "output_type": "stream",
     "text": [
      "Unique pairs with sum 8 : [[2, 6], [3, 5]]\n"
     ]
    }
   ],
   "source": [
    "def find_pair(l, pair):\n",
    "    pair_list = []\n",
    "    \n",
    "    for i in range(len(l)):\n",
    "        for j in range(i + 1, len(l)):\n",
    "            if l[i] + l[j] == pair:\n",
    "                pair_list += [[l[i], l[j]]]\n",
    "    return pair_list\n",
    "\n",
    "lst = [1, 2, 3, 4, 5, 6]\n",
    "pair = int(input('Enter the value for pair sum: '))\n",
    "result = find_pair(lst, pair)\n",
    "print(\"Unique pairs with sum\", pair, \":\", result)\n"
   ]
  },
  {
   "cell_type": "code",
   "execution_count": null,
   "metadata": {},
   "outputs": [
    {
     "name": "stdout",
     "output_type": "stream",
     "text": [
      "Unique pairs with sum 10 : [[2, 5]]\n"
     ]
    }
   ],
   "source": [
    "def find_pair(l, pair):\n",
    "    pair_list = []\n",
    "    \n",
    "    for i in range(len(l)):\n",
    "        for j in range(i + 1, len(l)):\n",
    "            if l[i] * l[j] == pair:\n",
    "                pair_list += [[l[i], l[j]]]\n",
    "    return pair_list\n",
    "\n",
    "lst = [1, 2, 3, 4, 5, 6]\n",
    "pair = int(input('Enter the value for pair sum: '))\n",
    "result = find_pair(lst, pair)\n",
    "print(\"Unique pairs with mul\", pair, \":\", result)\n"
   ]
  },
  {
   "cell_type": "markdown",
   "metadata": {},
   "source": [
    "# Given a list, write a function to count the frequency of each element without using Counter from collections.\n"
   ]
  },
  {
   "cell_type": "code",
   "execution_count": 40,
   "metadata": {},
   "outputs": [
    {
     "name": "stdout",
     "output_type": "stream",
     "text": [
      "Frequency of each element: {1: 1, 2: 2, 3: 1, 4: 3, 5: 5}\n"
     ]
    }
   ],
   "source": [
    "def count_frequency(l):\n",
    "    frequency = {}\n",
    "    for i in l:\n",
    "        if i in frequency:\n",
    "            frequency[i] += 1\n",
    "        else:\n",
    "            frequency[i] = 1\n",
    "    return frequency\n",
    "\n",
    "lst = [1, 2, 2, 3, 4, 4, 4, 5, 5, 5, 5, 5]\n",
    "result = count_frequency(lst)\n",
    "print(\"Frequency of each element:\", result)\n"
   ]
  },
  {
   "cell_type": "markdown",
   "metadata": {},
   "source": [
    "# Write a function that removes all occurrences of a specified element from a list."
   ]
  },
  {
   "cell_type": "code",
   "execution_count": 41,
   "metadata": {},
   "outputs": [
    {
     "name": "stdout",
     "output_type": "stream",
     "text": [
      "List after removing occurrences of 3 : [1, 2, 4, 5, 6]\n"
     ]
    }
   ],
   "source": [
    "def remove_occurrences(l, remove_element):\n",
    "    result = []\n",
    "    for i in l:\n",
    "        if i != remove_element:\n",
    "            result += [i]\n",
    "    return result\n",
    "\n",
    "lst = [1, 2, 3, 4, 3, 5, 3, 6]\n",
    "element = 3\n",
    "result = remove_occurrences(lst, element)\n",
    "print(\"List after removing occurrences of\", element, \":\", result)"
   ]
  },
  {
   "cell_type": "markdown",
   "metadata": {},
   "source": [
    "# Given a list of numbers within a specific range, find the missing number in the sequence."
   ]
  },
  {
   "cell_type": "code",
   "execution_count": 44,
   "metadata": {},
   "outputs": [
    {
     "name": "stdout",
     "output_type": "stream",
     "text": [
      "Missing number: 3\n"
     ]
    }
   ],
   "source": [
    "def find_missing_number(l,start,end):\n",
    "    total_sum = 0\n",
    "    actual_sum = 0\n",
    "    \n",
    "    for i in range(start, end + 1):\n",
    "        total_sum += i\n",
    "        \n",
    "    for j in l:\n",
    "        actual_sum += j\n",
    "        \n",
    "    missing_number = total_sum - actual_sum\n",
    "    return missing_number\n",
    "\n",
    "lst = [1, 2, 4, 5] \n",
    "start = 1\n",
    "end = 5\n",
    "result = find_missing_number(lst, start, end)\n",
    "print(\"Missing number:\", result)"
   ]
  },
  {
   "cell_type": "markdown",
   "metadata": {},
   "source": []
  },
  {
   "cell_type": "code",
   "execution_count": null,
   "metadata": {},
   "outputs": [],
   "source": []
  }
 ],
 "metadata": {
  "kernelspec": {
   "display_name": "Python 3",
   "language": "python",
   "name": "python3"
  },
  "language_info": {
   "codemirror_mode": {
    "name": "ipython",
    "version": 3
   },
   "file_extension": ".py",
   "mimetype": "text/x-python",
   "name": "python",
   "nbconvert_exporter": "python",
   "pygments_lexer": "ipython3",
   "version": "3.13.0"
  }
 },
 "nbformat": 4,
 "nbformat_minor": 2
}
