{
 "cells": [
  {
   "cell_type": "code",
   "execution_count": 2,
   "metadata": {},
   "outputs": [
    {
     "name": "stdout",
     "output_type": "stream",
     "text": [
      "Pattern '[a-z]+': 0\n",
      "['his', 'is', 'tring', 'and', 'has', 'some', 'pecial', 'characters', 'included', 'and', 'numbers', 'and', 'characters', 'with', 'lower', 'and', 'upper', 'case', 'characters', 'a', 'nd', 'don', 't', 'lower', 'how', 'o', 'remove', 't']\n",
      "\n",
      "\n",
      "Pattern '[A-Z]+': 0\n",
      "['T', 'A', 'S', 'IT', 'S', 'A', 'I', 'T', 'I']\n",
      "\n",
      "\n",
      "Pattern '[0-9]+': 0\n",
      "['123', '77']\n",
      "\n",
      "\n",
      "Pattern '\\d+': 0\n",
      "['123', '77']\n",
      "\n",
      "\n",
      "Pattern '\\D+': 0\n",
      "['This is A@@ String!! and$ IT has!! some %%%Special characters&&& included and ', '$$ &&', \" numbers @@@ and characters with## lower and upper case### characters aAnd I don't lower@@ how To removeIt%%.\"]\n",
      "\n",
      "\n",
      "Pattern '\\w+': 0\n",
      "['This', 'is', 'A', 'String', 'and', 'IT', 'has', 'some', 'Special', 'characters', 'included', 'and', '123', '77', 'numbers', 'and', 'characters', 'with', 'lower', 'and', 'upper', 'case', 'characters', 'aAnd', 'I', 'don', 't', 'lower', 'how', 'To', 'removeIt']\n",
      "\n",
      "\n",
      "Pattern '\\W+': 0\n",
      "[' ', ' ', '@@ ', '!! ', '$ ', ' ', '!! ', ' %%%', ' ', '&&& ', ' ', ' ', '$$ &&', ' ', ' @@@ ', ' ', ' ', '## ', ' ', ' ', ' ', '### ', ' ', ' ', ' ', \"'\", ' ', '@@ ', ' ', ' ', '%%.']\n",
      "\n",
      "\n",
      "Pattern '\\s+': 0\n",
      "[' ', ' ', ' ', ' ', ' ', ' ', ' ', ' ', ' ', ' ', ' ', ' ', ' ', ' ', ' ', ' ', ' ', ' ', ' ', ' ', ' ', ' ', ' ', ' ', ' ', ' ', ' ', ' ', ' ', ' ']\n",
      "\n",
      "\n",
      "Pattern '\\S+': 0\n",
      "['This', 'is', 'A@@', 'String!!', 'and$', 'IT', 'has!!', 'some', '%%%Special', 'characters&&&', 'included', 'and', '123$$', '&&77', 'numbers', '@@@', 'and', 'characters', 'with##', 'lower', 'and', 'upper', 'case###', 'characters', 'aAnd', 'I', \"don't\", 'lower@@', 'how', 'To', 'removeIt%%.']\n",
      "\n",
      "\n"
     ]
    }
   ],
   "source": [
    "import re\n",
    "def char_find(test_pattern, phrase):\n",
    "    for patt in test_pattern:\n",
    "        print(f\"Pattern '{patt}': {phrase.count(patt)}\")\n",
    "        print(re.findall(patt, phrase))\n",
    "        print()\n",
    "\n",
    "phrase = \"This is A@@ String!! and$ IT has!! some %%%Special characters&&& included and 123$$ &&77 numbers @@@ and characters with## lower and upper case### characters aAnd I don't lower@@ how To removeIt%%.\"\n",
    "\n",
    "test_pattern1 = ['[a-z]+'] # It finds for the combination of all lower case characters.append\n",
    "char_find(test_pattern1, phrase)\n",
    "print()\n",
    "\n",
    "test_pattern2 = ['[A-Z]+'] # it find for the combination of all upper case characters. append\n",
    "char_find(test_pattern2, phrase)\n",
    "print()\n",
    "\n",
    "test_pattern3 = ['[0-9]+'] # It finds for the combination of all numbers. append\n",
    "char_find(test_pattern3, phrase)\n",
    "print()\n",
    "\n",
    "test_pattern4 = [r'\\d+'] # It finds for only the combination of numeric characters except the characters. append\n",
    "char_find(test_pattern4, phrase)\n",
    "print()\n",
    "\n",
    "test_pattern5 = [r'\\D+'] # It finds the combination of all characters except the numeric characters. append\n",
    "char_find(test_pattern5, phrase)\n",
    "print()\n",
    "\n",
    "test_pattern6 = [r'\\w+'] # It find the combination of all character except the special characters. append\n",
    "char_find(test_pattern6, phrase)\n",
    "print()\n",
    "\n",
    "test_pattern7 = [r'\\W+'] # It find the only special character except remaining characters. append\n",
    "char_find(test_pattern7, phrase)\n",
    "print()\n",
    "\n",
    "test_pattern8 = [r'\\s+'] # It find the only space character except the remaining characters. append\n",
    "char_find(test_pattern8, phrase)\n",
    "print()\n",
    "\n",
    "test_pattern9 = [r'\\S+'] # It find the all type of characters except space characters. append\n",
    "char_find(test_pattern9, phrase)\n",
    "print()\n",
    "\n"
   ]
  },
  {
   "cell_type": "markdown",
   "metadata": {},
   "source": [
    "# \\A character"
   ]
  },
  {
   "cell_type": "code",
   "execution_count": 4,
   "metadata": {},
   "outputs": [
    {
     "name": "stdout",
     "output_type": "stream",
     "text": [
      "No the is not matched\n"
     ]
    }
   ],
   "source": [
    "import re\n",
    "def begining_char(test_pattern,phrase):\n",
    "    result = re.findall(test_pattern,phrase)\n",
    "    if result:\n",
    "        return f'Yes the is matched'\n",
    "    return f'No the is not matched'\n",
    "\n",
    "phase = \"She selles seashells by the seashore\"\n",
    "test_pattern1 = r'\\Ashe'\n",
    "print(begining_char(test_pattern1,phase))"
   ]
  },
  {
   "cell_type": "code",
   "execution_count": null,
   "metadata": {},
   "outputs": [],
   "source": []
  }
 ],
 "metadata": {
  "kernelspec": {
   "display_name": "Python 3",
   "language": "python",
   "name": "python3"
  },
  "language_info": {
   "codemirror_mode": {
    "name": "ipython",
    "version": 3
   },
   "file_extension": ".py",
   "mimetype": "text/x-python",
   "name": "python",
   "nbconvert_exporter": "python",
   "pygments_lexer": "ipython3",
   "version": "3.13.0"
  }
 },
 "nbformat": 4,
 "nbformat_minor": 2
}
