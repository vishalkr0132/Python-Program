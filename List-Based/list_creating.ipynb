{
 "cells": [
  {
   "cell_type": "markdown",
   "metadata": {},
   "source": [
    "# WAP to create a list of n inputs."
   ]
  },
  {
   "cell_type": "code",
   "execution_count": 1,
   "metadata": {},
   "outputs": [
    {
     "name": "stdout",
     "output_type": "stream",
     "text": [
      "The list is: [3, 3, 4, 3, 2]\n"
     ]
    }
   ],
   "source": [
    "n = int(input(\"Enter the number of inputs: \"))\n",
    "l = []\n",
    "for i in range(1, n + 1):\n",
    "    l.append(int(input(f\"Enter the {i}th input: \")))\n",
    "print(f\"The list is: {l}\")"
   ]
  },
  {
   "cell_type": "markdown",
   "metadata": {},
   "source": [
    "# WAP to create a list of n inputs using list comprehension."
   ]
  },
  {
   "cell_type": "code",
   "execution_count": 3,
   "metadata": {},
   "outputs": [
    {
     "name": "stdout",
     "output_type": "stream",
     "text": [
      "The list is: [1, 1, 1, 1, 1]\n"
     ]
    }
   ],
   "source": [
    "n = int(input(\"Enter the number of inputs :\"))\n",
    "l = [int (input(f\"Enter the {i}th input : \")) for i in range(1, n + 1)]\n",
    "print(f\"The list is: {l}\")"
   ]
  },
  {
   "cell_type": "markdown",
   "metadata": {},
   "source": [
    "# WAP to create a list of n inputs using map function."
   ]
  },
  {
   "cell_type": "code",
   "execution_count": 12,
   "metadata": {},
   "outputs": [
    {
     "name": "stdout",
     "output_type": "stream",
     "text": [
      "The list is: [7]\n"
     ]
    }
   ],
   "source": [
    "l = list(map(int, input(\"Enter the inputs separated by space: \").split()))\n",
    "print(f\"The list is: {l}\")"
   ]
  },
  {
   "cell_type": "markdown",
   "metadata": {},
   "source": [
    "# WAP to create a list of n inputs using a generator expression."
   ]
  },
  {
   "cell_type": "code",
   "execution_count": 9,
   "metadata": {},
   "outputs": [
    {
     "name": "stdout",
     "output_type": "stream",
     "text": [
      "The list is: [1, 3, 4, 5, 6]\n"
     ]
    }
   ],
   "source": [
    "n = int(input(\"Enter the number of inputs: \"))\n",
    "l = (int(input(f\"Enter the {i}th input: \")) for i in range(1, n + 1))\n",
    "print(f\"The list is: {list(l)}\")"
   ]
  },
  {
   "cell_type": "markdown",
   "metadata": {},
   "source": [
    "# WAP to create a hetrogenous list of n inputs."
   ]
  },
  {
   "cell_type": "code",
   "execution_count": 16,
   "metadata": {},
   "outputs": [
    {
     "name": "stdout",
     "output_type": "stream",
     "text": [
      "The list is: [12, 23.3, '23+4j', 45, 'fg']\n"
     ]
    }
   ],
   "source": [
    "n = int(input(\"Enter the number of inputs : \"))\n",
    "l = []\n",
    "for i in range(1, n + 1):\n",
    "    val = input(f\"Enter the {i}th input Values: \")\n",
    "    try:\n",
    "        l.append(int(val))\n",
    "    except:\n",
    "        try:\n",
    "            l.append(float(val))\n",
    "        except:\n",
    "            try:\n",
    "                l.append(compile(val))\n",
    "            except:\n",
    "                l.append(val)\n",
    "\n",
    "print(f\"The list is: {l}\")\n",
    "            "
   ]
  },
  {
   "cell_type": "code",
   "execution_count": null,
   "metadata": {},
   "outputs": [],
   "source": []
  }
 ],
 "metadata": {
  "kernelspec": {
   "display_name": "Python 3",
   "language": "python",
   "name": "python3"
  },
  "language_info": {
   "codemirror_mode": {
    "name": "ipython",
    "version": 3
   },
   "file_extension": ".py",
   "mimetype": "text/x-python",
   "name": "python",
   "nbconvert_exporter": "python",
   "pygments_lexer": "ipython3",
   "version": "3.13.0"
  }
 },
 "nbformat": 4,
 "nbformat_minor": 2
}
