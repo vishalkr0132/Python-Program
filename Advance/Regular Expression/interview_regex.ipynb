{
 "cells": [
  {
   "cell_type": "markdown",
   "metadata": {},
   "source": [
    "# Email Extraction: Write a regex to extract all email addresses from a given text."
   ]
  },
  {
   "cell_type": "code",
   "execution_count": null,
   "metadata": {},
   "outputs": [
    {
     "name": "stdout",
     "output_type": "stream",
     "text": [
      "Invalid email address: vishalkumar.itcs2gmail.com\n"
     ]
    }
   ],
   "source": [
    "import re\n",
    "def valid_email(email):\n",
    "    pattern = r'[a-zA-Z0-9._]+@[a-zA-Z]+\\.(com|in|edu|gov|org)'\n",
    "    result = re.search(pattern, email)\n",
    "    if result:\n",
    "        return f\"Valid email address: {email}\"\n",
    "    return f\"Invalid email address: {email}\"\n",
    "\n",
    "email = input(\"Please enter a email address\")\n",
    "print(valid_email(email))"
   ]
  },
  {
   "cell_type": "markdown",
   "metadata": {},
   "source": [
    "# Date Validation: Validate if a string is a valid date in the format MM-DD-YYYY, DD-MM-YYYY, or YYYY-MM-DD."
   ]
  },
  {
   "cell_type": "code",
   "execution_count": null,
   "metadata": {},
   "outputs": [],
   "source": [
    "import re \n",
    "def valid_date(date):\n",
    "    patterns =[\n",
    "        r'(0[1-9]|1[0-2])[-/](0[1-9]|[12][0-9]|3[01])[-/]\\d{4}', # MM-DD-YYYY\n",
    "        r'(0[1-9]|[12][0-9]|3[01])[-/](0[1-9]|1[0-2])[-/]\\d{4}', # DD-MM-YYYY\n",
    "        r'\\d{4}[-/](0[1-9]|1[0-2])[-/](0[1-9]|[12][0-9]|3[01])' # YYYY-MM-DD\n",
    "    ]\n",
    "    for i in date:\n",
    "        if re.search(patterns,date):\n",
    "            return f\"Valid date: {date}\"\n",
    "        return f\"Invalid date: {date}\"\n",
    "date = [\n",
    "    \"12-31-2020\",  \n",
    "    \"31-12-2020\",  \n",
    "    \"2020-12-31\",  \n",
    "    \"02-29-2020\",  \n",
    "    \"02-29-2021\",  \n",
    "    \"04-31-2021\",  \n",
    "    \"2021-04-31\",  \n",
    "    \"2021-12-01\",  \n",
    "    \"15-04-2021\",  \n",
    "]\n",
    "print(valid_date(date))"
   ]
  },
  {
   "cell_type": "markdown",
   "metadata": {},
   "source": [
    "# URL Extraction: Find all URLs in a block of text, where URLs can start with http, https, or www."
   ]
  },
  {
   "cell_type": "code",
   "execution_count": 10,
   "metadata": {},
   "outputs": [
    {
     "name": "stdout",
     "output_type": "stream",
     "text": [
      "URLs found: ['https://www.example.com', 'http://blog.example.com', 'www.socialmedia.com', 'www.anotherexample.org', 'www.123456.789']\n"
     ]
    }
   ],
   "source": [
    "import re\n",
    "\n",
    "def valid_urls(file_path):\n",
    "    try:\n",
    "        with open(file_path, 'r') as fh:\n",
    "            if fh.readable():\n",
    "                data = fh.read()\n",
    "                pattern = r'\\b(?:https?://|www\\.)[^\\s,]+\\b'\n",
    "                urls = re.findall(pattern, data)\n",
    "                \n",
    "                if urls:\n",
    "                    return f\"URLs found: {urls}\"\n",
    "                return \"No URLs found\"\n",
    "    \n",
    "    except Exception as e:\n",
    "        print(f\"Error: {e}\")\n",
    "\n",
    "file_path = 'urls.txt'\n",
    "print(valid_urls(file_path))\n"
   ]
  },
  {
   "cell_type": "markdown",
   "metadata": {},
   "source": [
    "# Phone Number Formatting: Write a regex to format phone numbers in various formats (e.g., +91 (123) 456-7890, +91-123-456-7890, +91.123.456.7890) into a standard format."
   ]
  },
  {
   "cell_type": "code",
   "execution_count": null,
   "metadata": {},
   "outputs": [],
   "source": []
  }
 ],
 "metadata": {
  "kernelspec": {
   "display_name": "Python 3",
   "language": "python",
   "name": "python3"
  },
  "language_info": {
   "codemirror_mode": {
    "name": "ipython",
    "version": 3
   },
   "file_extension": ".py",
   "mimetype": "text/x-python",
   "name": "python",
   "nbconvert_exporter": "python",
   "pygments_lexer": "ipython3",
   "version": "3.13.0"
  }
 },
 "nbformat": 4,
 "nbformat_minor": 2
}
