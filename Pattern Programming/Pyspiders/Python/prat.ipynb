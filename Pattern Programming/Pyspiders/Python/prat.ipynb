{
 "cells": [
  {
   "cell_type": "code",
   "execution_count": 1,
   "metadata": {},
   "outputs": [
    {
     "name": "stdout",
     "output_type": "stream",
     "text": [
      "    *     \n",
      "    *     \n",
      "* * * * * \n",
      "    *     \n",
      "    *     \n"
     ]
    }
   ],
   "source": [
    "n= int(input('n:'))\n",
    "for i in range(n):\n",
    "    for j in range(n):\n",
    "        if i==n//2 or j==n//2:\n",
    "            print(\"*\",end=\" \")\n",
    "        else: \n",
    "            print(\" \",end=\" \")\n",
    "    print()"
   ]
  },
  {
   "cell_type": "code",
   "execution_count": 2,
   "metadata": {},
   "outputs": [
    {
     "name": "stdout",
     "output_type": "stream",
     "text": [
      "    *     \n",
      "    *     \n",
      "* * 1 * * \n",
      "    *     \n",
      "    *     \n"
     ]
    }
   ],
   "source": [
    "n= int(input('n:'))\n",
    "for i in range(n):\n",
    "    for j in range(n):\n",
    "        if i==n//2 and j==n//2:\n",
    "            print(\"1\",end=\" \")\n",
    "        elif i == n//2 or j == n//2:\n",
    "            print('*', end = ' ')\n",
    "        else: \n",
    "            print(\" \",end=\" \")\n",
    "    print()"
   ]
  },
  {
   "cell_type": "code",
   "execution_count": 3,
   "metadata": {},
   "outputs": [
    {
     "name": "stdout",
     "output_type": "stream",
     "text": [
      "This pattern work for only odd number\n"
     ]
    }
   ],
   "source": [
    "import random\n",
    "class mypatter:\n",
    "    def __init__(self,n):\n",
    "        self.n = n\n",
    "    def pattern(self):\n",
    "        if self.n % 2 == 0:\n",
    "            print('This pattern work for only odd number')\n",
    "        else:\n",
    "            for i in range(n):\n",
    "                for j in range(n):\n",
    "                    if i==n//2 and j==n//2:\n",
    "                        print(\"1\",end=\" \")\n",
    "                    elif i == n//2 or j == n//2:\n",
    "                        print('*', end = ' ')\n",
    "                    else: \n",
    "                        print(\" \",end=\" \")\n",
    "                print()\n",
    "                \n",
    "n = random.randint(1,10)\n",
    "obj = mypatter(n)\n",
    "obj.pattern()"
   ]
  },
  {
   "cell_type": "code",
   "execution_count": 24,
   "metadata": {},
   "outputs": [
    {
     "name": "stdout",
     "output_type": "stream",
     "text": [
      "        * \n",
      "      5 * \n",
      "    * 4 * \n",
      "  3 * 2 * \n",
      "* 1 * 0 * \n"
     ]
    }
   ],
   "source": [
    "n = int(input('Enter the number of rows & cols: '))\n",
    "val= n\n",
    "for i in range(n):\n",
    "    for j in range(n):\n",
    "        if (i + j) >= n - 1:\n",
    "            if j % 2 == 0:\n",
    "                print('*', end=' ')\n",
    "            else:\n",
    "                print(val, end=' ')\n",
    "                val-=1\n",
    "        else:\n",
    "            print(' ', end=' ')\n",
    "    print()"
   ]
  },
  {
   "cell_type": "code",
   "execution_count": 16,
   "metadata": {},
   "outputs": [
    {
     "name": "stdout",
     "output_type": "stream",
     "text": [
      "            * \n",
      "          1 * \n",
      "        * 1 * \n",
      "      2 * 1 * \n",
      "    * 2 * 1 * \n",
      "  3 * 2 * 1 * \n",
      "* 3 * 2 * 1 * \n"
     ]
    }
   ],
   "source": [
    "n = int(input('Enter the number of rows & cols: '))\n",
    "for i in range(n):\n",
    "    val= n\n",
    "    for j in range(n):\n",
    "        if (i + j) >= n - 1:\n",
    "            if j % 2 == 0:\n",
    "                print('*', end=' ')\n",
    "            else:\n",
    "                \n",
    "                print(val//2, end=' ')\n",
    "                # val += 1\n",
    "        else:\n",
    "            print(' ', end=' ')\n",
    "        val-=1\n",
    "    print()"
   ]
  },
  {
   "cell_type": "code",
   "execution_count": 17,
   "metadata": {},
   "outputs": [
    {
     "name": "stdout",
     "output_type": "stream",
     "text": [
      "        1 \n",
      "      A A A \n",
      "    2 2 2 2 2 \n",
      "  B B B B B B B \n",
      "3 3 3 3 3 3 3 3 3 \n"
     ]
    }
   ],
   "source": [
    "n = int(input('Enter the number of rows & cols :'))\n",
    "val = 1\n",
    "char = ord('A')\n",
    "for i in range(n):\n",
    "    for j in range(n - 1 - i):\n",
    "        print(' ', end = ' ')\n",
    "    for k in range(2 * i + 1):\n",
    "        if i % 2 == 0:\n",
    "            print(val, end = ' ')\n",
    "        else:\n",
    "            print(chr(char), end = ' ')\n",
    "    print()\n",
    "    if i % 2 == 0:\n",
    "        val += 1\n",
    "        if val > 9:\n",
    "            val = 1\n",
    "    else:\n",
    "        char +=1\n",
    "        if char > ord('Z'):\n",
    "            val = ord('A')"
   ]
  },
  {
   "cell_type": "code",
   "execution_count": 16,
   "metadata": {},
   "outputs": [
    {
     "name": "stdout",
     "output_type": "stream",
     "text": [
      "1 \n",
      "* * \n",
      "2 3 4 \n",
      "* * * * \n"
     ]
    }
   ],
   "source": [
    "n = int(input('Enter the number of rows & cols :'))\n",
    "val = 1\n",
    "for i in range(n):\n",
    "    for j in range(n):\n",
    "        if (i + j ) >= n - 1:\n",
    "            if i % 2 == 0:\n",
    "                print(val, end = ' ')\n",
    "                val += 1\n",
    "            else:\n",
    "                print('*', end = ' ')\n",
    "    print()"
   ]
  },
  {
   "cell_type": "code",
   "execution_count": 1,
   "metadata": {},
   "outputs": [
    {
     "name": "stdout",
     "output_type": "stream",
     "text": [
      "* * * * \n",
      "* * * * \n",
      "* * * * \n",
      "* * * * \n"
     ]
    }
   ],
   "source": [
    "row = int(input(\"Enter the number of rows:\"))\n",
    "col = int(input(\"Enter the number of cols :\"))\n",
    "\n",
    "for i in range(row):\n",
    "    for j in range(col):\n",
    "        print(\"*\", end = \" \")\n",
    "    print()"
   ]
  },
  {
   "cell_type": "code",
   "execution_count": 3,
   "metadata": {},
   "outputs": [
    {
     "name": "stdout",
     "output_type": "stream",
     "text": [
      "1 1 1 1 1 \n",
      "2 2 2 2 2 \n",
      "3 3 3 3 3 \n",
      "4 4 4 4 4 \n",
      "5 5 5 5 5 \n"
     ]
    }
   ],
   "source": [
    "row = int(input(\"Enter the number of rows :\"))\n",
    "col = int(input(\"Enter the number of columns :\"))\n",
    "val = 1\n",
    "for i in range(row):\n",
    "    for j in range(col):\n",
    "        print(val, end = \" \")\n",
    "    print()\n",
    "    val += 1\n",
    "    if val > 9:\n",
    "        val = 1"
   ]
  },
  {
   "cell_type": "code",
   "execution_count": 5,
   "metadata": {},
   "outputs": [
    {
     "name": "stdout",
     "output_type": "stream",
     "text": [
      "1 2 3 4 5 \n",
      "1 2 3 4 5 \n",
      "1 2 3 4 5 \n",
      "1 2 3 4 5 \n",
      "1 2 3 4 5 \n"
     ]
    }
   ],
   "source": [
    "row = int(input(\"Enter the number of rows :\"))\n",
    "col = int(input(\"Enter the number of cols :\"))\n",
    "for i in range(row):\n",
    "    val = 1\n",
    "    for j in range(col):\n",
    "        print(val, end = \" \")\n",
    "        val += 1\n",
    "        if val > 9:\n",
    "            val = 1\n",
    "    print()\n",
    "    "
   ]
  },
  {
   "cell_type": "code",
   "execution_count": 7,
   "metadata": {},
   "outputs": [
    {
     "name": "stdout",
     "output_type": "stream",
     "text": [
      "5 5 5 5 \n",
      "4 4 4 4 \n",
      "3 3 3 3 \n",
      "2 2 2 2 \n",
      "1 1 1 1 \n"
     ]
    }
   ],
   "source": [
    "row = int(input(\"Enter the number of rows :\"))\n",
    "col = int(input(\"Enter the number of cols :\"))\n",
    "val = row\n",
    "if val > 9:\n",
    "    val = 9\n",
    "for i in range(row):\n",
    "    for j in range(col):\n",
    "        print(val, end = \" \")\n",
    "    print()\n",
    "    val -= 1\n",
    "    if val < 1:\n",
    "        val = 9"
   ]
  },
  {
   "cell_type": "code",
   "execution_count": 8,
   "metadata": {},
   "outputs": [
    {
     "name": "stdout",
     "output_type": "stream",
     "text": [
      "6 5 4 3 2 1 \n",
      "6 5 4 3 2 1 \n",
      "6 5 4 3 2 1 \n",
      "6 5 4 3 2 1 \n"
     ]
    }
   ],
   "source": [
    "row = int(input(\"Enter the number of rows :\"))\n",
    "col = int(input(\"Enter the number of cols :\"))\n",
    "for i in range(row):\n",
    "    val = col\n",
    "    if val > 9:\n",
    "        val = 9\n",
    "    for j in range(col):\n",
    "        print(val,end = \" \")\n",
    "        val -= 1\n",
    "        if val < 1:\n",
    "            val = 9\n",
    "    print()"
   ]
  },
  {
   "cell_type": "code",
   "execution_count": 9,
   "metadata": {},
   "outputs": [
    {
     "name": "stdout",
     "output_type": "stream",
     "text": [
      "A A A A A \n",
      "B B B B B \n",
      "C C C C C \n",
      "D D D D D \n"
     ]
    }
   ],
   "source": [
    "row = int(input(\"Enter the number of rows :\"))\n",
    "col = int(input(\"Enter the number of cols :\"))\n",
    "val = ord('A')\n",
    "for i in range(row):\n",
    "    for j in range(col):\n",
    "        print(chr(val), end = \" \")\n",
    "    print()\n",
    "    val += 1\n",
    "    if val > ord('Z'):\n",
    "        val = ord('A')"
   ]
  },
  {
   "cell_type": "code",
   "execution_count": 11,
   "metadata": {},
   "outputs": [
    {
     "name": "stdout",
     "output_type": "stream",
     "text": [
      "A B C D E \n",
      "A B C D E \n",
      "A B C D E \n",
      "A B C D E \n"
     ]
    }
   ],
   "source": [
    "row = int(input(\"Enter the number of rows :\"))\n",
    "col = int(input(\"Enter the number of cols :\"))\n",
    "for i in range(row):\n",
    "    val = ord('A')\n",
    "    if val > ord('Z'):\n",
    "        val = ord ('Z')\n",
    "    for j in range(col):\n",
    "        print(chr(val), end = \" \")\n",
    "        val += 1\n",
    "        if val > ord('Z'):\n",
    "            val = ord ('A')\n",
    "    print()"
   ]
  },
  {
   "cell_type": "code",
   "execution_count": 14,
   "metadata": {},
   "outputs": [
    {
     "name": "stdout",
     "output_type": "stream",
     "text": [
      "D D D D D D \n",
      "C C C C C C \n",
      "B B B B B B \n",
      "A A A A A A \n"
     ]
    }
   ],
   "source": [
    "row = int(input(\"Enter the number of rows :\"))\n",
    "col = int(input(\"Enter the number of cols :\"))\n",
    "val = ord('A') + row -1\n",
    "for i in range(row):\n",
    "    for j in range(col):\n",
    "        print(chr(val), end = \" \")\n",
    "    print()\n",
    "    val -= 1\n",
    "    if val > ord('Z'):\n",
    "        val = ord('A')"
   ]
  },
  {
   "cell_type": "code",
   "execution_count": 2,
   "metadata": {},
   "outputs": [
    {
     "name": "stdout",
     "output_type": "stream",
     "text": [
      "D C B A \n",
      "D C B A \n",
      "D C B A \n",
      "D C B A \n"
     ]
    }
   ],
   "source": [
    "row = int(input(\"Enter the number of rows :\"))\n",
    "col = int(input(\"Enter the number of cols :\"))\n",
    "for i in range(row):\n",
    "    val = ord('A') + col - 1\n",
    "    if val > ord('Z'):\n",
    "        val = ord('Z')\n",
    "    for j in range(col):\n",
    "        print(chr(val), end = \" \")\n",
    "        val -= 1\n",
    "        if val < ord('A'):\n",
    "            val = ord('Z')\n",
    "    print()"
   ]
  },
  {
   "cell_type": "code",
   "execution_count": 4,
   "metadata": {},
   "outputs": [
    {
     "name": "stdout",
     "output_type": "stream",
     "text": [
      "Z Y X \n",
      "W V U \n",
      "T S R \n"
     ]
    }
   ],
   "source": [
    "row = int(input('Enter the number of rows :'))\n",
    "col = int(input('Enter the number of cols :'))\n",
    "val = ord('Z')\n",
    "for i in range(row):\n",
    "    for j in range(col):\n",
    "        print(chr(val), end = ' ')\n",
    "        val -= 1\n",
    "        if val < ord('A'):\n",
    "            val = ord('Z')\n",
    "    print()"
   ]
  },
  {
   "cell_type": "code",
   "execution_count": 5,
   "metadata": {},
   "outputs": [
    {
     "name": "stdout",
     "output_type": "stream",
     "text": [
      "*       \n",
      "* *     \n",
      "* * *   \n",
      "* * * * \n"
     ]
    }
   ],
   "source": [
    "n = int(input('Enter the number of rows & cols :'))\n",
    "for i in range((n)):\n",
    "    for j in range(n):\n",
    "        if i >= j:\n",
    "            print('*', end = ' ')\n",
    "        else:\n",
    "            print(' ', end = ' ')\n",
    "    print()"
   ]
  },
  {
   "cell_type": "code",
   "execution_count": 6,
   "metadata": {},
   "outputs": [
    {
     "name": "stdout",
     "output_type": "stream",
     "text": [
      "* * * * * \n",
      "  * * * * \n",
      "    * * * \n",
      "      * * \n",
      "        * \n"
     ]
    }
   ],
   "source": [
    "n = int(input('Enter the number of rows & cols :'))\n",
    "for i in range(n):\n",
    "    for j in range(n):\n",
    "        if i <= j:\n",
    "            print('*',end = ' ')\n",
    "        else:\n",
    "            print(' ', end = ' ')\n",
    "    print()"
   ]
  },
  {
   "cell_type": "code",
   "execution_count": 7,
   "metadata": {},
   "outputs": [
    {
     "name": "stdout",
     "output_type": "stream",
     "text": [
      "*         \n",
      "  *       \n",
      "    *     \n",
      "      *   \n",
      "        * \n"
     ]
    }
   ],
   "source": [
    "n = int(input('Enter the number of rows & cols :'))\n",
    "for i in range(n):\n",
    "    for j in range(n):\n",
    "        if i == j:\n",
    "            print('*', end = ' ')\n",
    "        else:\n",
    "            print(' ', end = ' ')\n",
    "    print()"
   ]
  },
  {
   "cell_type": "code",
   "execution_count": 8,
   "metadata": {},
   "outputs": [
    {
     "name": "stdout",
     "output_type": "stream",
     "text": [
      "1         \n",
      "2 2       \n",
      "3 3 3     \n",
      "4 4 4 4   \n",
      "5 5 5 5 5 \n"
     ]
    }
   ],
   "source": [
    "n= int(input('Enter the number of rows & col :'))\n",
    "val = 1\n",
    "for i in range(n):\n",
    "    for j in range(n):\n",
    "        if i >= j:\n",
    "            print(val, end = \" \")\n",
    "        else:\n",
    "            print(' ', end = ' ')\n",
    "    print()\n",
    "    val += 1\n",
    "    if val > 9:\n",
    "        val = 1"
   ]
  },
  {
   "cell_type": "code",
   "execution_count": 9,
   "metadata": {},
   "outputs": [
    {
     "name": "stdout",
     "output_type": "stream",
     "text": [
      "1 1 1 1 1 \n",
      "  2 2 2 2 \n",
      "    3 3 3 \n",
      "      4 4 \n",
      "        5 \n"
     ]
    }
   ],
   "source": [
    "n = int(input('Enter the number of rows & cols :'))\n",
    "val = 1\n",
    "for i in range(n):\n",
    "    for j in range(n):\n",
    "        if i <= j: \n",
    "            print(val, end = ' ')\n",
    "        else:\n",
    "            print(' ', end = ' ')\n",
    "    print()\n",
    "    val += 1\n",
    "    if val > 9:\n",
    "        val = 1"
   ]
  },
  {
   "cell_type": "code",
   "execution_count": 12,
   "metadata": {},
   "outputs": [
    {
     "name": "stdout",
     "output_type": "stream",
     "text": [
      "1         \n",
      "1 2       \n",
      "1 2 3     \n",
      "1 2 3 4   \n",
      "1 2 3 4 5 \n"
     ]
    }
   ],
   "source": [
    "n = int(input('Enter the number of rows & col :'))\n",
    "for i in range(n):\n",
    "    val = 1\n",
    "    for j in range(n):\n",
    "        if i >= j:\n",
    "            print(val, end = ' ')\n",
    "        else:\n",
    "            print(' ', end = ' ')\n",
    "        val += 1\n",
    "        if val > 9:\n",
    "            val = 1\n",
    "    print()"
   ]
  },
  {
   "cell_type": "code",
   "execution_count": 13,
   "metadata": {},
   "outputs": [
    {
     "name": "stdout",
     "output_type": "stream",
     "text": [
      "1 2 3 4 5 \n",
      "  1 2 3 4 \n",
      "    1 2 3 \n",
      "      1 2 \n",
      "        1 \n"
     ]
    }
   ],
   "source": [
    "n = int(input('Enter the number of rows & cols :'))\n",
    "for i in range(n):\n",
    "    val = 1\n",
    "    for j in range(n):\n",
    "        if i <= j:\n",
    "            print(val, end = ' ')\n",
    "            val += 1\n",
    "            if val > 9:\n",
    "                val = 1\n",
    "        else:\n",
    "            print(' ', end = ' ')\n",
    "    print()\n",
    "        "
   ]
  },
  {
   "cell_type": "code",
   "execution_count": 14,
   "metadata": {},
   "outputs": [
    {
     "name": "stdout",
     "output_type": "stream",
     "text": [
      "5 6 7 8 9 \n",
      "  5 6 7 8 \n",
      "    5 6 7 \n",
      "      5 6 \n",
      "        5 \n"
     ]
    }
   ],
   "source": [
    "n = int(input('Enter the number of rows & cols :'))\n",
    "for i in range(n):\n",
    "    val = n\n",
    "    for j in range(n):\n",
    "        if i <= j:\n",
    "            print(val, end = ' ')\n",
    "            val += 1\n",
    "            if val > 9:\n",
    "                val = 1\n",
    "        else:\n",
    "            print(' ', end = ' ')\n",
    "    print()\n",
    "        "
   ]
  },
  {
   "cell_type": "code",
   "execution_count": 3,
   "metadata": {},
   "outputs": [
    {
     "name": "stdout",
     "output_type": "stream",
     "text": [
      "4 4 4 4 \n",
      "  3 3 3 \n",
      "    2 2 \n",
      "      1 \n"
     ]
    }
   ],
   "source": [
    "n = int(input('Enter the number of rows & cols :'))\n",
    "val = n \n",
    "for i in range(n):\n",
    "    for j in range(n):\n",
    "        if i <= j:\n",
    "            print(val, end = ' ')\n",
    "        else:\n",
    "            print(' ', end = ' ')\n",
    "    print()\n",
    "    val -= 1\n",
    "    if val < 1:\n",
    "        val = 9"
   ]
  },
  {
   "cell_type": "code",
   "execution_count": 5,
   "metadata": {},
   "outputs": [
    {
     "name": "stdout",
     "output_type": "stream",
     "text": [
      "1       \n",
      "  2     \n",
      "    3   \n",
      "      4 \n"
     ]
    }
   ],
   "source": [
    "n = int(input('Enter the number of rows & col& :'))\n",
    "val = 1\n",
    "for i in range(n):\n",
    "    for j in range(n):\n",
    "        if i == j:\n",
    "            print(val, end = ' ')\n",
    "        else:\n",
    "            print(' ', end = ' ')\n",
    "    print()\n",
    "    val += 1\n",
    "    if val > 9:\n",
    "        val = 1"
   ]
  },
  {
   "cell_type": "code",
   "execution_count": 6,
   "metadata": {},
   "outputs": [
    {
     "name": "stdout",
     "output_type": "stream",
     "text": [
      "5         \n",
      "  4       \n",
      "    3     \n",
      "      2   \n",
      "        1 \n"
     ]
    }
   ],
   "source": [
    "n = int(input('Enter the number of rows & cols :'))\n",
    "val = n\n",
    "if val > 9:\n",
    "    val = 9\n",
    "for i in range(n):\n",
    "    for j in range(n):\n",
    "        if i == j:\n",
    "            print(val, end = ' ')\n",
    "        else:\n",
    "            print(' ', end = ' ')\n",
    "    print()\n",
    "    val -= 1\n",
    "    if val <1:\n",
    "        val = 9"
   ]
  },
  {
   "cell_type": "code",
   "execution_count": 7,
   "metadata": {},
   "outputs": [
    {
     "name": "stdout",
     "output_type": "stream",
     "text": [
      "A       \n",
      "B B     \n",
      "C C C   \n",
      "D D D D \n"
     ]
    }
   ],
   "source": [
    "n = int(input('Enter the number of rows & cols :'))\n",
    "val = ord('A')\n",
    "for i in range(n):\n",
    "    for j in range(n):\n",
    "        if i >= j :\n",
    "            print(chr(val), end = ' ')\n",
    "        else:\n",
    "            print((' '), end = ' ')\n",
    "    print()\n",
    "    val += 1\n",
    "    if val > ord('Z'):\n",
    "        val = ord('A')"
   ]
  },
  {
   "cell_type": "code",
   "execution_count": 9,
   "metadata": {},
   "outputs": [
    {
     "name": "stdout",
     "output_type": "stream",
     "text": [
      "A       \n",
      "A B     \n",
      "A B C   \n",
      "A B C D \n"
     ]
    }
   ],
   "source": [
    "n = int(input('Enter the number of rows & cols :'))\n",
    "for i in range(n):\n",
    "    val = ord('A')\n",
    "    for j in range(n):\n",
    "        if i >= j:\n",
    "            print(chr(val), end = ' ')\n",
    "        else:\n",
    "            print(' ', end = ' ')\n",
    "        val += 1\n",
    "    print()"
   ]
  },
  {
   "cell_type": "code",
   "execution_count": 12,
   "metadata": {},
   "outputs": [
    {
     "name": "stdout",
     "output_type": "stream",
     "text": [
      "D       \n",
      "C C     \n",
      "B B B   \n",
      "A A A A \n"
     ]
    }
   ],
   "source": [
    "n= int(input('Enter the number of row & cols :'))\n",
    "val = ord('A') + n - 1\n",
    "if val >ord('Z'):\n",
    "    val = ord('Z')\n",
    "for i in range(n):\n",
    "    for j in range(n):\n",
    "        if i >= j:\n",
    "            print(chr(val), end = ' ')\n",
    "        else:\n",
    "            print(' ', end = ' ')\n",
    "    print()\n",
    "    val -= 1\n",
    "    if val < ord('A'):\n",
    "        val = ord('Z')"
   ]
  },
  {
   "cell_type": "code",
   "execution_count": 19,
   "metadata": {},
   "outputs": [
    {
     "name": "stdout",
     "output_type": "stream",
     "text": [
      "      A \n",
      "    A B \n",
      "  A B C \n",
      "A B C D \n"
     ]
    }
   ],
   "source": [
    "n = int(input('Enter the number of rows & cols :'))\n",
    "for i in range(n):\n",
    "    val = ord('A')\n",
    "    for j in range(n):\n",
    "        if (i + j ) >= n - 1:\n",
    "            print(chr(val), end = ' ')\n",
    "            val += 1\n",
    "        else:\n",
    "            print(' ', end = ' ')\n",
    "    print()"
   ]
  },
  {
   "cell_type": "code",
   "execution_count": 23,
   "metadata": {},
   "outputs": [
    {
     "name": "stdout",
     "output_type": "stream",
     "text": [
      "      D \n",
      "    C C \n",
      "  B B B \n",
      "A A A A \n"
     ]
    }
   ],
   "source": [
    "n = int(input('Enter the number of rows & cols :'))\n",
    "val = ord('A') + n - 1\n",
    "for i in range(n):\n",
    "    for j in range(n):\n",
    "        if (i + j ) >= n - 1:\n",
    "            print(chr(val), end = ' ')\n",
    "        else:\n",
    "            print(' ', end = ' ')\n",
    "    print()\n",
    "    val -= 1"
   ]
  },
  {
   "cell_type": "code",
   "execution_count": 31,
   "metadata": {},
   "outputs": [
    {
     "name": "stdout",
     "output_type": "stream",
     "text": [
      "    3 \n",
      "  3 2 \n",
      "3 2 1 \n"
     ]
    }
   ],
   "source": [
    "n = int(input('Enter the number of rows & cols :'))\n",
    "for i in range(n):\n",
    "    val = 1 + n - 1\n",
    "    for j in range(n):\n",
    "        if (i + j ) >= n - 1:\n",
    "            print(val, end = ' ')\n",
    "            val -= 1\n",
    "        else:\n",
    "            print(' ', end = ' ')\n",
    "        \n",
    "    print()"
   ]
  },
  {
   "cell_type": "code",
   "execution_count": 37,
   "metadata": {},
   "outputs": [
    {
     "name": "stdout",
     "output_type": "stream",
     "text": [
      "4 3 2 1 \n",
      "4 3 2   \n",
      "4 3     \n",
      "4       \n"
     ]
    }
   ],
   "source": [
    "n = int(input(\"Enter the number of rows & cols :\"))\n",
    "for i in range(n):\n",
    "    val = n\n",
    "    for j in range(n):\n",
    "        if (i + j ) <= n - 1:\n",
    "            print(val, end = ' ')\n",
    "        else:\n",
    "            print(' ', end = ' ')\n",
    "        val -= 1\n",
    "    print()"
   ]
  },
  {
   "cell_type": "code",
   "execution_count": null,
   "metadata": {},
   "outputs": [],
   "source": []
  },
  {
   "cell_type": "code",
   "execution_count": 7,
   "metadata": {},
   "outputs": [
    {
     "name": "stdout",
     "output_type": "stream",
     "text": [
      "    * \n",
      "  * * * \n",
      "* * * * * \n"
     ]
    }
   ],
   "source": [
    "n = int(input('Enter the number of rows & cols :'))\n",
    "for i in range(n):\n",
    "    for j in range(n - 1 - i):\n",
    "        print(' ', end = ' ')\n",
    "    for k in range(2 * i + 1):\n",
    "        print('*', end = ' ')\n",
    "    print()"
   ]
  },
  {
   "cell_type": "code",
   "execution_count": 11,
   "metadata": {},
   "outputs": [
    {
     "name": "stdout",
     "output_type": "stream",
     "text": [
      "        1 \n",
      "      2 3 4 \n",
      "    5 6 7 8 9 \n",
      "  1 2 3 4 5 6 7 \n",
      "8 9 1 2 3 4 5 6 7 \n"
     ]
    }
   ],
   "source": [
    "n = int(input('Enter the number of rows & cols :'))\n",
    "val = 1\n",
    "for i in range(n):\n",
    "    for j in range(n - 1 - i):\n",
    "        print(' ', end = ' ')\n",
    "    for k in range(2 * i + 1):\n",
    "        print(val, end = ' ')\n",
    "        val += 1\n",
    "        if val > 9:\n",
    "            val = 1\n",
    "    print()"
   ]
  },
  {
   "cell_type": "code",
   "execution_count": 1,
   "metadata": {},
   "outputs": [
    {
     "name": "stdout",
     "output_type": "stream",
     "text": [
      "      A \n",
      "    B C D \n",
      "  E F G H I \n",
      "J K L M N O P \n"
     ]
    }
   ],
   "source": [
    "n = int(input('Enter the number of rows & cols :'))\n",
    "val = ord('A')\n",
    "for i in range(n):\n",
    "    for j in range(n - 1 - i):\n",
    "        print(' ', end = ' ')\n",
    "    for k in range(2 * i + 1):\n",
    "        print(chr(val), end = ' ')\n",
    "        val += 1\n",
    "    print()"
   ]
  },
  {
   "cell_type": "code",
   "execution_count": 19,
   "metadata": {},
   "outputs": [
    {
     "name": "stdout",
     "output_type": "stream",
     "text": [
      "      A \n",
      "    A B C \n",
      "  A B C D E \n",
      "A B C D E F G \n"
     ]
    }
   ],
   "source": [
    "n = int(input('Enter the number of rows & cols :'))\n",
    "for i in range(n):\n",
    "    val = ord('A')\n",
    "    for j in range(n - 1- i):\n",
    "        print(' ', end = ' ')\n",
    "    for k in range(2 * i + 1):\n",
    "        print(chr(val), end = ' ')\n",
    "        val += 1\n",
    "    print()"
   ]
  },
  {
   "cell_type": "code",
   "execution_count": 20,
   "metadata": {},
   "outputs": [
    {
     "name": "stdout",
     "output_type": "stream",
     "text": [
      "4 4 4 4 4 4 4 \n",
      "  3 3 3 3 3 \n",
      "    2 2 2 \n",
      "      1 \n"
     ]
    }
   ],
   "source": [
    "n = int(input('Enter the number of rows & cols :'))\n",
    "val = n\n",
    "if val > 9:\n",
    "    val = 9\n",
    "for i in range(n-1,-1,-1):\n",
    "    for j in range(n - 1 - i):\n",
    "        print(' ', end = ' ')\n",
    "    for j in range(2 * i + 1):\n",
    "        print(val, end = ' ')\n",
    "    print()\n",
    "    val -= 1\n",
    "    "
   ]
  },
  {
   "cell_type": "code",
   "execution_count": 22,
   "metadata": {},
   "outputs": [
    {
     "name": "stdout",
     "output_type": "stream",
     "text": [
      "Z Z Z Z Z Z Z Z Z \n",
      "  Y Y Y Y Y Y Y \n",
      "    X X X X X \n",
      "      W W W \n",
      "        V \n"
     ]
    }
   ],
   "source": [
    "n = int(input('Enter the number of rows & cols :'))\n",
    "val = ord('Z')\n",
    "if val < ord('Z'):\n",
    "    val = ord('Z')\n",
    "for i in range(n-1, -1, -1):\n",
    "    for j in range(n- 1 - i):\n",
    "        print(' ', end = ' ')\n",
    "    for k in range(2 * i + 1):\n",
    "        print(chr(val),end = ' ')\n",
    "    print()\n",
    "    val -= 1"
   ]
  },
  {
   "cell_type": "code",
   "execution_count": 9,
   "metadata": {},
   "outputs": [
    {
     "name": "stdout",
     "output_type": "stream",
     "text": [
      "    3 \n",
      "  3 2 1 \n",
      "3 2 1 9 8 \n"
     ]
    }
   ],
   "source": [
    "n = int(input('Enter the number of rows & cols :'))\n",
    "for i in range(n):\n",
    "    val = 1 + n - 1\n",
    "    for j in range(n - 1 - i):\n",
    "        print(' ', end = ' ')\n",
    "    for k in range(2 * i + 1):\n",
    "        print(val, end = ' ')\n",
    "        val -= 1\n",
    "        if val < 1:\n",
    "            val = 9\n",
    "    print()"
   ]
  },
  {
   "cell_type": "code",
   "execution_count": 10,
   "metadata": {},
   "outputs": [
    {
     "name": "stdout",
     "output_type": "stream",
     "text": [
      "D       \n",
      "D C     \n",
      "D C B   \n",
      "D C B A \n"
     ]
    }
   ],
   "source": [
    "n = int(input('n :'))\n",
    "for i in range(n):\n",
    "    val = ord('A') + n -1\n",
    "    if val > ord('Z'):\n",
    "        val = ord('A')\n",
    "    for j in range(n):\n",
    "        if i >= j :\n",
    "            print(chr(val), end = ' ')\n",
    "        else:\n",
    "            print(' ', end = ' ')\n",
    "        val -= 1\n",
    "    print()"
   ]
  },
  {
   "cell_type": "code",
   "execution_count": 4,
   "metadata": {},
   "outputs": [
    {
     "name": "stdout",
     "output_type": "stream",
     "text": [
      "      1 \n",
      "    2   \n",
      "  3     \n",
      "4       \n"
     ]
    }
   ],
   "source": [
    "n= int(input('Enter the number od rows & cols :'))\n",
    "val = 1\n",
    "for i in range(n):\n",
    "    for j in range(n):\n",
    "        if (i+j) == n- 1:\n",
    "            print(val, end = ' ')\n",
    "        else:\n",
    "            print(' ', end = ' ')\n",
    "    print()\n",
    "    val += 1\n",
    "    if val > 9:\n",
    "        val = 1"
   ]
  },
  {
   "cell_type": "code",
   "execution_count": 19,
   "metadata": {},
   "outputs": [
    {
     "name": "stdout",
     "output_type": "stream",
     "text": [
      "        1 \n",
      "      A A A \n",
      "    2 2 2 2 2 \n",
      "  B B B B B B B \n",
      "3 3 3 3 3 3 3 3 3 \n"
     ]
    }
   ],
   "source": [
    "n = int(input('Enter the number of rows & cols :'))\n",
    "val = 1\n",
    "char = ord('A')\n",
    "for i in range(n):\n",
    "    for j in range(n - 1 - i):\n",
    "        print(' ', end = ' ')\n",
    "    for k in range(2 * i + 1):\n",
    "        if i % 2 == 0:\n",
    "            print(val, end = ' ')\n",
    "        else:\n",
    "            print(chr(char), end = ' ')\n",
    "    print()\n",
    "    if i % 2 == 0:\n",
    "        val += 1\n",
    "        if val > 9:\n",
    "            val = 1\n",
    "    else:\n",
    "        char +=1\n",
    "        if char > ord('Z'):\n",
    "            val = ord('A')"
   ]
  },
  {
   "cell_type": "code",
   "execution_count": 5,
   "metadata": {},
   "outputs": [
    {
     "name": "stdout",
     "output_type": "stream",
     "text": [
      "1   1 \n",
      "  2   \n",
      "3   3 \n"
     ]
    }
   ],
   "source": [
    "n=int(input(\"n: \"))\n",
    "val=1\n",
    "for i in range(n):\n",
    "    for j in range(n):\n",
    "        if i==j or (i+j)==n-1:\n",
    "            print(val,end=\" \")\n",
    "\n",
    "        else:\n",
    "            print(\" \",end=\" \")\n",
    "    print()\n",
    "    val+=1\n",
    "    if val>3:\n",
    "        val=1"
   ]
  },
  {
   "cell_type": "code",
   "execution_count": 12,
   "metadata": {},
   "outputs": [
    {
     "name": "stdout",
     "output_type": "stream",
     "text": [
      "* * * * \n",
      "*     * \n",
      "*     * \n",
      "* * * * \n"
     ]
    }
   ],
   "source": [
    "n = int(input('n: '))\n",
    "for i in range(n):\n",
    "    for j in range(n):\n",
    "        if i == 0  or j == 0 or i == n -1 or j == n-1:\n",
    "            print('*', end = ' ')\n",
    "        else:\n",
    "            print(' ', end = ' ')\n",
    "    print()"
   ]
  },
  {
   "cell_type": "code",
   "execution_count": 15,
   "metadata": {},
   "outputs": [
    {
     "name": "stdout",
     "output_type": "stream",
     "text": [
      "* * * * \n",
      "*     * \n",
      "*     * \n",
      "* * * * \n"
     ]
    }
   ],
   "source": [
    "n = int(input('n: '))\n",
    "for i in range(n):\n",
    "    for j in range(n):\n",
    "        if i == 0  or j == 0 or i == n -1 or j == n-1:\n",
    "            print('*', end = ' ')\n",
    "        else:\n",
    "            print(' ', end = ' ')\n",
    "    print()"
   ]
  },
  {
   "cell_type": "code",
   "execution_count": 23,
   "metadata": {},
   "outputs": [
    {
     "name": "stdout",
     "output_type": "stream",
     "text": [
      "* * * * \n",
      "  *   * \n",
      "    * * \n",
      "      * \n"
     ]
    }
   ],
   "source": [
    "n = int(input('n: '))\n",
    "for i in range(n):\n",
    "    for j in range(n):\n",
    "        if  j == n - 1 or i == 0 or i == j:\n",
    "            print('*', end = ' ')\n",
    "        else:\n",
    "            print(' ', end = ' ')\n",
    "    print()"
   ]
  },
  {
   "cell_type": "code",
   "execution_count": 24,
   "metadata": {},
   "outputs": [
    {
     "name": "stdout",
     "output_type": "stream",
     "text": [
      "      * \n",
      "    * * * \n",
      "  * * * * * \n",
      "* * * * * * * \n"
     ]
    }
   ],
   "source": [
    "n = int(input('Enter the number of rows & cols :'))\n",
    "for i in range(n):\n",
    "    for j in range(n - 1 - i):\n",
    "        print(' ', end = ' ')\n",
    "    for k in range(2 * i + 1):\n",
    "        print('*', end = ' ')\n",
    "    print()"
   ]
  },
  {
   "cell_type": "code",
   "execution_count": 12,
   "metadata": {},
   "outputs": [
    {
     "name": "stdout",
     "output_type": "stream",
     "text": [
      "    * \n",
      "  *   * \n",
      "* * * * * \n"
     ]
    }
   ],
   "source": [
    "n = int(input('Enter the number of rows & cols :'))\n",
    "for i in range(n):\n",
    "    for j in range(n - 1 - i):\n",
    "        print(' ', end = ' ')\n",
    "    for k in range(2 * i + 1):\n",
    "        if i == n -1 or i == 0 or k == 0 or k == 2 * i:\n",
    "            print('*', end = ' ')\n",
    "        else:\n",
    "            print(' ', end = ' ')\n",
    "    print()"
   ]
  },
  {
   "cell_type": "code",
   "execution_count": 28,
   "metadata": {},
   "outputs": [
    {
     "name": "stdout",
     "output_type": "stream",
     "text": [
      "* * * * * * * \n",
      "* *       * * \n",
      "*   *   *   * \n",
      "*     *     * \n",
      "*   *   *   * \n",
      "* *       * * \n",
      "* * * * * * * \n"
     ]
    }
   ],
   "source": [
    "n = int(input('Enter the number of rows & cols :'))\n",
    "for i in range(n):\n",
    "  for j in range(n):\n",
    "    if i == 0 or j == 0 or i == n - 1 or j == n - 1 or i == j or i + j == n - 1:\n",
    "      print('*', end = ' ')\n",
    "    else:\n",
    "      print(' ', end = ' ')\n",
    "  print()"
   ]
  },
  {
   "cell_type": "code",
   "execution_count": 13,
   "metadata": {},
   "outputs": [
    {
     "name": "stdout",
     "output_type": "stream",
     "text": [
      "A B C \n",
      "C D E \n",
      "E F G \n"
     ]
    }
   ],
   "source": [
    "n = int(input('Enter the number of rows & cols :'))\n",
    "val = ord('A')\n",
    "for i in range(n):\n",
    "    for j in range(n):\n",
    "        print(chr(val), end = ' ')\n",
    "        val += 1\n",
    "        if val >ord('Z'):\n",
    "            val = ord('A')\n",
    "    print()\n",
    "    val -= 1"
   ]
  },
  {
   "cell_type": "code",
   "execution_count": 4,
   "metadata": {},
   "outputs": [
    {
     "name": "stdout",
     "output_type": "stream",
     "text": [
      "        * \n",
      "      * * \n",
      "    * * * \n",
      "      * * \n",
      "        * \n"
     ]
    }
   ],
   "source": [
    "n = int(input(\"Enter the number of rows: \"))\n",
    "for i in range(1, n + 1):\n",
    "    for j in range(1, n + 1):\n",
    "        if j >= i and j >= n + 1 - i:\n",
    "            print(\"*\", end=\" \")\n",
    "        else:\n",
    "            print(\" \", end=\" \")\n",
    "    print()\n"
   ]
  },
  {
   "cell_type": "code",
   "execution_count": 16,
   "metadata": {},
   "outputs": [
    {
     "name": "stdout",
     "output_type": "stream",
     "text": [
      "*         \n",
      "* *       \n",
      "* * *     \n",
      "* *       \n",
      "*         \n"
     ]
    }
   ],
   "source": [
    "n = int(input(\"Enter the number of rows :\"))\n",
    "for i in range(1,n + 1):\n",
    "  for j in range(1, n + 1):\n",
    "    if j <= i and j <= n + 1 - i:\n",
    "      print(\"*\", end=\" \")\n",
    "    else:\n",
    "      print(\" \", end=\" \")\n",
    "  print()"
   ]
  },
  {
   "cell_type": "code",
   "execution_count": 22,
   "metadata": {},
   "outputs": [
    {
     "name": "stdout",
     "output_type": "stream",
     "text": [
      "* * * * * \n",
      "* * * * * \n",
      "* * * * * \n",
      "* * * * \n",
      "* * * \n"
     ]
    }
   ],
   "source": [
    "n = int(input('Enter the number of rows & cols :'))\n",
    "for i in range(n):\n",
    "    for j in range(n):\n",
    "        if j == 0 or i :\n",
    "            print('*', end = ' ')\n",
    "    print()\n",
    "        "
   ]
  },
  {
   "cell_type": "code",
   "execution_count": 13,
   "metadata": {},
   "outputs": [
    {
     "name": "stdout",
     "output_type": "stream",
     "text": [
      "Z Y X W V \n",
      "V U T S R \n",
      "R Q P O N \n",
      "N M L K J \n",
      "J I H G F \n"
     ]
    }
   ],
   "source": [
    "n = int(input('Enter the number of rows & cols :'))\n",
    "val = ord('Z')\n",
    "for i in range(n):\n",
    "    for j in range(n):\n",
    "        print(chr(val), end = ' ')\n",
    "        val -= 1\n",
    "        if val <ord('A'):\n",
    "            val = ord('Z')\n",
    "    print()\n",
    "    val += 1"
   ]
  },
  {
   "cell_type": "code",
   "execution_count": 16,
   "metadata": {},
   "outputs": [
    {
     "name": "stdout",
     "output_type": "stream",
     "text": [
      "    Z \n",
      "  Y Z \n",
      "X Y Z \n"
     ]
    }
   ],
   "source": [
    "n = int(input('Enter the number of rows & cols :'))\n",
    "for i in range(n):\n",
    "    val = ord('Z')-i\n",
    "    for j in range(n):\n",
    "        if (i + j ) >= n - 1:\n",
    "            print(chr(val), end = ' ')\n",
    "            val += 1\n",
    "            if val < ord('A'):\n",
    "                val = ord('Z')\n",
    "        else:\n",
    "            print(' ', end = ' ')\n",
    "    print()\n",
    "    "
   ]
  },
  {
   "cell_type": "code",
   "execution_count": 17,
   "metadata": {},
   "outputs": [
    {
     "name": "stdout",
     "output_type": "stream",
     "text": [
      "* * * \n",
      "*   * \n",
      "*   * \n",
      "* * * \n",
      "*   * \n"
     ]
    }
   ],
   "source": [
    "n = int(input(\"Enter the number of Rows & cols :\"))\n",
    "for i in range(n):\n",
    "    for j in range(n - 2):\n",
    "        if i == 0 or j == 0 or i == n - 2 or j == n - 3:\n",
    "            print('*', end = ' ')\n",
    "        else:\n",
    "            print(' ', end = ' ')\n",
    "    print()"
   ]
  },
  {
   "cell_type": "code",
   "execution_count": 14,
   "metadata": {},
   "outputs": [
    {
     "name": "stdout",
     "output_type": "stream",
     "text": [
      "* \n",
      "* \n",
      "* \n"
     ]
    }
   ],
   "source": [
    "n = int(input(\"Enter the number of Rows & cols :\"))\n",
    "for i in range(n):\n",
    "    for j in range(n - 2):\n",
    "        if i == 0 or j == 0 or i == n - 2 or j == n - 3:\n",
    "            print('*', end = ' ')\n",
    "        else:\n",
    "            print(' ', end = ' ')\n",
    "    print()"
   ]
  },
  {
   "cell_type": "code",
   "execution_count": 18,
   "metadata": {},
   "outputs": [
    {
     "name": "stdout",
     "output_type": "stream",
     "text": [
      "* * * * * \n",
      "*       * \n",
      "*   *   * \n",
      "*       * \n",
      "* * * * * \n"
     ]
    }
   ],
   "source": [
    "n = int(input('Enter the number of rows & cols :'))\n",
    "for i in range(n):\n",
    "  for j in range(n):\n",
    "    if i == 0 or j == 0 or i == n - 1 or j == n - 1 or (i == j and i + j == n- 1):\n",
    "      print('*', end = ' ')\n",
    "    else:\n",
    "      print(' ', end = ' ')\n",
    "  print()"
   ]
  },
  {
   "cell_type": "code",
   "execution_count": 14,
   "metadata": {},
   "outputs": [
    {
     "name": "stdout",
     "output_type": "stream",
     "text": [
      "* * * * * \n",
      "*   *   * \n",
      "* * * * * \n",
      "*   *   * \n",
      "* * * * * \n"
     ]
    }
   ],
   "source": [
    "n = int(input('Enter the number of rows & cols :'))\n",
    "for i in range(n):\n",
    "  for j in range(n):\n",
    "    if i == 0 or j == 0 or i == n - 1 or j == n - 1 or i == n // 2 or j == n // 2:\n",
    "      print('*', end = ' ')\n",
    "    else:\n",
    "      print(' ', end = ' ')\n",
    "  print()"
   ]
  },
  {
   "cell_type": "code",
   "execution_count": 26,
   "metadata": {},
   "outputs": [
    {
     "name": "stdout",
     "output_type": "stream",
     "text": [
      "2 4 6 "
     ]
    }
   ],
   "source": [
    "n = int(input('n :'))\n",
    "for i in range(1,n + 1):\n",
    "    print(i*2, end = ' ')"
   ]
  },
  {
   "cell_type": "code",
   "execution_count": 19,
   "metadata": {},
   "outputs": [
    {
     "name": "stdout",
     "output_type": "stream",
     "text": [
      "        1   \n",
      "      1   1   \n",
      "    1   2   1   \n",
      "  1   3   3   1   \n",
      "1   4   6   4   1   \n"
     ]
    }
   ],
   "source": [
    "n = int(input('Enter the number of rows & cols: '))\n",
    "for i in range(n):\n",
    "    for j in range(n - i - 1):\n",
    "        print(\" \", end=' ')\n",
    "    val = 1\n",
    "    for k in range(i + 1):\n",
    "        print(val, end='   ')\n",
    "        val = val * (i - k) // (k + 1)\n",
    "    print()\n"
   ]
  },
  {
   "cell_type": "code",
   "execution_count": 2,
   "metadata": {},
   "outputs": [
    {
     "name": "stdout",
     "output_type": "stream",
     "text": [
      "    1 \n",
      "   1 1 \n",
      "  1 2 1 \n",
      " 1 3 3 1 \n",
      "1 4 6 4 1 \n"
     ]
    }
   ],
   "source": [
    "n = int(input('Enter the number of rows & cols: '))\n",
    "for i in range(n):\n",
    "    for j in range(1, n - i):\n",
    "        print(end=' ')\n",
    "    ncr = 1\n",
    "    for k in range(i + 1):\n",
    "        print(ncr, end=' ')\n",
    "        ncr = ncr * (i - k) // (k + 1)\n",
    "    \n",
    "    print()\n"
   ]
  },
  {
   "cell_type": "code",
   "execution_count": 10,
   "metadata": {},
   "outputs": [
    {
     "name": "stdout",
     "output_type": "stream",
     "text": [
      "vishal"
     ]
    }
   ],
   "source": [
    "v = 'vishal'\n",
    "for i in v:\n",
    "    print(i, end = '')"
   ]
  },
  {
   "cell_type": "code",
   "execution_count": 24,
   "metadata": {},
   "outputs": [
    {
     "name": "stdout",
     "output_type": "stream",
     "text": [
      "* * * * \n",
      "*       \n",
      "*       \n",
      "* * * * \n"
     ]
    }
   ],
   "source": [
    "# n = int(input('n: '))\n",
    "n = 4\n",
    "for i in range(n):\n",
    "    for j in range(n):\n",
    "        if i == 0  or j == 0 or i == n -1 or j == n-1 and  (j == n -1 and i == n- 1):\n",
    "            print('*', end = ' ')\n",
    "        else:\n",
    "            print(' ', end = ' ')\n",
    "    print()"
   ]
  },
  {
   "cell_type": "code",
   "execution_count": 13,
   "metadata": {},
   "outputs": [
    {
     "name": "stdout",
     "output_type": "stream",
     "text": [
      "        \n",
      "        \n",
      "        \n",
      "      * \n"
     ]
    }
   ],
   "source": [
    "n = int(input('n: '))\n",
    "for i in range(n):\n",
    "    for j in range(n):\n",
    "        if j == n -1 and i == n- 1:\n",
    "            print('*', end = ' ')\n",
    "        else:\n",
    "            print(' ', end = ' ')\n",
    "    print()"
   ]
  },
  {
   "cell_type": "code",
   "execution_count": null,
   "metadata": {},
   "outputs": [],
   "source": []
  }
 ],
 "metadata": {
  "kernelspec": {
   "display_name": "Python 3",
   "language": "python",
   "name": "python3"
  },
  "language_info": {
   "codemirror_mode": {
    "name": "ipython",
    "version": 3
   },
   "file_extension": ".py",
   "mimetype": "text/x-python",
   "name": "python",
   "nbconvert_exporter": "python",
   "pygments_lexer": "ipython3",
   "version": "3.12.2"
  }
 },
 "nbformat": 4,
 "nbformat_minor": 2
}
