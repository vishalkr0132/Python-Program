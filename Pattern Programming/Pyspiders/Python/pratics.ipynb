{
 "cells": [
  {
   "cell_type": "markdown",
   "metadata": {},
   "source": [
    "# write a program to sum of digits of N:"
   ]
  },
  {
   "cell_type": "code",
   "execution_count": 4,
   "metadata": {},
   "outputs": [
    {
     "name": "stdout",
     "output_type": "stream",
     "text": [
      "15\n"
     ]
    }
   ],
   "source": [
    "n = int(input('n:'))\n",
    "sum = 0\n",
    "while n != 0:\n",
    "    rem = n % 10\n",
    "    sum += rem\n",
    "    n //= 10\n",
    "print(sum)"
   ]
  },
  {
   "cell_type": "markdown",
   "metadata": {},
   "source": [
    "write a program to calculate the product of digits"
   ]
  },
  {
   "cell_type": "code",
   "execution_count": 6,
   "metadata": {},
   "outputs": [
    {
     "name": "stdout",
     "output_type": "stream",
     "text": [
      "24\n"
     ]
    }
   ],
   "source": [
    "n = int(input('n:'))\n",
    "prod = 1\n",
    "while n != 0:\n",
    "    rem = n % 10\n",
    "    if rem != 0:\n",
    "        prod *= rem\n",
    "    n//=10\n",
    "print(prod)"
   ]
  },
  {
   "cell_type": "markdown",
   "metadata": {},
   "source": [
    "write a program count the  number is zero, even and odd."
   ]
  },
  {
   "cell_type": "code",
   "execution_count": 7,
   "metadata": {},
   "outputs": [
    {
     "name": "stdout",
     "output_type": "stream",
     "text": [
      "Number of zero : 1\n",
      "Number of Even :3\n",
      "Number of odd : 4\n"
     ]
    }
   ],
   "source": [
    "n = int(input('n'))\n",
    "zero,even,odd = 0,0,0\n",
    "while n > 0:\n",
    "    rem = n % 10\n",
    "    if rem == 0:\n",
    "        zero += 1\n",
    "    elif rem % 2 == 0:\n",
    "        even += 1\n",
    "    else:\n",
    "        odd += 1\n",
    "    n //= 10\n",
    "print(f'Number of zero : {zero}')\n",
    "print(f'Number of Even :{even}')\n",
    "print(f'Number of odd : {odd}')"
   ]
  },
  {
   "cell_type": "markdown",
   "metadata": {},
   "source": [
    "write a program revers the given number"
   ]
  },
  {
   "cell_type": "code",
   "execution_count": 9,
   "metadata": {},
   "outputs": [
    {
     "name": "stdout",
     "output_type": "stream",
     "text": [
      "321\n"
     ]
    }
   ],
   "source": [
    "n = int(input('n:'))\n",
    "rev = 0\n",
    "while n != 0:\n",
    "    rem = n % 10\n",
    "    rev = rev * 10 + rem\n",
    "    n //= 10\n",
    "print(rev)"
   ]
  },
  {
   "cell_type": "markdown",
   "metadata": {},
   "source": [
    "Write a program to check number is palindrom or not"
   ]
  },
  {
   "cell_type": "code",
   "execution_count": 12,
   "metadata": {},
   "outputs": [
    {
     "name": "stdout",
     "output_type": "stream",
     "text": [
      "131 is palindrom\n"
     ]
    }
   ],
   "source": [
    "n = int(input('n:'))\n",
    "rev = 0\n",
    "temp = n\n",
    "while n > 0:\n",
    "    rem = n % 10\n",
    "    rev = rev * 10 + rem\n",
    "    n //= 10\n",
    "if rev == temp:\n",
    "    print(f\"{temp} is palindrom\")\n",
    "else:\n",
    "    print(f'{temp} is not palindrom')"
   ]
  },
  {
   "cell_type": "markdown",
   "metadata": {},
   "source": [
    "write a program check the number is perfect or not"
   ]
  },
  {
   "cell_type": "code",
   "execution_count": 2,
   "metadata": {},
   "outputs": [
    {
     "name": "stdout",
     "output_type": "stream",
     "text": [
      "6 is perfect number\n"
     ]
    }
   ],
   "source": [
    "n = int(input('n:'))\n",
    "perf = 0\n",
    "for i in range(1,n):\n",
    "    if n % i == 0:\n",
    "        perf += i\n",
    "if perf == n:\n",
    "    print(f'{n} is perfect number')\n",
    "else:\n",
    "    print(f'{n} is not perfect number.')"
   ]
  },
  {
   "cell_type": "markdown",
   "metadata": {},
   "source": [
    "write a program to check number is prime or not."
   ]
  },
  {
   "cell_type": "code",
   "execution_count": 23,
   "metadata": {},
   "outputs": [
    {
     "name": "stdout",
     "output_type": "stream",
     "text": [
      "11 is prime\n"
     ]
    }
   ],
   "source": [
    "n = int(input('n:'))\n",
    "count = 0\n",
    "for i in range(1,n+1):\n",
    "    if n % i == 0:\n",
    "        count += 1\n",
    "if count == 2:\n",
    "    print(f'{n} is prime')\n",
    "else:\n",
    "    print(f'{n} is not prime')"
   ]
  },
  {
   "cell_type": "markdown",
   "metadata": {},
   "source": [
    "write a program to print 1 to n prime number."
   ]
  },
  {
   "cell_type": "code",
   "execution_count": 26,
   "metadata": {},
   "outputs": [
    {
     "name": "stdout",
     "output_type": "stream",
     "text": [
      "2 3 5 7 11 13 "
     ]
    }
   ],
   "source": [
    "n = int(input('n:'))\n",
    "for i in range(2, n + 1):\n",
    "    count = 0\n",
    "    for j in range(1, n + 1):\n",
    "        if i % j == 0:\n",
    "            count += 1\n",
    "    if count == 2:\n",
    "        print(i, end = ' ')"
   ]
  },
  {
   "cell_type": "markdown",
   "metadata": {},
   "source": [
    "write a program check number is Armstrong or not."
   ]
  },
  {
   "cell_type": "code",
   "execution_count": 29,
   "metadata": {},
   "outputs": [
    {
     "name": "stdout",
     "output_type": "stream",
     "text": [
      "153 is an Armstrong number\n"
     ]
    }
   ],
   "source": [
    "n = int(input('n: '))\n",
    "pow = len(str(n))\n",
    "sum = 0\n",
    "temp = n  \n",
    "while n > 0:\n",
    "    rem = n % 10 \n",
    "    sum += rem ** pow\n",
    "    n //= 10 \n",
    "if temp == sum:\n",
    "    print(f'{temp} is an Armstrong number')\n",
    "else:\n",
    "    print(f'{temp} is not an Armstrong number')\n"
   ]
  },
  {
   "cell_type": "markdown",
   "metadata": {},
   "source": [
    "write a program to check number is strong or not."
   ]
  },
  {
   "cell_type": "code",
   "execution_count": 32,
   "metadata": {},
   "outputs": [
    {
     "name": "stdout",
     "output_type": "stream",
     "text": [
      "Number is strong.\n"
     ]
    }
   ],
   "source": [
    "n = int(input('n:'))\n",
    "sum = 0\n",
    "orig = n\n",
    "while n != 0:\n",
    "    rem = n % 10\n",
    "    prod = 1\n",
    "    for i in range(1, rem + 1):\n",
    "        prod *= i\n",
    "    sum += prod\n",
    "    n //= 10\n",
    "if sum == orig:\n",
    "    print('Number is strong.')\n",
    "else:\n",
    "    print('Number is not strong.')"
   ]
  },
  {
   "cell_type": "markdown",
   "metadata": {},
   "source": [
    "write a program to  calculate the GCD number."
   ]
  },
  {
   "cell_type": "code",
   "execution_count": 39,
   "metadata": {},
   "outputs": [
    {
     "name": "stdout",
     "output_type": "stream",
     "text": [
      "6\n"
     ]
    }
   ],
   "source": [
    "n1 = int(input('N1'))\n",
    "n2 = int(input('n2'))\n",
    "# temp = n2\n",
    "while n2 != 0:\n",
    "    n1,n2 = n2,n1 % n2\n",
    "print(n1)"
   ]
  },
  {
   "cell_type": "markdown",
   "metadata": {},
   "source": [
    "write a progran to calculate the number of LCM."
   ]
  },
  {
   "cell_type": "code",
   "execution_count": 40,
   "metadata": {},
   "outputs": [
    {
     "name": "stdout",
     "output_type": "stream",
     "text": [
      "24\n"
     ]
    }
   ],
   "source": [
    "n1 = int(input('N1'))\n",
    "n2 = int(input('n2'))\n",
    "\n",
    "m = max(n1,n2)\n",
    "temp = m\n",
    "while True:\n",
    "    if m % n1 == 0 and m % n2 == 0:\n",
    "        print(m)\n",
    "        break\n",
    "    m += temp"
   ]
  },
  {
   "cell_type": "code",
   "execution_count": null,
   "metadata": {},
   "outputs": [],
   "source": []
  }
 ],
 "metadata": {
  "kernelspec": {
   "display_name": "Python 3",
   "language": "python",
   "name": "python3"
  },
  "language_info": {
   "codemirror_mode": {
    "name": "ipython",
    "version": 3
   },
   "file_extension": ".py",
   "mimetype": "text/x-python",
   "name": "python",
   "nbconvert_exporter": "python",
   "pygments_lexer": "ipython3",
   "version": "3.12.2"
  }
 },
 "nbformat": 4,
 "nbformat_minor": 2
}
