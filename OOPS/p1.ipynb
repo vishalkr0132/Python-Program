{
 "cells": [
  {
   "cell_type": "code",
   "execution_count": 1,
   "metadata": {},
   "outputs": [
    {
     "name": "stdout",
     "output_type": "stream",
     "text": [
      "['__class__', '__delattr__', '__dict__', '__dir__', '__doc__', '__eq__', '__format__', '__ge__', '__getattribute__', '__getstate__', '__gt__', '__hash__', '__init__', '__init_subclass__', '__le__', '__lt__', '__module__', '__ne__', '__new__', '__reduce__', '__reduce_ex__', '__repr__', '__setattr__', '__sizeof__', '__str__', '__subclasshook__', '__weakref__']\n"
     ]
    }
   ],
   "source": [
    "class Demo:\n",
    "    pass\n",
    "\n",
    "print(dir(Demo))"
   ]
  },
  {
   "cell_type": "code",
   "execution_count": 2,
   "metadata": {},
   "outputs": [
    {
     "name": "stdout",
     "output_type": "stream",
     "text": [
      "I am instance method meth\n",
      "None\n"
     ]
    }
   ],
   "source": [
    "class First:\n",
    "    a = 100 # class variable \n",
    "    def __init__(self,p):\n",
    "        self.p = p # self.p is a instance variable \n",
    "        \n",
    "    # Instance method\n",
    "    def meth(self):\n",
    "        print('I am instance method meth')\n",
    "# Create object\n",
    "obj = First(10)\n",
    "print(obj.meth())"
   ]
  },
  {
   "cell_type": "code",
   "execution_count": 11,
   "metadata": {},
   "outputs": [
    {
     "name": "stdout",
     "output_type": "stream",
     "text": [
      "******* Student Details *******\n",
      "Name : Vishal Kumar\n",
      "Age : 24\n",
      "Mobile No. : 7991198925\n",
      "Qulifications : BE\n",
      "Year of Passout : 2024\n",
      "Location : Basavanagudi\n",
      "Institute : Pyspiders\n",
      "None\n"
     ]
    }
   ],
   "source": [
    "class Student:\n",
    "    institute = 'Pyspiders' # class variable \n",
    "    location = 'Basavanagudi' # class variable\n",
    "    \n",
    "    # Instaice variables\n",
    "    def __init__(self,name,age,mobileno,gender,quilifications,yearofpassout):\n",
    "        self.name = name\n",
    "        self.age = age\n",
    "        self.mobileno = mobileno\n",
    "        self.gender = gender\n",
    "        self.quilifications = quilifications\n",
    "        self.yearofpassout = yearofpassout\n",
    "        \n",
    "    # Instance methods\n",
    "    def details(self):\n",
    "        print('******* Student Details *******')\n",
    "        print(f'Name : {self.name}')\n",
    "        print(f'Age : {self.age}')\n",
    "        print(f'Mobile No. : {self.mobileno}')\n",
    "        print(f'Qulifications : {self.quilifications}')\n",
    "        print(f'Year of Passout : {self.yearofpassout}')\n",
    "        print(f'Location : {self.location}')\n",
    "        print(f'Institute : {self.institute}')\n",
    "        \n",
    "s1 = Student('Vishal Kumar',24,7991198925,'Male','BE',2024,)\n",
    "print(s1.details())    "
   ]
  },
  {
   "cell_type": "code",
   "execution_count": 10,
   "metadata": {},
   "outputs": [
    {
     "name": "stdout",
     "output_type": "stream",
     "text": [
      "Before Any operation\n",
      "Username: vishal@gmail.com\n",
      "Following: 0\n",
      "Followers: 0\n",
      "-------------------------\n",
      "\n",
      "Username: pravin@gmail.com\n",
      "Following: 0\n",
      "Followers: 0\n",
      "-------------------------\n",
      "\n",
      "Username: neeru@gmail.com\n",
      "Following: 0\n",
      "Followers: 0\n",
      "-------------------------\n",
      "\n",
      "After Any operation\n",
      "vishal@gmail.com is now following pravin@gmail.com\n",
      "\n",
      "pravin@gmail.com is now following neeru@gmail.com\n",
      "\n",
      "neeru@gmail.com is now following vishal@gmail.com\n",
      "\n",
      "Username: vishal@gmail.com\n",
      "Following: 1\n",
      "Followers: 1\n",
      "-------------------------\n",
      "\n",
      "Username: pravin@gmail.com\n",
      "Following: 1\n",
      "Followers: 1\n",
      "-------------------------\n",
      "\n",
      "Username: neeru@gmail.com\n",
      "Following: 1\n",
      "Followers: 1\n",
      "-------------------------\n",
      "\n"
     ]
    }
   ],
   "source": [
    "class Instagram_Profile:\n",
    "    # Class variables\n",
    "    app_name = 'Instagram'\n",
    "    \n",
    "    # Instance variables\n",
    "    def __init__(self,username,password):\n",
    "        self.username = username\n",
    "        self.password = password\n",
    "        self.following = 0\n",
    "        self.followers = 0\n",
    "    # Instance Varibles \n",
    "    def follow(self,other_profile):\n",
    "        if self != other_profile:\n",
    "            self.following += 1\n",
    "            other_profile.followers += 1\n",
    "            print(f'{self.username} is now following {other_profile.username}')\n",
    "            print()\n",
    "        else:\n",
    "            print('Cannot follow yourself.')\n",
    "     # Instance variables       \n",
    "    def unfollow(self,other_profile):\n",
    "        if self != other_profile:\n",
    "            self.following -= 1\n",
    "            other_profile.followers -= 1\n",
    "            print(f'{self.username} is no longer following {other_profile.username}')\n",
    "            print()\n",
    "        else:\n",
    "            print('Cannot unfollow yourself.')\n",
    "    # Instac=nces Variables\n",
    "    def display(self):\n",
    "        print(f'Username: {self.username}')\n",
    "        print(f'Following: {self.following}')\n",
    "        print(f'Followers: {self.followers}')\n",
    "        print('-------------------------')\n",
    "        \n",
    "user1 = Instagram_Profile('vishal@gmail.com','Vishal123')\n",
    "user2 = Instagram_Profile('pravin@gmail.com','pravin123')\n",
    "user3 = Instagram_Profile('neeru@gmail.com','neeru123')\n",
    "\n",
    "print('Before Any operation')\n",
    "user1.display()\n",
    "print()\n",
    "user2.display()\n",
    "print()\n",
    "user3.display()\n",
    "print()\n",
    "\n",
    "print('After Any operation')\n",
    "\n",
    "user1.follow(user2)\n",
    "user2.follow(user3)\n",
    "user3.follow(user1)\n",
    "\n",
    "user1.display()\n",
    "print()\n",
    "user2.display()\n",
    "print()\n",
    "user3.display()\n",
    "print()"
   ]
  },
  {
   "cell_type": "code",
   "execution_count": 21,
   "metadata": {},
   "outputs": [
    {
     "name": "stdout",
     "output_type": "stream",
     "text": [
      "********* Account Details *********\n",
      "Bank Name : State Bank Of India\n",
      "Account Holder : John Doe\n",
      "Account Number : 12345678\n",
      "Balance : 5000\n",
      "--------------------------\n",
      "John Doe deposited 2000 and updated balance is 7000\n",
      "John Doe withdrew 1000 and updated balance is 6000\n",
      "\n",
      "********* Account Details *********\n",
      "Bank Name : State Bank Of India\n",
      "Account Holder : John Doe\n",
      "Account Number : 12345678\n",
      "Balance : 6000\n",
      "--------------------------\n",
      "\n",
      "********* Account Details *********\n",
      "Bank Name : State Bank Of India\n",
      "Account Holder : Jane Smith\n",
      "Account Number : 87654321\n",
      "Balance : 10000\n",
      "--------------------------\n"
     ]
    }
   ],
   "source": [
    "class BankAccount:\n",
    "    # Class variables\n",
    "    Bank_Name = 'State Bank Of India'\n",
    "    \n",
    "    # Instance variables\n",
    "    def __init__(self,Account_Holder,Account_Number,Balance = 0.0):\n",
    "        self.Account_Holder = Account_Holder\n",
    "        self.Account_Number = Account_Number\n",
    "        self.Balance = Balance\n",
    "    \n",
    "    # Instance Methods\n",
    "    def deposit(self,Amount):\n",
    "        if Amount > 0:\n",
    "            self.Balance += Amount\n",
    "            print(f'{self.Account_Holder} deposited {Amount} and updated balance is {self.Balance}')\n",
    "        else:\n",
    "            print('Invalid deposit amount.')\n",
    "    \n",
    "    # Instance Methods\n",
    "    def withdraw(self,Amount):\n",
    "        if 0 < Amount < self.Balance:\n",
    "            self.Balance -= Amount\n",
    "            print(f'{self.Account_Holder} withdrew {Amount} and updated balance is {self.Balance}')\n",
    "        \n",
    "        else:\n",
    "            print('Invalid withdrawal amount.')\n",
    "            print('Withdrawal amount should be greater than 0 and less than current Balance.')\n",
    "    \n",
    "    # Instance Methods\n",
    "    def display_details(self):\n",
    "        print('********* Account Details *********')\n",
    "        print(f'Bank Name : {self.Bank_Name}')\n",
    "        print(f'Account Holder : {self.Account_Holder}')\n",
    "        print(f'Account Number : {self.Account_Number}')\n",
    "        print(f'Balance : {self.Balance}')\n",
    "        print('--------------------------')\n",
    "        \n",
    "account1 = BankAccount('John Doe', '12345678', 5000)\n",
    "account2 = BankAccount('Jane Smith', '87654321', 10000)\n",
    "\n",
    "account1.display_details()\n",
    "account1.deposit(2000)\n",
    "account1.withdraw(1000)\n",
    "print()\n",
    "account1.display_details()\n",
    "print()\n",
    "account2.display_details()\n"
   ]
  },
  {
   "cell_type": "code",
   "execution_count": null,
   "metadata": {},
   "outputs": [],
   "source": []
  }
 ],
 "metadata": {
  "kernelspec": {
   "display_name": "Python 3",
   "language": "python",
   "name": "python3"
  },
  "language_info": {
   "codemirror_mode": {
    "name": "ipython",
    "version": 3
   },
   "file_extension": ".py",
   "mimetype": "text/x-python",
   "name": "python",
   "nbconvert_exporter": "python",
   "pygments_lexer": "ipython3",
   "version": "3.12.0"
  }
 },
 "nbformat": 4,
 "nbformat_minor": 2
}
