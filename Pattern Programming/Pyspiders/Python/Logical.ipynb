{
 "cells": [
  {
   "cell_type": "code",
   "execution_count": 12,
   "metadata": {},
   "outputs": [
    {
     "name": "stdout",
     "output_type": "stream",
     "text": [
      "6\n"
     ]
    }
   ],
   "source": [
    "n = int(input('n :'))\n",
    "sum = 0\n",
    "while n != 0:\n",
    "    r = n % 10\n",
    "    sum += r\n",
    "    n = n // 10\n",
    "print(sum)"
   ]
  },
  {
   "cell_type": "code",
   "execution_count": 13,
   "metadata": {},
   "outputs": [
    {
     "name": "stdout",
     "output_type": "stream",
     "text": [
      "32\n"
     ]
    }
   ],
   "source": [
    "n = int(input('n :'))\n",
    "prod = 1\n",
    "while n != 0:\n",
    "    r = n % 10\n",
    "    if r != 0:\n",
    "        prod *= r\n",
    "    n = n // 10\n",
    "print(prod)"
   ]
  },
  {
   "cell_type": "code",
   "execution_count": 15,
   "metadata": {},
   "outputs": [
    {
     "name": "stdout",
     "output_type": "stream",
     "text": [
      "32\n"
     ]
    }
   ],
   "source": [
    "n = int(input('n :'))\n",
    "prod = 1\n",
    "for i in str(n):\n",
    "    if i != '0':\n",
    "        prod *= int(i)\n",
    "print(prod)"
   ]
  },
  {
   "cell_type": "code",
   "execution_count": null,
   "metadata": {},
   "outputs": [],
   "source": [
    "n = int(input('n: '))\n",
    "zero = 0\n",
    "even = 0\n",
    "odd = 0\n",
    "for i in str(n):\n",
    "    if i == '0':\n",
    "        zero += 1\n",
    "    elif int(i) % 2 == 0:\n",
    "        even += 1\n",
    "    else:\n",
    "        odd += 1\n",
    "print(even)\n",
    "print(odd)"
   ]
  },
  {
   "cell_type": "code",
   "execution_count": 1,
   "metadata": {},
   "outputs": [
    {
     "name": "stdout",
     "output_type": "stream",
     "text": [
      "321\n"
     ]
    }
   ],
   "source": [
    "n = int(input())\n",
    "rev = 0\n",
    "while n > 0:\n",
    "    rem = n % 10\n",
    "    rev = rev * 10 + rem\n",
    "    n //= 10\n",
    "print(rev)"
   ]
  },
  {
   "cell_type": "code",
   "execution_count": 5,
   "metadata": {},
   "outputs": [
    {
     "name": "stdout",
     "output_type": "stream",
     "text": [
      "4535 is not a palindrom\n"
     ]
    }
   ],
   "source": [
    "n = int(input())\n",
    "rev = 0\n",
    "temp = n\n",
    "while n > 0:\n",
    "    rem = n % 10\n",
    "    rev = rev * 10 + rem\n",
    "    n //= 10\n",
    "if rev == temp:\n",
    "    print(f'{temp} is palindrom')\n",
    "else:\n",
    "    print(f'{temp} is not a palindrom')"
   ]
  },
  {
   "cell_type": "markdown",
   "metadata": {},
   "source": [
    "Perfect Number"
   ]
  },
  {
   "cell_type": "code",
   "execution_count": 1,
   "metadata": {},
   "outputs": [
    {
     "name": "stdout",
     "output_type": "stream",
     "text": [
      "6 is perfect Number\n"
     ]
    }
   ],
   "source": [
    "n = int(input('n:'))\n",
    "sum = 0\n",
    "for i in range(1,n):\n",
    "    if n % i == 0:\n",
    "        sum += i\n",
    "if sum == n:\n",
    "    print(f'{n} is perfect Number')\n",
    "else:\n",
    "    print(f'{n} is not perfect number')"
   ]
  },
  {
   "cell_type": "markdown",
   "metadata": {},
   "source": [
    "# Automorphic Numbers"
   ]
  },
  {
   "cell_type": "code",
   "execution_count": null,
   "metadata": {},
   "outputs": [],
   "source": [
    "n = int(input('n:'))\n",
    "sum = "
   ]
  },
  {
   "cell_type": "markdown",
   "metadata": {},
   "source": [
    "# Harshad Number"
   ]
  },
  {
   "cell_type": "code",
   "execution_count": 9,
   "metadata": {},
   "outputs": [
    {
     "name": "stdout",
     "output_type": "stream",
     "text": [
      "156 is Harshad Number\n"
     ]
    }
   ],
   "source": [
    "n = int(input('n:'))\n",
    "sum = 0\n",
    "temp = n\n",
    "while temp > 0:\n",
    "    sum += temp % 10\n",
    "    temp //= 10\n",
    "    \n",
    "if n % sum == 0:\n",
    "    print(f'{n} is Harshad Number')\n",
    "else:\n",
    "    print(f'{n} is not Harshad Number')"
   ]
  },
  {
   "cell_type": "code",
   "execution_count": 1,
   "metadata": {},
   "outputs": [
    {
     "name": "stdout",
     "output_type": "stream",
     "text": [
      "One Hundred Eleven\n"
     ]
    }
   ],
   "source": [
    "def number_to_words(num):\n",
    "    \n",
    "    below_20 = ['Zero', 'One', 'Two', 'Three', 'Four', 'Five', 'Six', 'Seven', 'Eight', 'Nine', \n",
    "                'Ten', 'Eleven', 'Twelve', 'Thirteen', 'Fourteen', 'Fifteen', 'Sixteen', 'Seventeen', 'Eighteen', 'Nineteen']\n",
    "    \n",
    "    tens = ['', '', 'Twenty', 'Thirty', 'Forty', 'Fifty', 'Sixty', 'Seventy', 'Eighty', 'Ninety']\n",
    "    \n",
    "    if num < 20:\n",
    "        return below_20[num]\n",
    "    elif num < 100:\n",
    "        return tens[num // 10] + ('' if num % 10 == 0 else ' ' + below_20[num % 10])\n",
    "    else:\n",
    "        return below_20[num // 100] + ' Hundred' + ('' if num % 100 == 0 else ' ' + number_to_words(num % 100))\n",
    "\n",
    "number = 111\n",
    "print(number_to_words(number))\n"
   ]
  },
  {
   "cell_type": "code",
   "execution_count": null,
   "metadata": {},
   "outputs": [],
   "source": [
    "def convert_to_words(num):\n",
    "    ones = [\"\", \"One\", \"Two\", \"Three\", \"Four\", \"Five\", \"Six\", \"Seven\", \"Eight\", \"Nine\"]\n",
    "    tens = [\"\", \"\", \"Twenty\", \"Thirty\", \"Forty\", \"Fifty\", \"Sixty\", \"Seventy\", \"Eighty\", \"Ninety\"]\n",
    "    teens = [\"Ten\", \"Eleven\", \"Twelve\", \"Thirteen\", \"Fourteen\", \"Fifteen\", \"Sixteen\", \"Seventeen\", \"Eighteen\", \"Nineteen\"]\n",
    "    if num == 0:\n",
    "        return \"Zero\"\n",
    "    if num < 10:\n",
    "        return ones[num]\n",
    "    if num < 20:\n",
    "        return teens[num - 10]\n",
    "    \n",
    "    if num < 100:\n",
    "        return tens[num // 10] + (\" \" + ones[num % 10] if num % 10 != 0 else \"\")\n",
    "\n",
    "    return ones[num // 100] + \" Hundred\" + (\n",
    "        \" \" + convert_to_words(num % 100) if num % 100 != 0 else \"\")\n",
    "\n",
    "number = 111\n",
    "print(convert_to_words(number))\n"
   ]
  },
  {
   "cell_type": "code",
   "execution_count": 2,
   "metadata": {},
   "outputs": [
    {
     "name": "stdout",
     "output_type": "stream",
     "text": [
      "one two three\n"
     ]
    }
   ],
   "source": [
    "def number_to_custom_words(num):\n",
    "    word = {\n",
    "        '0': 'zero', '1': 'one', '2': 'two', '3': 'three', \n",
    "        '4': 'four', '5': 'five', '6': 'six', '7': 'seven', \n",
    "        '8': 'eight', '9': 'nine'\n",
    "    }\n",
    "    \n",
    "    num_str = str(num)\n",
    "    result = []\n",
    "    for digit in num_str:\n",
    "        result.append(word[digit])\n",
    "    return ' '.join(result)\n",
    "num = int(input('n:'))\n",
    "print(number_to_custom_words(num))\n"
   ]
  },
  {
   "cell_type": "code",
   "execution_count": 3,
   "metadata": {},
   "outputs": [
    {
     "name": "stdout",
     "output_type": "stream",
     "text": [
      "prime\n"
     ]
    }
   ],
   "source": [
    "n = int(input('n'))\n",
    "l = []\n",
    "for i in range(1,n + 1):\n",
    "    if n % i == 0:\n",
    "        l.append(i)\n",
    "if len(l) == 2:\n",
    "    print('prime')\n",
    "else:\n",
    "    print('Not Prime')"
   ]
  },
  {
   "cell_type": "code",
   "execution_count": 4,
   "metadata": {},
   "outputs": [
    {
     "name": "stdout",
     "output_type": "stream",
     "text": [
      "prime\n"
     ]
    }
   ],
   "source": [
    "n = int(input('n: '))\n",
    "count = 0\n",
    "for i in range(1, n + 1):\n",
    "    if n % i == 0:\n",
    "        count += 1\n",
    "if count == 2:\n",
    "    print('prime')\n",
    "else:\n",
    "    print('Not Prime')\n"
   ]
  },
  {
   "cell_type": "code",
   "execution_count": 6,
   "metadata": {},
   "outputs": [
    {
     "name": "stdout",
     "output_type": "stream",
     "text": [
      "Prime numbers up to 100:\n",
      "2 3 5 7 11 13 17 19 23 29 31 37 41 43 47 53 59 61 67 71 73 79 83 89 97 "
     ]
    }
   ],
   "source": [
    "n = int(input('n: '))\n",
    "def is_prime(num):\n",
    "    if num < 2:\n",
    "        return False\n",
    "    for i in range(2, int(num**0.5) + 1):\n",
    "        if num % i == 0:\n",
    "            return False\n",
    "    return True\n",
    "\n",
    "print(f\"Prime numbers up to {n}:\")\n",
    "for i in range(2, n + 1):\n",
    "    if is_prime(i):\n",
    "        print(i, end=\" \")"
   ]
  },
  {
   "cell_type": "markdown",
   "metadata": {},
   "source": [
    "# GCD"
   ]
  },
  {
   "cell_type": "code",
   "execution_count": 1,
   "metadata": {},
   "outputs": [
    {
     "name": "stdout",
     "output_type": "stream",
     "text": [
      "4\n"
     ]
    }
   ],
   "source": [
    "n1 = int(input(\"n1: \"))\n",
    "n2 = int(input(\"n2: \"))\n",
    "\n",
    "while n2 != 0:\n",
    "  temp = n2\n",
    "  n2 = n1 % n2\n",
    "  n1 = temp\n",
    "print(n1)"
   ]
  },
  {
   "cell_type": "code",
   "execution_count": null,
   "metadata": {},
   "outputs": [],
   "source": [
    "n1 = int(input)"
   ]
  }
 ],
 "metadata": {
  "kernelspec": {
   "display_name": "Python 3",
   "language": "python",
   "name": "python3"
  },
  "language_info": {
   "codemirror_mode": {
    "name": "ipython",
    "version": 3
   },
   "file_extension": ".py",
   "mimetype": "text/x-python",
   "name": "python",
   "nbconvert_exporter": "python",
   "pygments_lexer": "ipython3",
   "version": "3.12.2"
  }
 },
 "nbformat": 4,
 "nbformat_minor": 2
}
