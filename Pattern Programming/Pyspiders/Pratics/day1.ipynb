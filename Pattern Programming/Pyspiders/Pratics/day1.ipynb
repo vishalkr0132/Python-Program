{
 "cells": [
  {
   "cell_type": "code",
   "execution_count": 6,
   "metadata": {},
   "outputs": [
    {
     "name": "stdout",
     "output_type": "stream",
     "text": [
      "321\n"
     ]
    }
   ],
   "source": [
    "def reverse(num):\n",
    "    rev = 0\n",
    "    while num != 0:\n",
    "        rem = num % 10\n",
    "        rev = rev * 10 + rem\n",
    "        num //= 10\n",
    "    return rev\n",
    "number = int(input('Enter the number:'))\n",
    "print(reverse(number))"
   ]
  },
  {
   "cell_type": "code",
   "execution_count": 7,
   "metadata": {},
   "outputs": [
    {
     "name": "stdout",
     "output_type": "stream",
     "text": [
      "palindrom\n"
     ]
    }
   ],
   "source": [
    "def palindrom(num):\n",
    "    rev = 0\n",
    "    org = num\n",
    "    while num != 0:\n",
    "        rem = num % 10\n",
    "        rev = rev * 10 + rem\n",
    "        num //= 10\n",
    "    if rev == org:\n",
    "        return 'palindrom'\n",
    "    return ' Not Palindrom '\n",
    "number = int(input('Enter the number:'))\n",
    "print(palindrom(number))        "
   ]
  },
  {
   "cell_type": "code",
   "execution_count": 15,
   "metadata": {},
   "outputs": [
    {
     "name": "stdout",
     "output_type": "stream",
     "text": [
      "6 Number is not perfect\n"
     ]
    }
   ],
   "source": [
    "def prefect(num):\n",
    "    pref = 0\n",
    "    for i in range(1, num+1):\n",
    "        if num % i == 0:\n",
    "            pref += 1\n",
    "    if pref == num:\n",
    "        return f'{num} Number is perfect'\n",
    "    else:\n",
    "        return f'{num} Number is not perfect'\n",
    "\n",
    "number = int(input('Enter the number :'))\n",
    "print(prefect(number))"
   ]
  },
  {
   "cell_type": "code",
   "execution_count": 19,
   "metadata": {},
   "outputs": [
    {
     "name": "stdout",
     "output_type": "stream",
     "text": [
      "11 is prime\n"
     ]
    }
   ],
   "source": [
    "def prime_number(num):\n",
    "    count = 0\n",
    "    for i in range(1,num+1):\n",
    "        if num % i == 0:\n",
    "            count += 1\n",
    "            # break\n",
    "    if count == 2:\n",
    "        return f'{num} is prime'\n",
    "    return f'{num} is not prime'\n",
    "\n",
    "number = int(input('Enter a Number:'))\n",
    "print(prime_number(number))"
   ]
  },
  {
   "cell_type": "code",
   "execution_count": 25,
   "metadata": {},
   "outputs": [
    {
     "name": "stdout",
     "output_type": "stream",
     "text": [
      "2 3 5 7 None\n"
     ]
    }
   ],
   "source": [
    "# n = int(input('Enter a number :'))\n",
    "def print_num(n):\n",
    "    for i in range(2,n + 1):\n",
    "        count = 0\n",
    "        for j in range(1, n + 1):\n",
    "            if i % j == 0:\n",
    "                count += 1\n",
    "        if count == 2:\n",
    "            print(i, end = ' ')\n",
    "number = int(input('Enter a number:'))\n",
    "print(print_num(number))"
   ]
  },
  {
   "cell_type": "code",
   "execution_count": 26,
   "metadata": {},
   "outputs": [
    {
     "name": "stdout",
     "output_type": "stream",
     "text": [
      "153 is a armstrong\n"
     ]
    }
   ],
   "source": [
    "def armstrong(n):\n",
    "    pow = len(str(n))\n",
    "    sum = 0\n",
    "    org = n\n",
    "    while n > 0:\n",
    "        rem = n % 10\n",
    "        sum += rem ** pow\n",
    "        n //= 10\n",
    "    if org == sum:\n",
    "        return f'{org} is a armstrong'\n",
    "    return f'{org} is not a armstrong'\n",
    "\n",
    "number = int(input('Enter a number'))\n",
    "print(armstrong(number))\n"
   ]
  },
  {
   "cell_type": "code",
   "execution_count": null,
   "metadata": {},
   "outputs": [],
   "source": []
  }
 ],
 "metadata": {
  "kernelspec": {
   "display_name": "Python 3",
   "language": "python",
   "name": "python3"
  },
  "language_info": {
   "codemirror_mode": {
    "name": "ipython",
    "version": 3
   },
   "file_extension": ".py",
   "mimetype": "text/x-python",
   "name": "python",
   "nbconvert_exporter": "python",
   "pygments_lexer": "ipython3",
   "version": "3.12.2"
  }
 },
 "nbformat": 4,
 "nbformat_minor": 2
}
