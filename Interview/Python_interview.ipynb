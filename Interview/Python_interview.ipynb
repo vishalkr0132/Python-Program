{
 "cells": [
  {
   "cell_type": "markdown",
   "metadata": {},
   "source": [
    "1. Question: Given a list of numbers, write a Python function to find the second highest number."
   ]
  },
  {
   "cell_type": "code",
   "execution_count": 1,
   "metadata": {},
   "outputs": [
    {
     "name": "stdout",
     "output_type": "stream",
     "text": [
      "The second highest number in the list is: 70\n"
     ]
    }
   ],
   "source": [
    "def second_heigest(lst):\n",
    "    heigest = 0\n",
    "    second_heigest = 0\n",
    "    for num in lst:\n",
    "        if num >= heigest:\n",
    "            second_heigest = heigest\n",
    "            heigest = num\n",
    "        elif num >= second_heigest and num != heigest:\n",
    "            second_heigest = num\n",
    "    return second_heigest\n",
    "\n",
    "# Test the function\n",
    "lst = [10,20,30,40,50,60,70,80]\n",
    "second_highest_num = second_heigest(lst)\n",
    "print(\"The second highest number in the list is:\", second_highest_num)\n",
    "\n"
   ]
  },
  {
   "cell_type": "markdown",
   "metadata": {},
   "source": [
    "2. Question: Write a function to compute the factorial of a number using recursion."
   ]
  },
  {
   "cell_type": "code",
   "execution_count": 2,
   "metadata": {},
   "outputs": [
    {
     "name": "stdout",
     "output_type": "stream",
     "text": [
      "120\n"
     ]
    }
   ],
   "source": [
    "def factorial(num):\n",
    "    if num == 0:\n",
    "        return 1\n",
    "    return num * factorial(num-1)\n",
    "\n",
    "# Test the function\n",
    "num = int(input('Enater a number :'))\n",
    "print(factorial(num))"
   ]
  },
  {
   "cell_type": "markdown",
   "metadata": {},
   "source": [
    "3. Question: You are given a list of strings. Write a function to filter out all strings that are palindromes."
   ]
  },
  {
   "cell_type": "code",
   "execution_count": null,
   "metadata": {},
   "outputs": [],
   "source": [
    "def Palindromes(string):\n",
    "    j = len(string) - 1\n",
    "    for i in range(len(string)):\n",
    "        if string[i] != string[j]:\n",
    "            print('String is not a palindrome')\n",
    "            break\n",
    "        j -= 1\n",
    "    else:\n",
    "        print('String is a palindrome')\n",
    "\n",
    "# Test the function\n",
    "\n",
    "strings = ['madam', 'level', 'hello', 'world', 'racecar']\n",
    "for string in strings:\n",
    "    Palindromes(string)\n",
    "        \n",
    "        "
   ]
  },
  {
   "cell_type": "markdown",
   "metadata": {},
   "source": [
    "4. Question: Given a string, write a function to check if it is an anagram of another string."
   ]
  },
  {
   "cell_type": "code",
   "execution_count": 3,
   "metadata": {},
   "outputs": [
    {
     "name": "stdout",
     "output_type": "stream",
     "text": [
      "\"Listen\" and \"Silent\" are not anagrams.\n"
     ]
    }
   ],
   "source": [
    "def Anagram(str1,str2):\n",
    "    if len(str1) != len(str2):\n",
    "        return False\n",
    "    \n",
    "    freq1 = {}\n",
    "    freq2 = {}\n",
    "    \n",
    "    # Count characters in the first string \n",
    "    for char in str1:\n",
    "        if char in freq1:\n",
    "            freq1[char] += 1\n",
    "        else:\n",
    "            freq1[char] = 1\n",
    "    \n",
    "    # Count characters in the second string\n",
    "    for char in str2:\n",
    "        if char in freq2:\n",
    "            freq2[char] += 1\n",
    "        else:\n",
    "            freq2[char] = 1\n",
    "    \n",
    "    # Compare the frequency dictionaries\n",
    "    if freq1 == freq2:\n",
    "        return True\n",
    "    else:\n",
    "        return False\n",
    "\n",
    "string1 = \"Listen\"\n",
    "string2 = \"Silent\"\n",
    "\n",
    "if Anagram(string1, string2):\n",
    "    print(f'\"{string1}\" and \"{string2}\" are anagrams.')\n",
    "else:\n",
    "    print(f'\"{string1}\" and \"{string2}\" are not anagrams.')"
   ]
  },
  {
   "cell_type": "markdown",
   "metadata": {},
   "source": [
    "5. Question: Write a function to flatten a nested list."
   ]
  },
  {
   "cell_type": "code",
   "execution_count": 3,
   "metadata": {},
   "outputs": [
    {
     "name": "stdout",
     "output_type": "stream",
     "text": [
      "[1, 2, 3, 4, 5, 6]\n"
     ]
    }
   ],
   "source": [
    "def flatten(lst):\n",
    "    flatten_list = []\n",
    "    for i in lst:\n",
    "        if type(i) == list:\n",
    "            sublist = flatten(i) # Recursively flatten the sublist\n",
    "            for j in sublist: # Add each item to the result\n",
    "                flatten_list +=[j]\n",
    "        else:\n",
    "            flatten_list += [i]\n",
    "    return flatten_list\n",
    "\n",
    "nested_list = [1, [2, 3, [4, 5]], 6]\n",
    "print(flatten(nested_list))"
   ]
  },
  {
   "cell_type": "markdown",
   "metadata": {},
   "source": [
    "6. Question: Given two lists, write a function that returns the elements that are common to both lists."
   ]
  },
  {
   "cell_type": "code",
   "execution_count": 5,
   "metadata": {},
   "outputs": [
    {
     "name": "stdout",
     "output_type": "stream",
     "text": [
      "[3, 4, 5]\n"
     ]
    }
   ],
   "source": [
    "def comman_elements(lst1, lst2):\n",
    "    common = []\n",
    "    for i in lst1:\n",
    "        for j in lst2:\n",
    "            if i == j:\n",
    "                if i not in common:\n",
    "                    common += [i]\n",
    "                break\n",
    "    return common\n",
    "list1 = [1, 2, 3, 4, 5]\n",
    "list2 = [3, 4, 5, 6, 7]\n",
    "print(comman_elements(list1, list2))"
   ]
  },
  {
   "cell_type": "markdown",
   "metadata": {},
   "source": [
    "7. Question: Write a function that returns the number of words in a string."
   ]
  },
  {
   "cell_type": "code",
   "execution_count": 8,
   "metadata": {},
   "outputs": [
    {
     "name": "stdout",
     "output_type": "stream",
     "text": [
      "['The', 'quick', 'brown', 'fox']\n",
      "4\n"
     ]
    }
   ],
   "source": [
    "def word(strings):\n",
    "    words = strings.split()\n",
    "    count = 0\n",
    "    for i in words:\n",
    "        count += 1\n",
    "    return count\n",
    "sentence = \"The quick brown fox\"\n",
    "print(word(sentence))"
   ]
  },
  {
   "cell_type": "markdown",
   "metadata": {},
   "source": [
    "8. Question: Write a Python function to merge two dictionaries. If both dictionaries have the same key, prefer the second dictionary's value."
   ]
  },
  {
   "cell_type": "code",
   "execution_count": 9,
   "metadata": {},
   "outputs": [
    {
     "name": "stdout",
     "output_type": "stream",
     "text": [
      "Merged dictionary: {'a': 1, 'b': 30, 'c': 3, 'd': 40}\n"
     ]
    }
   ],
   "source": [
    "def merge(dict1,dict2):\n",
    "    merge_dict = {}\n",
    "    for i in dict1:\n",
    "        merge_dict[i] = dict1[i]\n",
    "    for j in dict2:\n",
    "        merge_dict[j] = dict2[j]\n",
    "    return merge_dict\n",
    "\n",
    "dict1 = {'a': 1, 'b': 2, 'c': 3}\n",
    "dict2 = {'b': 20, 'b': 30, 'd': 40}\n",
    "merged_dict = merge(dict1, dict2)\n",
    "print(\"Merged dictionary:\", merged_dict)"
   ]
  },
  {
   "cell_type": "markdown",
   "metadata": {},
   "source": [
    "9. Question: Write a function that finds the most repeated character in a string."
   ]
  },
  {
   "cell_type": "code",
   "execution_count": 17,
   "metadata": {},
   "outputs": [
    {
     "name": "stdout",
     "output_type": "stream",
     "text": [
      "d\n"
     ]
    }
   ],
   "source": [
    "def most_repeated(strings):\n",
    "    char_count = {}\n",
    "    for i in strings:\n",
    "        if i in char_count:\n",
    "            char_count[i] += 1\n",
    "        else:\n",
    "            char_count[i] = 1\n",
    "\n",
    "    max_char = 0\n",
    "    max_count = 0\n",
    "    for j in char_count:\n",
    "        if char_count[j] > max_count:\n",
    "            max_char = j\n",
    "            max_count = char_count[j]\n",
    "\n",
    "    return max_char\n",
    "\n",
    "string = \"aabbbcdddde\"\n",
    "print(most_repeated(string))\n"
   ]
  },
  {
   "cell_type": "markdown",
   "metadata": {},
   "source": [
    "10. Question: Given a list of numbers, write a function to compute the mean, median, and mode."
   ]
  },
  {
   "cell_type": "code",
   "execution_count": 23,
   "metadata": {},
   "outputs": [
    {
     "name": "stdout",
     "output_type": "stream",
     "text": [
      "3.2222222222222223\n",
      "3\n",
      "2\n"
     ]
    }
   ],
   "source": [
    "class calculate:\n",
    "    def mean(self,numbers):\n",
    "        self.total_sum = 0\n",
    "        self.count = 0\n",
    "        for i in numbers:\n",
    "            self.total_sum += i\n",
    "            self.count += 1\n",
    "        mean = self.total_sum / self.count\n",
    "        return mean\n",
    "    \n",
    "    def median(self, numbers):\n",
    "        self.n = 0\n",
    "        for i in numbers:\n",
    "            self.n += 1\n",
    "        for j in range(self.n):\n",
    "            for k in range(0,self.n-j-1):\n",
    "                if numbers[k] > numbers[k + 1]:\n",
    "                    numbers[k],numbers[j + 1] = numbers[k + 1],numbers[k]\n",
    "        if self.n % 2 == 1:\n",
    "            median = numbers[self.n // 2]\n",
    "        else:\n",
    "            median = (numbers[self.n // 2 - 1] + numbers[self.n // 2]) / 2\n",
    "        return median\n",
    "    \n",
    "    def mode(self,numbers):\n",
    "        self.frequency = {}\n",
    "        for i in numbers:\n",
    "            if i in self.frequency:\n",
    "                self.frequency[i] += 1\n",
    "            else:\n",
    "                self.frequency[i] = 1\n",
    "        max_count = 0\n",
    "        mode = 0\n",
    "        for i in self.frequency:\n",
    "            if self.frequency[i] > max_count:\n",
    "                max_count = self.frequency[i]\n",
    "                mode = i\n",
    "        return mode\n",
    "    \n",
    "obj = calculate()\n",
    "numbers = [4, 1, 2, 2, 3, 5, 4, 2, 6]\n",
    "print(obj.mean(numbers))\n",
    "print(obj.median(numbers))\n",
    "print(obj.mode(numbers))"
   ]
  },
  {
   "cell_type": "markdown",
   "metadata": {},
   "source": [
    "11. Question: Write a function to compute the Fibonacci series up to n."
   ]
  },
  {
   "cell_type": "code",
   "execution_count": 25,
   "metadata": {},
   "outputs": [
    {
     "name": "stdout",
     "output_type": "stream",
     "text": [
      "[0, 1, 1, 2, 3, 5, 8, 13, 21, 34]\n"
     ]
    }
   ],
   "source": [
    "def fibonacci(n):\n",
    "    series = [0] * n  # Create a list of size n filled with 0\n",
    "    if n > 0:\n",
    "        series[0] = 0  # First Fibonacci number\n",
    "    if n > 1:\n",
    "        series[1] = 1  # Second Fibonacci number\n",
    "    \n",
    "    i = 2  # Start from the third element\n",
    "    while i < n:\n",
    "        series[i] = series[i - 1] + series[i - 2]  # Calculate Fibonacci number\n",
    "        i += 1\n",
    "    return series\n",
    "\n",
    "number = 10\n",
    "print(fibonacci(number))  # Output: [0, 1, 1, 2, 3, 5, 8, 13, 21, 34]\n"
   ]
  },
  {
   "cell_type": "markdown",
   "metadata": {},
   "source": [
    "12. Question: Given a string, write a function that returns the first non-repeated character."
   ]
  },
  {
   "cell_type": "code",
   "execution_count": 26,
   "metadata": {},
   "outputs": [
    {
     "name": "stdout",
     "output_type": "stream",
     "text": [
      "w\n"
     ]
    }
   ],
   "source": [
    "def non_repeated_char(strings):\n",
    "    char_count = {}\n",
    "    for i in strings:\n",
    "        if i in char_count:\n",
    "            char_count[i] += 1\n",
    "        else:\n",
    "            char_count[i] = 1\n",
    "    \n",
    "    for j in strings:\n",
    "        if char_count[j] == 1:\n",
    "            return j\n",
    "    return None\n",
    "strings = 'swiss'\n",
    "print(non_repeated_char(strings))"
   ]
  },
  {
   "cell_type": "markdown",
   "metadata": {},
   "source": [
    "13. Question: Write a function to check if two strings are a rotation of each other (e.g., \"abcde\" and \"cdeab\" are rotations of each other)."
   ]
  },
  {
   "cell_type": "code",
   "execution_count": 29,
   "metadata": {},
   "outputs": [
    {
     "name": "stdout",
     "output_type": "stream",
     "text": [
      "True\n"
     ]
    }
   ],
   "source": [
    "def are_rotations(str1, str2):\n",
    "    if len(str1) != len(str2):\n",
    "        return False\n",
    "    return str1 in str2 + str2\n",
    "\n",
    "s1 = \"abcde\"\n",
    "s2 = \"cdeab\"\n",
    "print(are_rotations(s1, s2))  # Output: True\n"
   ]
  },
  {
   "cell_type": "markdown",
   "metadata": {},
   "source": [
    "14. Question: Write a function to determine if a string has all unique characters (i.e., no character is repeated)."
   ]
  },
  {
   "cell_type": "code",
   "execution_count": 40,
   "metadata": {},
   "outputs": [
    {
     "name": "stdout",
     "output_type": "stream",
     "text": [
      "['a', 'b', 'c', 'd', 'e', 'f']\n"
     ]
    }
   ],
   "source": [
    "def all_unique_char(strings):\n",
    "    unique_char = {}\n",
    "    for i in strings:\n",
    "        if i not in unique_char:\n",
    "            unique_char[i] = True\n",
    "    return list(unique_char.keys())\n",
    "\n",
    "string = \"abcdeff\"\n",
    "print(all_unique_char(string))"
   ]
  },
  {
   "cell_type": "markdown",
   "metadata": {},
   "source": [
    "15. Question: Write a function to compute the square root of a given non-negative integer n without using built-in square root functions or libraries. Return the floor value of the result."
   ]
  },
  {
   "cell_type": "code",
   "execution_count": 44,
   "metadata": {},
   "outputs": [
    {
     "name": "stdout",
     "output_type": "stream",
     "text": [
      "5\n"
     ]
    }
   ],
   "source": [
    "def sqrt(n):\n",
    "    if n < 0:\n",
    "        return None\n",
    "    if n == 1:\n",
    "        return 1\n",
    "    start, end = 0, n\n",
    "    while start <= end:\n",
    "        mid = (start + end) // 2\n",
    "        if mid * mid == n:\n",
    "            return mid\n",
    "        elif mid * mid < n:\n",
    "            start = mid + 1\n",
    "            ans = mid\n",
    "        else:\n",
    "            end = mid - 1\n",
    "    return ans\n",
    "\n",
    "number = 25\n",
    "print(sqrt(number))  # Output: 4\n"
   ]
  },
  {
   "cell_type": "markdown",
   "metadata": {},
   "source": [
    "16. Question: Given a list of integers, write a function to move all zeros to the end of the list while maintaining the order of the other elements."
   ]
  },
  {
   "cell_type": "code",
   "execution_count": 47,
   "metadata": {},
   "outputs": [
    {
     "name": "stdout",
     "output_type": "stream",
     "text": [
      "[1, 2, 4, 5, 6, 0, 0, 0]\n"
     ]
    }
   ],
   "source": [
    "def end_zero(lst):\n",
    "    res = []\n",
    "    zero_count = 0\n",
    "    for i in lst:\n",
    "        if i != 0:\n",
    "            res += [i]\n",
    "        else:\n",
    "            zero_count += 1\n",
    "    for _ in range(zero_count):\n",
    "        res += [0]\n",
    "    return res\n",
    "\n",
    "numbers = [1, 2, 0, 4, 0, 5, 6, 0]\n",
    "print(end_zero(numbers))"
   ]
  },
  {
   "cell_type": "markdown",
   "metadata": {},
   "source": [
    "17. Question: Write a function to find the longest common prefix of a list of strings."
   ]
  },
  {
   "cell_type": "code",
   "execution_count": 49,
   "metadata": {},
   "outputs": [
    {
     "name": "stdout",
     "output_type": "stream",
     "text": [
      "fl\n"
     ]
    }
   ],
   "source": [
    "def longest_common_prefix(strings):\n",
    "    prefix = strings[0]\n",
    "    for s in strings[1:]:\n",
    "        i = 0\n",
    "        while i < len(prefix) and i < len(s) and prefix[i] == s[i]:\n",
    "            i += 1\n",
    "        prefix = prefix[:i]\n",
    "    return prefix\n",
    "strings = [\"flower\", \"flow\", \"flight\"]\n",
    "print(longest_common_prefix(strings))"
   ]
  },
  {
   "cell_type": "code",
   "execution_count": null,
   "metadata": {},
   "outputs": [],
   "source": []
  }
 ],
 "metadata": {
  "kernelspec": {
   "display_name": "Python 3",
   "language": "python",
   "name": "python3"
  },
  "language_info": {
   "codemirror_mode": {
    "name": "ipython",
    "version": 3
   },
   "file_extension": ".py",
   "mimetype": "text/x-python",
   "name": "python",
   "nbconvert_exporter": "python",
   "pygments_lexer": "ipython3",
   "version": "3.13.0"
  }
 },
 "nbformat": 4,
 "nbformat_minor": 2
}
