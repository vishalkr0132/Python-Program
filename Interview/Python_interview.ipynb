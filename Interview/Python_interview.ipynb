{
 "cells": [
  {
   "cell_type": "markdown",
   "metadata": {},
   "source": [
    "1. Question: Given a list of numbers, write a Python function to find the second highest number."
   ]
  },
  {
   "cell_type": "code",
   "execution_count": 1,
   "metadata": {},
   "outputs": [
    {
     "name": "stdout",
     "output_type": "stream",
     "text": [
      "The second highest number in the list is: 70\n"
     ]
    }
   ],
   "source": [
    "def second_heigest(lst):\n",
    "    heigest = 0\n",
    "    second_heigest = 0\n",
    "    for num in lst:\n",
    "        if num >= heigest:\n",
    "            second_heigest = heigest\n",
    "            heigest = num\n",
    "        elif num >= second_heigest and num != heigest:\n",
    "            second_heigest = num\n",
    "    return second_heigest\n",
    "\n",
    "# Test the function\n",
    "lst = [10,20,30,40,50,60,70,80]\n",
    "second_highest_num = second_heigest(lst)\n",
    "print(\"The second highest number in the list is:\", second_highest_num)\n",
    "\n"
   ]
  },
  {
   "cell_type": "markdown",
   "metadata": {},
   "source": [
    "2. Question: Write a function to compute the factorial of a number using recursion."
   ]
  },
  {
   "cell_type": "code",
   "execution_count": 2,
   "metadata": {},
   "outputs": [
    {
     "name": "stdout",
     "output_type": "stream",
     "text": [
      "120\n"
     ]
    }
   ],
   "source": [
    "def factorial(num):\n",
    "    if num == 0:\n",
    "        return 1\n",
    "    return num * factorial(num-1)\n",
    "\n",
    "# Test the function\n",
    "num = int(input('Enater a number :'))\n",
    "print(factorial(num))"
   ]
  },
  {
   "cell_type": "markdown",
   "metadata": {},
   "source": [
    "3. Question: You are given a list of strings. Write a function to filter out all strings that are palindromes."
   ]
  },
  {
   "cell_type": "code",
   "execution_count": 3,
   "metadata": {},
   "outputs": [
    {
     "name": "stdout",
     "output_type": "stream",
     "text": [
      "String is a palindrome\n",
      "String is a palindrome\n",
      "String is not a palindrome\n",
      "String is not a palindrome\n",
      "String is a palindrome\n"
     ]
    }
   ],
   "source": [
    "def Palindromes(string):\n",
    "    j = len(string) - 1\n",
    "    for i in range(len(string)):\n",
    "        if string[i] != string[j]:\n",
    "            print('String is not a palindrome')\n",
    "            break\n",
    "        j -= 1\n",
    "    else:\n",
    "        print('String is a palindrome')\n",
    "\n",
    "# Test the function\n",
    "\n",
    "strings = ['madam', 'level', 'hello', 'world', 'racecar']\n",
    "for string in strings:\n",
    "    Palindromes(string)\n",
    "        \n",
    "        "
   ]
  },
  {
   "cell_type": "markdown",
   "metadata": {},
   "source": [
    "4. Question: Given a string, write a function to check if it is an anagram of another string."
   ]
  },
  {
   "cell_type": "code",
   "execution_count": null,
   "metadata": {},
   "outputs": [],
   "source": []
  }
 ],
 "metadata": {
  "kernelspec": {
   "display_name": "Python 3",
   "language": "python",
   "name": "python3"
  },
  "language_info": {
   "codemirror_mode": {
    "name": "ipython",
    "version": 3
   },
   "file_extension": ".py",
   "mimetype": "text/x-python",
   "name": "python",
   "nbconvert_exporter": "python",
   "pygments_lexer": "ipython3",
   "version": "3.12.0"
  }
 },
 "nbformat": 4,
 "nbformat_minor": 2
}
