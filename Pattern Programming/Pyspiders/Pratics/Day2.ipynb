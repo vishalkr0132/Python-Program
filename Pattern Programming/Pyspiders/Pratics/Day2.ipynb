{
 "cells": [
  {
   "cell_type": "code",
   "execution_count": 1,
   "metadata": {},
   "outputs": [
    {
     "name": "stdout",
     "output_type": "stream",
     "text": [
      "1 1 1 1 1 \n",
      "2 2 2 2 2 \n",
      "3 3 3 3 3 \n",
      "4 4 4 4 4 \n",
      "5 5 5 5 5 \n"
     ]
    }
   ],
   "source": [
    "row = int(input('Enter the number of rows:'))\n",
    "col = int(input('Enter the number of columns:'))\n",
    "val = 1\n",
    "for i in range(row):\n",
    "    for j in range(col):\n",
    "        print(val, end = ' ')\n",
    "    print()\n",
    "    val += 1\n",
    "    if val > 9:\n",
    "        val = 1"
   ]
  },
  {
   "cell_type": "code",
   "execution_count": 4,
   "metadata": {},
   "outputs": [
    {
     "name": "stdout",
     "output_type": "stream",
     "text": [
      "1 2 3 4 \n",
      "1 2 3 4 \n",
      "1 2 3 4 \n",
      "1 2 3 4 \n"
     ]
    }
   ],
   "source": [
    "row = int(input(\"Enter the number of rows\"))\n",
    "col = int(input('Enter the number of columns:'))\n",
    "for i in range(row):\n",
    "    val = 1\n",
    "    for j in range(col):\n",
    "        print(val, end = ' ')\n",
    "        val += 1\n",
    "        if val >9:\n",
    "            val = 1\n",
    "    print()\n"
   ]
  },
  {
   "cell_type": "code",
   "execution_count": 17,
   "metadata": {},
   "outputs": [
    {
     "name": "stdout",
     "output_type": "stream",
     "text": [
      "4 4 4 4 \n",
      "3 3 3 3 \n",
      "2 2 2 2 \n",
      "1 1 1 1 \n"
     ]
    }
   ],
   "source": [
    "row = int(input('Enter the number of rows:'))\n",
    "col = int(input('Enter the number of columns:'))\n",
    "val = row\n",
    "if val >9:\n",
    "    val = 9\n",
    "for i in range(row):\n",
    "    for j in range(col):\n",
    "        print(val, end = ' ')\n",
    "    print()\n",
    "    val -= 1\n",
    "    if val < 1:\n",
    "        val = 9"
   ]
  },
  {
   "cell_type": "code",
   "execution_count": null,
   "metadata": {},
   "outputs": [],
   "source": []
  }
 ],
 "metadata": {
  "kernelspec": {
   "display_name": "Python 3",
   "language": "python",
   "name": "python3"
  },
  "language_info": {
   "codemirror_mode": {
    "name": "ipython",
    "version": 3
   },
   "file_extension": ".py",
   "mimetype": "text/x-python",
   "name": "python",
   "nbconvert_exporter": "python",
   "pygments_lexer": "ipython3",
   "version": "3.12.2"
  }
 },
 "nbformat": 4,
 "nbformat_minor": 2
}
