{
 "cells": [
  {
   "cell_type": "markdown",
   "metadata": {},
   "source": [
    "# WAP to collect all the numeric string present in a external text file to a python program."
   ]
  },
  {
   "cell_type": "code",
   "execution_count": 1,
   "metadata": {},
   "outputs": [
    {
     "name": "stdout",
     "output_type": "stream",
     "text": [
      "['1991', '2', '7', '3', '6', '3', '9', '3', '10', '2021']\n",
      "['1991', '2', '7', '3', '6', '3', '9', '3', '10', '2021']\n"
     ]
    }
   ],
   "source": [
    "import re\n",
    "def collect_numeric_strings(file_path):\n",
    "    try:\n",
    "        with open(file_path,'r') as fh:\n",
    "            if fh.readable():\n",
    "                data = fh.read()\n",
    "                print(re.findall(r'\\d+',data))\n",
    "                print(re.findall(r'[0-9]+',data))\n",
    "    except Exception as e:\n",
    "        print(e)\n",
    "\n",
    "file_path = 'sample.txt'\n",
    "collect_numeric_strings(file_path)"
   ]
  },
  {
   "cell_type": "markdown",
   "metadata": {},
   "source": [
    "# WAP to print all valid email id from external sources with the helps of regex module."
   ]
  },
  {
   "cell_type": "code",
   "execution_count": 6,
   "metadata": {},
   "outputs": [
    {
     "name": "stdout",
     "output_type": "stream",
     "text": [
      "['valid.email@example.com', 'hello.world@domain.org', 'vishalgupta.itcs@gmail.com']\n"
     ]
    }
   ],
   "source": [
    "import re\n",
    "def valid_email(file_path):\n",
    "    try:\n",
    "        with open(file_path, 'r') as fh:\n",
    "            if fh.readable():\n",
    "                data = fh.read()\n",
    "                pattern = r'\\b[a-zA-Z0-9.]+@[a-zA-Z]+\\.(?:com|in|org|edu)\\b'\n",
    "                result = re.findall(pattern, data)\n",
    "                return result\n",
    "    except Exception as e:\n",
    "        print(e)\n",
    "\n",
    "file_path = 'email.txt'\n",
    "print(valid_email(file_path))"
   ]
  },
  {
   "cell_type": "code",
   "execution_count": null,
   "metadata": {},
   "outputs": [],
   "source": []
  }
 ],
 "metadata": {
  "kernelspec": {
   "display_name": "Python 3",
   "language": "python",
   "name": "python3"
  },
  "language_info": {
   "codemirror_mode": {
    "name": "ipython",
    "version": 3
   },
   "file_extension": ".py",
   "mimetype": "text/x-python",
   "name": "python",
   "nbconvert_exporter": "python",
   "pygments_lexer": "ipython3",
   "version": "3.13.0"
  }
 },
 "nbformat": 4,
 "nbformat_minor": 2
}
