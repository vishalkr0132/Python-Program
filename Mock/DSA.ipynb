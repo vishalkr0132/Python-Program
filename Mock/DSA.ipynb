{
 "cells": [
  {
   "cell_type": "markdown",
   "metadata": {},
   "source": [
    "# WAP to print convert decimal to binary using recursion method."
   ]
  },
  {
   "cell_type": "code",
   "execution_count": null,
   "metadata": {},
   "outputs": [],
   "source": []
  },
  {
   "cell_type": "markdown",
   "metadata": {},
   "source": [
    "# WAP to convert binary to decimal using the recursive."
   ]
  },
  {
   "cell_type": "code",
   "execution_count": null,
   "metadata": {},
   "outputs": [],
   "source": []
  },
  {
   "cell_type": "markdown",
   "metadata": {},
   "source": [
    "# WAP to find sum of lists of integers or list of values using recursion."
   ]
  },
  {
   "cell_type": "code",
   "execution_count": null,
   "metadata": {},
   "outputs": [],
   "source": []
  },
  {
   "cell_type": "markdown",
   "metadata": {},
   "source": [
    "# WAP to find product of list integers or lists value using recursive method."
   ]
  },
  {
   "cell_type": "code",
   "execution_count": null,
   "metadata": {},
   "outputs": [],
   "source": []
  },
  {
   "cell_type": "markdown",
   "metadata": {},
   "source": [
    "# WAP to check given string is palinderome or not using recursion method."
   ]
  },
  {
   "cell_type": "code",
   "execution_count": 2,
   "metadata": {},
   "outputs": [
    {
     "name": "stdout",
     "output_type": "stream",
     "text": [
      "True\n"
     ]
    }
   ],
   "source": [
    "def is_palindrome(s):\n",
    "    if len(s) <= 1:\n",
    "        return True\n",
    "    return s[0] == s[-1] and is_palindrome(s[1:-1])\n",
    "string = 'MadaM'\n",
    "print(is_palindrome(string))"
   ]
  },
  {
   "cell_type": "code",
   "execution_count": null,
   "metadata": {},
   "outputs": [
    {
     "name": "stdout",
     "output_type": "stream",
     "text": [
      "string is not palindrome\n"
     ]
    }
   ],
   "source": [
    "def is_palindrome(s1):\n",
    "    if len(s1) == 0:\n",
    "        return 'string is not palindrome'\n",
    "    elif s1[0] != s1[-1]:\n",
    "        return 'String is not palindrome'\n",
    "    return is_palindrome(s1[1:-1])\n",
    "\n",
    "s1 = 'madam'\n",
    "print(is_palindrome(s1))"
   ]
  },
  {
   "cell_type": "markdown",
   "metadata": {},
   "source": [
    "# WAP to reverse the given string using recursion"
   ]
  },
  {
   "cell_type": "code",
   "execution_count": 6,
   "metadata": {},
   "outputs": [
    {
     "name": "stdout",
     "output_type": "stream",
     "text": [
      "lahsiv\n"
     ]
    }
   ],
   "source": [
    "def reversed_string(s1):\n",
    "    if len(s1) == 0:\n",
    "        return ''\n",
    "    return s1[-1] + reversed_string(s1[:-1])\n",
    "s1 = 'vishal'\n",
    "print(reversed_string(s1))"
   ]
  },
  {
   "cell_type": "markdown",
   "metadata": {},
   "source": [
    "# WAP to convert each first character in a given string into the upper case character using the recursion and accept 'n' no. of string in the from of list."
   ]
  },
  {
   "cell_type": "code",
   "execution_count": 10,
   "metadata": {},
   "outputs": [
    {
     "name": "stdout",
     "output_type": "stream",
     "text": [
      "['India', 'Bangalore', 'France', 'Italy']\n"
     ]
    }
   ],
   "source": [
    "def convert_upper_case(l1):\n",
    "    res = []\n",
    "    if len(l1) == 0:\n",
    "        return res\n",
    "    res.append(l1[0].title())\n",
    "    return res + convert_upper_case(l1[1:])\n",
    "\n",
    "l1 = ['india','bangalore','france','italy']\n",
    "print(convert_upper_case(l1))"
   ]
  },
  {
   "cell_type": "code",
   "execution_count": 12,
   "metadata": {},
   "outputs": [],
   "source": [
    "def convert_upper_case(l1):\n",
    "    res = []\n",
    "    if len(l1) == 0:\n",
    "        return res\n",
    "    res.append(l1[0][0].upper() or l1[-1][-1].upper())\n",
    "    return res + convert_upper_case(l1[1:])\n",
    "\n",
    "l1 = ['india','bangalore','france','italy']"
   ]
  },
  {
   "cell_type": "markdown",
   "metadata": {},
   "source": [
    "# Revese the given number using recursion."
   ]
  },
  {
   "cell_type": "code",
   "execution_count": null,
   "metadata": {},
   "outputs": [
    {
     "name": "stdout",
     "output_type": "stream",
     "text": [
      "3\n"
     ]
    }
   ],
   "source": [
    "def reversed_number(n1):\n",
    "    rev = 0\n",
    "    if n1 == 0:\n",
    "        return 0\n",
    "    rem = n1 % 10\n",
    "    return (rev * 10 + rem )n % 10\n",
    "n1 = 123\n",
    "print(reversed_number(n1))"
   ]
  },
  {
   "cell_type": "markdown",
   "metadata": {},
   "source": [
    "# wap to program flatten the given list using recursion."
   ]
  },
  {
   "cell_type": "markdown",
   "metadata": {},
   "source": []
  },
  {
   "cell_type": "markdown",
   "metadata": {},
   "source": [
    "WAP "
   ]
  },
  {
   "cell_type": "code",
   "execution_count": null,
   "metadata": {},
   "outputs": [],
   "source": []
  }
 ],
 "metadata": {
  "kernelspec": {
   "display_name": "Python 3",
   "language": "python",
   "name": "python3"
  },
  "language_info": {
   "codemirror_mode": {
    "name": "ipython",
    "version": 3
   },
   "file_extension": ".py",
   "mimetype": "text/x-python",
   "name": "python",
   "nbconvert_exporter": "python",
   "pygments_lexer": "ipython3",
   "version": "3.13.0"
  }
 },
 "nbformat": 4,
 "nbformat_minor": 2
}
