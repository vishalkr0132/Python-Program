{
 "cells": [
  {
   "cell_type": "markdown",
   "metadata": {},
   "source": [
    "# WAP to find total number in char present in the string, exclude special char and number."
   ]
  },
  {
   "cell_type": "code",
   "execution_count": 1,
   "metadata": {},
   "outputs": [
    {
     "name": "stdout",
     "output_type": "stream",
     "text": [
      "Total char in string -> 23\n"
     ]
    }
   ],
   "source": [
    "def find_total_number_char(string):\n",
    "    count = 0\n",
    "    for i in string:\n",
    "        if ord(i) >= 65 and ord(i) <= 90 or ord(i) >= 97 and ord(i) <= 122:\n",
    "            count += 1\n",
    "    return count\n",
    "\n",
    "string = \"Vishalkumar.itcs@gmail.com\"\n",
    "result = find_total_number_char(string)\n",
    "print(f\"Total char in string -> {result}\")"
   ]
  },
  {
   "cell_type": "markdown",
   "metadata": {},
   "source": [
    "# WAP to find the given string is palindrome string or not."
   ]
  },
  {
   "cell_type": "code",
   "execution_count": 2,
   "metadata": {},
   "outputs": [
    {
     "name": "stdout",
     "output_type": "stream",
     "text": [
      "String is palindrome\n"
     ]
    }
   ],
   "source": [
    "def palindrome(string):\n",
    "    length = len(string) - 1\n",
    "    for i in range(len(string)):\n",
    "        if string[i] != string[length]:\n",
    "            return 'String is not palindrome'\n",
    "            break\n",
    "        length -= 1\n",
    "    else:\n",
    "        return 'String is palindrome'\n",
    "    \n",
    "string = 'madam'\n",
    "result = palindrome(string)\n",
    "print(result)\n",
    "        \n",
    "        "
   ]
  },
  {
   "cell_type": "markdown",
   "metadata": {},
   "source": [
    "# WAP to find frequency of each character in a given string."
   ]
  },
  {
   "cell_type": "code",
   "execution_count": 6,
   "metadata": {},
   "outputs": [
    {
     "name": "stdout",
     "output_type": "stream",
     "text": [
      "I -> 2\n",
      "  -> 13\n",
      "a -> 7\n",
      "m -> 4\n",
      "n -> 6\n",
      "o -> 2\n",
      "t -> 2\n",
      "i -> 2\n",
      "d -> 2\n",
      "g -> 2\n",
      "e -> 4\n",
      "r -> 2\n",
      ", -> 1\n",
      "h -> 2\n",
      "w -> 1\n",
      "s -> 2\n",
      "y -> 2\n",
      "V -> 1\n",
      "l -> 1\n",
      "None\n"
     ]
    }
   ],
   "source": [
    "def frequency(string):\n",
    "    d1 = {}\n",
    "    for i in string:\n",
    "        if i not in d1.keys():\n",
    "            d1[i] = 1\n",
    "        else:\n",
    "            d1[i]+= 1\n",
    "    \n",
    "    for k,v in d1.items():\n",
    "        print(k , \"->\", v)\n",
    "\n",
    "string = 'I am not in danger, I am the danger now say my name Vishal'\n",
    "result = frequency(string) \n",
    "print(result)   "
   ]
  },
  {
   "cell_type": "markdown",
   "metadata": {},
   "source": [
    "# WAP to check the given string is panagram or not."
   ]
  },
  {
   "cell_type": "code",
   "execution_count": 7,
   "metadata": {},
   "outputs": [
    {
     "name": "stdout",
     "output_type": "stream",
     "text": [
      "String is a panagram\n",
      "None\n"
     ]
    }
   ],
   "source": [
    "def panagram(string):\n",
    "    unique_char = set()\n",
    "    \n",
    "    for i in string:\n",
    "        if i == \" \":\n",
    "            continue\n",
    "        else:\n",
    "            unique_char.add(i.lower())\n",
    "    if len(unique_char) == 26:\n",
    "        print('String is a panagram')\n",
    "    else:\n",
    "        print('String is not a panagram')\n",
    "        \n",
    "string = \"Pack my box with five dozen liquor jugs\"\n",
    "print(panagram(string))"
   ]
  },
  {
   "cell_type": "markdown",
   "metadata": {},
   "source": [
    "# WAP to convert camel case string to snake case string."
   ]
  },
  {
   "cell_type": "code",
   "execution_count": 14,
   "metadata": {},
   "outputs": [
    {
     "name": "stdout",
     "output_type": "stream",
     "text": [
      "i_am_the_devil_in_my_world\n"
     ]
    }
   ],
   "source": [
    "def camel_to_snake(string):\n",
    "    s1 = ''\n",
    "    s1 += chr(ord(string[0]) + 32)\n",
    "    \n",
    "    for i in range(1, len(string)):\n",
    "        if string[i] == ' ':\n",
    "            s1 += '_'\n",
    "        else:\n",
    "            if s1[i-1] == \"_\":\n",
    "                s1 += chr(ord(string[i]) + 32)\n",
    "            else:\n",
    "                s1 += string[i]\n",
    "    return s1\n",
    "\n",
    "string = \"I Am The Devil In My World\"\n",
    "print(camel_to_snake(string))\n"
   ]
  },
  {
   "cell_type": "markdown",
   "metadata": {},
   "source": [
    "# WAP to convert snake case string to camel case string."
   ]
  },
  {
   "cell_type": "code",
   "execution_count": 5,
   "metadata": {},
   "outputs": [
    {
     "name": "stdout",
     "output_type": "stream",
     "text": [
      "I Am The Devil In My World\n"
     ]
    }
   ],
   "source": [
    "def snake_to_camel(s1):\n",
    "    s2 = \"\"\n",
    "    s2 += chr(ord(s1[0]) - 32)\n",
    "    \n",
    "    for i in range(1,len(s1)):\n",
    "        if s1[i] == '_':\n",
    "            s2 += \" \"\n",
    "        else:\n",
    "            if s1[i-1] == \"_\":\n",
    "                s2 += chr(ord(s1[i]) - 32)\n",
    "            else:\n",
    "                s2 += s1[i]\n",
    "    return s2\n",
    "\n",
    "s1 = \"i_am_the_devil_in_my_world\"\n",
    "print(snake_to_camel(s1))"
   ]
  },
  {
   "cell_type": "markdown",
   "metadata": {},
   "source": [
    "# s1 = \"abc'\n",
    "# s2 = \"xyz\"\n",
    "# output: \"azbycx\""
   ]
  },
  {
   "cell_type": "code",
   "execution_count": 6,
   "metadata": {},
   "outputs": [
    {
     "name": "stdout",
     "output_type": "stream",
     "text": [
      "azbycx\n"
     ]
    }
   ],
   "source": [
    "def fun(s1, s2):\n",
    "    s3 = \"\"\n",
    "    for i in range(len(s1)):\n",
    "        s3 += s1[i] + s2[len(s2) - 1 - i]\n",
    "        \n",
    "    return s3\n",
    "\n",
    "s1 = \"abc\"\n",
    "\n",
    "s2 = \"xyz\"\n",
    "\n",
    "print(fun(s1, s2))"
   ]
  },
  {
   "cell_type": "markdown",
   "metadata": {},
   "source": [
    "# WAP to insert second string in the middle of the first string.\n",
    "# EX : s1 = dhoni, s2 = sakshi , output = dhsakshioni"
   ]
  },
  {
   "cell_type": "code",
   "execution_count": 7,
   "metadata": {},
   "outputs": [
    {
     "name": "stdout",
     "output_type": "stream",
     "text": [
      "dhsakshioni\n"
     ]
    }
   ],
   "source": [
    "def insert_middle_string(s1, s2):\n",
    "    s3 = \"\"\n",
    "    for i in range(len(s1)):\n",
    "        if i < len(s1) // 2:\n",
    "            s3 += s1[i]\n",
    "        elif i == len(s1) // 2:\n",
    "            s3 += s2\n",
    "            s3 += s1[i]\n",
    "        else:\n",
    "            s3 += s1[i]\n",
    "    return s3\n",
    "\n",
    "s1 = \"dhoni\"\n",
    "s2 = \"sakshi\"\n",
    "\n",
    "print(insert_middle_string(s1, s2))"
   ]
  },
  {
   "cell_type": "markdown",
   "metadata": {},
   "source": [
    "s1 = I@# Am!@# pool$@@# Deadpool@@#$! here@ to$$#! Kill$$@@ Bad@ Guys@@^#.\n",
    "output : #@I Am!@# #@@$loop !$#@loopdaed here@ !#$$ot @@$$lliK Bad@ #^@@syug."
   ]
  },
  {
   "cell_type": "code",
   "execution_count": 8,
   "metadata": {},
   "outputs": [
    {
     "name": "stdout",
     "output_type": "stream",
     "text": [
      "#@I Am!@# #@@$loop Deadpool@@#$! here@ !#$$ot @@$$lliK Bad@ #^@@syuG \n"
     ]
    }
   ],
   "source": [
    "def reverse_char(s1):\n",
    "    s2 = s1.split()\n",
    "    s3 = \"\"\n",
    "    for i in s2:\n",
    "        count = 0\n",
    "        for j in i:\n",
    "            if not ('a' <= j <= 'z' or 'A' <= j <= 'Z'):\n",
    "                count += 1\n",
    "                \n",
    "        if count % 2 == 0:\n",
    "            s3 += i[::-1] + \" \"\n",
    "        else:\n",
    "            s3 += i + \" \"\n",
    "    return s3\n",
    "\n",
    "# Test the function\n",
    "strings = \"I@# Am!@# pool$@@# Deadpool@@#$! here@ to$$#! Kill$$@@ Bad@ Guys@@^#\"\n",
    "print(reverse_char(strings))\n"
   ]
  },
  {
   "cell_type": "markdown",
   "metadata": {},
   "source": [
    "WAP to check given string is a valid password or not, The length of string should be grater then should be 8 and should be less then 30, it should contain atlest one upper case ,one lower case, one digit and one special character."
   ]
  },
  {
   "cell_type": "code",
   "execution_count": 9,
   "metadata": {},
   "outputs": [
    {
     "name": "stdout",
     "output_type": "stream",
     "text": [
      "Valid Password\n"
     ]
    }
   ],
   "source": [
    "def password_valid(password):\n",
    "    if len(password) >= 8 and len(password) <= 30:\n",
    "        upper_case, lower_case, digit, special_char = 0,0,0,0\n",
    "        for i in password:\n",
    "            if i >= 'A' and i <= 'Z':\n",
    "                upper_case += 1\n",
    "            elif i >= 'a' and i <= 'z':\n",
    "                lower_case += 1\n",
    "            elif i >= '0' and i <= '9':\n",
    "                digit += 1\n",
    "            else:\n",
    "                special_char += 1\n",
    "                \n",
    "        if upper_case >= 1 and lower_case >= 1 and digit >= 1 and special_char >= 1:\n",
    "            return 'Valid Password'\n",
    "        else:\n",
    "            return 'Invalid Password'\n",
    "    else:\n",
    "        return 'Min of 8 char should be'\n",
    "    \n",
    "password = input(\"Enter the Password:\")\n",
    "print(password_valid(password))"
   ]
  },
  {
   "cell_type": "markdown",
   "metadata": {},
   "source": [
    "# WAP to split the given string based on the input number. "
   ]
  },
  {
   "cell_type": "code",
   "execution_count": 12,
   "metadata": {},
   "outputs": [
    {
     "name": "stdout",
     "output_type": "stream",
     "text": [
      "ab36\n",
      "42gh\n",
      "ikac\n",
      "rmop\n",
      "lu32\n",
      "65mn "
     ]
    }
   ],
   "source": [
    "def split_string(s1):\n",
    "    div = int(input(\"Enter the number of char:\"))\n",
    "    result = ''\n",
    "    count = 0\n",
    "    for i in s1:\n",
    "        if count == div:\n",
    "            result += '\\n'\n",
    "            count = 0\n",
    "        result += i\n",
    "        count += 1\n",
    "    return result\n",
    "\n",
    "s1 = 'ab3642ghikacrmoplu3265mn'\n",
    "print(split_string(s1), end = ' ')"
   ]
  },
  {
   "cell_type": "markdown",
   "metadata": {},
   "source": [
    "WAP to check the given string is mirror image or not. Mirror image char 'A,H,I,M,O,T,U,V,W,X,0,8'"
   ]
  },
  {
   "cell_type": "code",
   "execution_count": 17,
   "metadata": {},
   "outputs": [
    {
     "name": "stdout",
     "output_type": "stream",
     "text": [
      "String can be a mirror images\n"
     ]
    }
   ],
   "source": [
    "def mirror_image_char(s1):\n",
    "    mirror_char = ['A', 'H', 'I', 'M', 'O', 'T', 'U', 'V', 'W', 'X', '0', '8']\n",
    "    for i in s1:\n",
    "        if i not in mirror_char:\n",
    "            print('String can no be a mirror images')\n",
    "            break\n",
    "    else:\n",
    "        print(\"String can be a mirror images\")\n",
    "string = \"O\"\n",
    "mirror_image_char(string)\n",
    "    "
   ]
  },
  {
   "cell_type": "markdown",
   "metadata": {},
   "source": [
    "# WAp to check given substring present in original string or not"
   ]
  },
  {
   "cell_type": "code",
   "execution_count": 1,
   "metadata": {},
   "outputs": [
    {
     "name": "stdout",
     "output_type": "stream",
     "text": [
      "Sub-string found\n"
     ]
    }
   ],
   "source": [
    "def substring(s1, substr):\n",
    "    for i in range(len(s1)):\n",
    "        if s1[i : i + len(substr)] == substr: \n",
    "            return True\n",
    "    return False \n",
    "\n",
    "s1 = 'abcghigbcdexyabcdefmnopq'\n",
    "substr = input(\"Enter the sub-string: \")\n",
    "\n",
    "if substring(s1, substr):\n",
    "    print(\"Sub-string found\")\n",
    "else:\n",
    "    print(\"Sub-string not found\")\n"
   ]
  },
  {
   "cell_type": "markdown",
   "metadata": {},
   "source": [
    "# WAP to convert the given string into encription fromat based in the contain the if character AAIC value is odd No shift the character into 3 time, If the characters are ASSCI value is even No shift 5 time.\n",
    "\n",
    "EX:- a = 97, h= 104, g = 103, output = d, m j\n"
   ]
  },
  {
   "cell_type": "markdown",
   "metadata": {},
   "source": []
  },
  {
   "cell_type": "code",
   "execution_count": 2,
   "metadata": {},
   "outputs": [
    {
     "name": "stdout",
     "output_type": "stream",
     "text": [
      "dmjln\n"
     ]
    }
   ],
   "source": [
    "def encription(s1):\n",
    "    s2 = \"\"\n",
    "    for i in s1:\n",
    "        if ord(i) % 2 == 0:\n",
    "            s2 += chr(ord(i) + 5)\n",
    "        else:\n",
    "            s2 += chr(ord(i) + 3)\n",
    "    return s2\n",
    "\n",
    "string = 'ahgik'\n",
    "print(encription(string))"
   ]
  },
  {
   "cell_type": "markdown",
   "metadata": {},
   "source": []
  },
  {
   "cell_type": "code",
   "execution_count": null,
   "metadata": {},
   "outputs": [],
   "source": []
  }
 ],
 "metadata": {
  "kernelspec": {
   "display_name": "Python 3",
   "language": "python",
   "name": "python3"
  },
  "language_info": {
   "codemirror_mode": {
    "name": "ipython",
    "version": 3
   },
   "file_extension": ".py",
   "mimetype": "text/x-python",
   "name": "python",
   "nbconvert_exporter": "python",
   "pygments_lexer": "ipython3",
   "version": "3.13.0"
  }
 },
 "nbformat": 4,
 "nbformat_minor": 2
}
