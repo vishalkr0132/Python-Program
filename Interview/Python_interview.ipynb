{
 "cells": [
  {
   "cell_type": "markdown",
   "metadata": {},
   "source": [
    "1. Question: Given a list of numbers, write a Python function to find the second highest number."
   ]
  },
  {
   "cell_type": "code",
   "execution_count": 1,
   "metadata": {},
   "outputs": [
    {
     "name": "stdout",
     "output_type": "stream",
     "text": [
      "The second highest number in the list is: 70\n"
     ]
    }
   ],
   "source": [
    "def second_heigest(lst):\n",
    "    heigest = 0\n",
    "    second_heigest = 0\n",
    "    for num in lst:\n",
    "        if num >= heigest:\n",
    "            second_heigest = heigest\n",
    "            heigest = num\n",
    "        elif num >= second_heigest and num != heigest:\n",
    "            second_heigest = num\n",
    "    return second_heigest\n",
    "\n",
    "# Test the function\n",
    "lst = [10,20,30,40,50,60,70,80]\n",
    "second_highest_num = second_heigest(lst)\n",
    "print(\"The second highest number in the list is:\", second_highest_num)\n",
    "\n"
   ]
  },
  {
   "cell_type": "markdown",
   "metadata": {},
   "source": [
    "2. Question: Write a function to compute the factorial of a number using recursion."
   ]
  },
  {
   "cell_type": "code",
   "execution_count": 2,
   "metadata": {},
   "outputs": [
    {
     "name": "stdout",
     "output_type": "stream",
     "text": [
      "120\n"
     ]
    }
   ],
   "source": [
    "def factorial(num):\n",
    "    if num == 0:\n",
    "        return 1\n",
    "    return num * factorial(num-1)\n",
    "\n",
    "# Test the function\n",
    "num = int(input('Enater a number :'))\n",
    "print(factorial(num))"
   ]
  },
  {
   "cell_type": "markdown",
   "metadata": {},
   "source": [
    "3. Question: You are given a list of strings. Write a function to filter out all strings that are palindromes."
   ]
  },
  {
   "cell_type": "code",
   "execution_count": null,
   "metadata": {},
   "outputs": [],
   "source": [
    "def Palindromes(string):\n",
    "    j = len(string) - 1\n",
    "    for i in range(len(string)):\n",
    "        if string[i] != string[j]:\n",
    "            print('String is not a palindrome')\n",
    "            break\n",
    "        j -= 1\n",
    "    else:\n",
    "        print('String is a palindrome')\n",
    "\n",
    "# Test the function\n",
    "\n",
    "strings = ['madam', 'level', 'hello', 'world', 'racecar']\n",
    "for string in strings:\n",
    "    Palindromes(string)\n",
    "        \n",
    "        "
   ]
  },
  {
   "cell_type": "markdown",
   "metadata": {},
   "source": [
    "4. Question: Given a string, write a function to check if it is an anagram of another string."
   ]
  },
  {
   "cell_type": "code",
   "execution_count": 3,
   "metadata": {},
   "outputs": [
    {
     "name": "stdout",
     "output_type": "stream",
     "text": [
      "\"Listen\" and \"Silent\" are not anagrams.\n"
     ]
    }
   ],
   "source": [
    "def Anagram(str1,str2):\n",
    "    if len(str1) != len(str2):\n",
    "        return False\n",
    "    \n",
    "    freq1 = {}\n",
    "    freq2 = {}\n",
    "    \n",
    "    # Count characters in the first string \n",
    "    for char in str1:\n",
    "        if char in freq1:\n",
    "            freq1[char] += 1\n",
    "        else:\n",
    "            freq1[char] = 1\n",
    "    \n",
    "    # Count characters in the second string\n",
    "    for char in str2:\n",
    "        if char in freq2:\n",
    "            freq2[char] += 1\n",
    "        else:\n",
    "            freq2[char] = 1\n",
    "    \n",
    "    # Compare the frequency dictionaries\n",
    "    if freq1 == freq2:\n",
    "        return True\n",
    "    else:\n",
    "        return False\n",
    "\n",
    "string1 = \"Listen\"\n",
    "string2 = \"Silent\"\n",
    "\n",
    "if Anagram(string1, string2):\n",
    "    print(f'\"{string1}\" and \"{string2}\" are anagrams.')\n",
    "else:\n",
    "    print(f'\"{string1}\" and \"{string2}\" are not anagrams.')"
   ]
  },
  {
   "cell_type": "markdown",
   "metadata": {},
   "source": [
    "5. Question: Write a function to flatten a nested list."
   ]
  },
  {
   "cell_type": "code",
   "execution_count": 3,
   "metadata": {},
   "outputs": [
    {
     "name": "stdout",
     "output_type": "stream",
     "text": [
      "[1, 2, 3, 4, 5, 6]\n"
     ]
    }
   ],
   "source": [
    "def flatten(lst):\n",
    "    flatten_list = []\n",
    "    for i in lst:\n",
    "        if type(i) == list:\n",
    "            sublist = flatten(i) # Recursively flatten the sublist\n",
    "            for j in sublist: # Add each item to the result\n",
    "                flatten_list +=[j]\n",
    "        else:\n",
    "            flatten_list += [i]\n",
    "    return flatten_list\n",
    "\n",
    "nested_list = [1, [2, 3, [4, 5]], 6]\n",
    "print(flatten(nested_list))"
   ]
  },
  {
   "cell_type": "markdown",
   "metadata": {},
   "source": [
    "6. Question: Given two lists, write a function that returns the elements that are common to both lists."
   ]
  },
  {
   "cell_type": "code",
   "execution_count": 5,
   "metadata": {},
   "outputs": [
    {
     "name": "stdout",
     "output_type": "stream",
     "text": [
      "[3, 4, 5]\n"
     ]
    }
   ],
   "source": [
    "def comman_elements(lst1, lst2):\n",
    "    common = []\n",
    "    for i in lst1:\n",
    "        for j in lst2:\n",
    "            if i == j:\n",
    "                if i not in common:\n",
    "                    common += [i]\n",
    "                break\n",
    "    return common\n",
    "list1 = [1, 2, 3, 4, 5]\n",
    "list2 = [3, 4, 5, 6, 7]\n",
    "print(comman_elements(list1, list2))"
   ]
  },
  {
   "cell_type": "markdown",
   "metadata": {},
   "source": [
    "7. Question: Write a function that returns the number of words in a string."
   ]
  },
  {
   "cell_type": "code",
   "execution_count": 8,
   "metadata": {},
   "outputs": [
    {
     "name": "stdout",
     "output_type": "stream",
     "text": [
      "['The', 'quick', 'brown', 'fox']\n",
      "4\n"
     ]
    }
   ],
   "source": [
    "def word(strings):\n",
    "    words = strings.split()\n",
    "    count = 0\n",
    "    for i in words:\n",
    "        count += 1\n",
    "    return count\n",
    "sentence = \"The quick brown fox\"\n",
    "print(word(sentence))"
   ]
  },
  {
   "cell_type": "markdown",
   "metadata": {},
   "source": [
    "8. Question: Write a Python function to merge two dictionaries. If both dictionaries have the same key, prefer the second dictionary's value."
   ]
  },
  {
   "cell_type": "code",
   "execution_count": 9,
   "metadata": {},
   "outputs": [
    {
     "name": "stdout",
     "output_type": "stream",
     "text": [
      "Merged dictionary: {'a': 1, 'b': 30, 'c': 3, 'd': 40}\n"
     ]
    }
   ],
   "source": [
    "def merge(dict1,dict2):\n",
    "    merge_dict = {}\n",
    "    for i in dict1:\n",
    "        merge_dict[i] = dict1[i]\n",
    "    for j in dict2:\n",
    "        merge_dict[j] = dict2[j]\n",
    "    return merge_dict\n",
    "\n",
    "dict1 = {'a': 1, 'b': 2, 'c': 3}\n",
    "dict2 = {'b': 20, 'b': 30, 'd': 40}\n",
    "merged_dict = merge(dict1, dict2)\n",
    "print(\"Merged dictionary:\", merged_dict)"
   ]
  },
  {
   "cell_type": "code",
   "execution_count": null,
   "metadata": {},
   "outputs": [],
   "source": []
  }
 ],
 "metadata": {
  "kernelspec": {
   "display_name": "Python 3",
   "language": "python",
   "name": "python3"
  },
  "language_info": {
   "codemirror_mode": {
    "name": "ipython",
    "version": 3
   },
   "file_extension": ".py",
   "mimetype": "text/x-python",
   "name": "python",
   "nbconvert_exporter": "python",
   "pygments_lexer": "ipython3",
   "version": "3.13.0"
  }
 },
 "nbformat": 4,
 "nbformat_minor": 2
}
