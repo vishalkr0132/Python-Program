{
 "cells": [
  {
   "cell_type": "markdown",
   "metadata": {},
   "source": [
    "# WAP to find total number in character present in the string excluding special charactera and number."
   ]
  },
  {
   "cell_type": "code",
   "execution_count": 1,
   "metadata": {},
   "outputs": [
    {
     "name": "stdout",
     "output_type": "stream",
     "text": [
      "Total character in string 6\n"
     ]
    }
   ],
   "source": [
    "var = input('Enter the string:')\n",
    "count = 0\n",
    "for i in var:\n",
    "  if ord(i)>=65 and ord(i) <= 90 or ord(i) >= 97 and ord(i) <= 122:\n",
    "    count += 1\n",
    "print(f'Total character in string {count}')"
   ]
  },
  {
   "cell_type": "markdown",
   "metadata": {},
   "source": [
    "# WAP to find frequency of each character in a given string"
   ]
  },
  {
   "cell_type": "code",
   "execution_count": 2,
   "metadata": {},
   "outputs": [
    {
     "name": "stdout",
     "output_type": "stream",
     "text": [
      "I -> 2\n",
      "  -> 12\n",
      "a -> 6\n",
      "m -> 3\n",
      "n -> 4\n",
      "o -> 2\n",
      "t -> 2\n",
      "i -> 1\n",
      "d -> 2\n",
      "g -> 2\n",
      "e -> 4\n",
      "r -> 2\n",
      "h -> 1\n",
      "N -> 2\n",
      "w -> 1\n",
      "S -> 1\n",
      "y -> 2\n",
      "M -> 1\n"
     ]
    }
   ],
   "source": [
    "s1 = 'I am not in danger I am the danger Now Say My Name'\n",
    "d = {}\n",
    "for i in s1:\n",
    "  if i not in d.keys():\n",
    "    d[i] = 1\n",
    "  else:\n",
    "    d[i] += 1\n",
    "for key,value in d.items():\n",
    "  print(key,'->',value)"
   ]
  },
  {
   "cell_type": "markdown",
   "metadata": {},
   "source": [
    "# WAP to check the given string is anagram string or not"
   ]
  },
  {
   "cell_type": "code",
   "execution_count": 6,
   "metadata": {},
   "outputs": [
    {
     "name": "stdout",
     "output_type": "stream",
     "text": [
      "True\n"
     ]
    }
   ],
   "source": [
    "def string_length(string):\n",
    "    count = 0\n",
    "    for char in string:\n",
    "        count += 1\n",
    "    return count\n",
    "def anagram(string1, string2):\n",
    "  length1 = string_length(string1)\n",
    "  length2 = string_length(string2)\n",
    "\n",
    "  if length1 != length2:\n",
    "    return False\n",
    "  count1 = {}\n",
    "  count2 = {}\n",
    "  for char in string1:\n",
    "    if char in count1:\n",
    "      count1[char] += 1\n",
    "    else:\n",
    "      count1[char] = 1\n",
    "\n",
    "  for char in string2:\n",
    "    if char in count2:\n",
    "      count2[char] += 1\n",
    "    else:\n",
    "      count2[char] = 1\n",
    "\n",
    "  for char in count1:\n",
    "    if count1[char] != count2.get(char,0):\n",
    "      return False\n",
    "  return True\n",
    "\n",
    "string1 = input('Enter the first string: ')\n",
    "string2 = input('Enter the second string: ')\n",
    "print(anagram(string1, string2))"
   ]
  },
  {
   "cell_type": "markdown",
   "metadata": {},
   "source": [
    "# WAP to convert camel case string to snake case string."
   ]
  },
  {
   "cell_type": "code",
   "execution_count": 7,
   "metadata": {},
   "outputs": [
    {
     "name": "stdout",
     "output_type": "stream",
     "text": [
      "i_am_the_devil_in_my_world\n"
     ]
    }
   ],
   "source": [
    "s1 = 'I Am The Devil In My World'\n",
    "s2 = ''\n",
    "s2 += chr(ord(s1[0])+32)\n",
    "for i  in range(1,len(s1)):\n",
    "  if s1[i] == ' ':\n",
    "    s2 += '_'\n",
    "  else:\n",
    "    if s2[i-1] == '_':\n",
    "      s2 += chr(ord(s1[i]) + 32)\n",
    "    else:\n",
    "      s2 += s1[i]\n",
    "print(s2)"
   ]
  },
  {
   "cell_type": "markdown",
   "metadata": {},
   "source": [
    "# WAP to convert snake case string to camel case string."
   ]
  },
  {
   "cell_type": "code",
   "execution_count": 8,
   "metadata": {},
   "outputs": [
    {
     "name": "stdout",
     "output_type": "stream",
     "text": [
      "I Am The Devil In My World\n"
     ]
    }
   ],
   "source": [
    "s1 = 'i_am_the_devil_in_my_world'\n",
    "s2 = ''\n",
    "s2 += chr(ord(s1[0])-32)\n",
    "for i  in range(1,len(s1)):\n",
    "  if s1[i] == '_':\n",
    "    s2 += ' '\n",
    "  else:\n",
    "    if s2[i-1] == ' ':\n",
    "      s2 += chr(ord(s1[i]) - 32)\n",
    "    else:\n",
    "      s2 += s1[i]\n",
    "print(s2)"
   ]
  },
  {
   "cell_type": "markdown",
   "metadata": {},
   "source": [
    "# Give Input\n",
    "s1 = 'abc' s2 = 'xyz' output : azbycx'"
   ]
  },
  {
   "cell_type": "code",
   "execution_count": 9,
   "metadata": {},
   "outputs": [
    {
     "name": "stdout",
     "output_type": "stream",
     "text": [
      "azbycx\n"
     ]
    }
   ],
   "source": [
    "s1 = 'abc'\n",
    "s2 = 'xyz'\n",
    "s3 = ''\n",
    "for i in range(len(s1)):\n",
    "  s3 += s1[i] + s2[len(s2) - 1 -i]\n",
    "print(s3)"
   ]
  },
  {
   "cell_type": "markdown",
   "metadata": {},
   "source": [
    "# WAP to insert second string in the middle of First String."
   ]
  },
  {
   "cell_type": "code",
   "execution_count": 12,
   "metadata": {},
   "outputs": [
    {
     "name": "stdout",
     "output_type": "stream",
     "text": [
      "dhsakshioni\n"
     ]
    }
   ],
   "source": [
    "def middle_string(s1,s2):\n",
    "    s3 = ''\n",
    "    for i in range(len(s1)):\n",
    "        if i < len(s1) // 2:\n",
    "            s3 += s1[i]\n",
    "        elif i == len(s1) // 2:\n",
    "            s3 += s2\n",
    "            s3 += s1[i]\n",
    "        else:\n",
    "            s3 += s1[i]\n",
    "    return s3\n",
    "s1 = 'dhoni'\n",
    "s2 = 'sakshi'\n",
    "print(middle_string(s1, s2))"
   ]
  },
  {
   "cell_type": "code",
   "execution_count": 13,
   "metadata": {},
   "outputs": [
    {
     "name": "stdout",
     "output_type": "stream",
     "text": [
      "#@I Am!@# #@@$looP !$#@loopdaeD here@ to$$##! @@$$lliK Bad@ #^@@syug \n"
     ]
    }
   ],
   "source": [
    "s1 = 'I@# Am!@# Pool$@@# Deadpool@#$! here@ to$$##! Kill$$@@ Bad@ guys@@^#'\n",
    "s2 = s1.split()\n",
    "s3 = ''\n",
    "for i in s2:\n",
    "    count = 0\n",
    "    for j in i:\n",
    "        if j >= 'a' and j <= 'z' or j >= 'A' and j <= 'Z':\n",
    "            continue\n",
    "        else:\n",
    "            count += 1\n",
    "    if count % 2 == 0:\n",
    "        s3 += i[::-1] + ' '\n",
    "    else:\n",
    "        s3 += i + ' '\n",
    "print(s3)"
   ]
  },
  {
   "cell_type": "markdown",
   "metadata": {},
   "source": [
    "# WAP to check given string is a valid password or not.\n",
    "- The Length of string should be >= 8 and should be < 30\n",
    "- it shiuld contain atlest are upper case, one lower case,one Integer and one Special Character."
   ]
  },
  {
   "cell_type": "code",
   "execution_count": 15,
   "metadata": {},
   "outputs": [
    {
     "name": "stdout",
     "output_type": "stream",
     "text": [
      "Invalid Password\n"
     ]
    }
   ],
   "source": [
    "var = input('Enter the password:')\n",
    "if len(var) >= 8 and len(var) <= 30:\n",
    "    uc_c,lc_c,n_c, sp_c = 0,0,0,0\n",
    "    for i in var:\n",
    "        if 'A' <= i <= 'Z':\n",
    "            uc_c += 1\n",
    "        elif 'a' <= i <= 'z':\n",
    "            lc_c += 1\n",
    "        elif '0' <= i <= '9':\n",
    "            n_c += 1\n",
    "        else:\n",
    "            sp_c += 1\n",
    "    if uc_c >=1 and lc_c >=1 and n_c >=1 and sp_c >=1:\n",
    "        print('Valid Password')\n",
    "    else:\n",
    "        print('Invalid Password')\n",
    "else:\n",
    "    print('Mimimum 8 characters Should be at least')"
   ]
  },
  {
   "cell_type": "markdown",
   "metadata": {},
   "source": [
    "# WAP to Split the string Based on the input Number."
   ]
  },
  {
   "cell_type": "code",
   "execution_count": 21,
   "metadata": {},
   "outputs": [
    {
     "name": "stdout",
     "output_type": "stream",
     "text": [
      "sdfgh\n",
      "jklvb\n",
      "nmkjh\n",
      "gfsdf\n",
      "765ed\n",
      "cvj65\n",
      "3cvb5\n",
      "43sxc\n",
      "vn54e\n",
      "d\n"
     ]
    }
   ],
   "source": [
    "s1 = 'sdfghjklvbnmkjhgfsdf765edcvj653cvb543sxcvn54ed'\n",
    "div = int(input('Enter the number of characters'))\n",
    "\n",
    "res = ''\n",
    "count = 0\n",
    "for i in s1:\n",
    "    if count == div:\n",
    "        res += '\\n'\n",
    "        count = 0\n",
    "    res += i\n",
    "    count += 1\n",
    "print(res)"
   ]
  },
  {
   "cell_type": "code",
   "execution_count": null,
   "metadata": {},
   "outputs": [],
   "source": []
  }
 ],
 "metadata": {
  "kernelspec": {
   "display_name": "Python 3",
   "language": "python",
   "name": "python3"
  },
  "language_info": {
   "codemirror_mode": {
    "name": "ipython",
    "version": 3
   },
   "file_extension": ".py",
   "mimetype": "text/x-python",
   "name": "python",
   "nbconvert_exporter": "python",
   "pygments_lexer": "ipython3",
   "version": "3.12.2"
  }
 },
 "nbformat": 4,
 "nbformat_minor": 2
}
