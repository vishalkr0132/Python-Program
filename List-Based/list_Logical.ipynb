{
 "cells": [
  {
   "cell_type": "markdown",
   "metadata": {},
   "source": [
    "# WAP to Sum of enven Elements in a given List."
   ]
  },
  {
   "cell_type": "code",
   "execution_count": 2,
   "metadata": {},
   "outputs": [
    {
     "name": "stdout",
     "output_type": "stream",
     "text": [
      "List of elements: [10, 3, 2, 5, 7, 20]\n",
      "Sum of even elements: 32\n"
     ]
    }
   ],
   "source": [
    "n = int(input(\"Enter the number of elements in the lists: \"))\n",
    "l = [int(input(f\"Enter element {i+1}: \")) for i in range(n)]\n",
    "print(f\"List of elements: {l}\")\n",
    "sum_even = 0\n",
    "for i in l:\n",
    "    if i % 2 == 0:\n",
    "        sum_even += i\n",
    "print(f\"Sum of even elements: {sum_even}\")"
   ]
  },
  {
   "cell_type": "markdown",
   "metadata": {},
   "source": [
    "# WAP to calculate the sum of odd numbers in a given list."
   ]
  },
  {
   "cell_type": "code",
   "execution_count": 3,
   "metadata": {},
   "outputs": [
    {
     "name": "stdout",
     "output_type": "stream",
     "text": [
      "List of elements: [10, 2, 3, 5, 7, 20]\n",
      "Sum of odd elements: 15\n"
     ]
    }
   ],
   "source": [
    "n = int(input(\"Enter the number of elements in the lists: \"))\n",
    "l = [int(input(f\"Enter element of lists {i+1}: \")) for i in range(n)]\n",
    "print(f\"List of elements: {l}\")\n",
    "sum_odd = 0\n",
    "for i in l:\n",
    "    if i % 2 != 0:\n",
    "        sum_odd += i\n",
    "print(f\"Sum of odd elements: {sum_odd}\")"
   ]
  },
  {
   "cell_type": "markdown",
   "metadata": {},
   "source": [
    "# WAP to find the maximum and minimum elements in a given list."
   ]
  },
  {
   "cell_type": "code",
   "execution_count": 5,
   "metadata": {},
   "outputs": [
    {
     "name": "stdout",
     "output_type": "stream",
     "text": [
      "List of elements: [10, 3, 2, 5, 7, 20]\n",
      "Maximum element: 20\n",
      "Minimum element: 0\n"
     ]
    }
   ],
   "source": [
    "n = int(input(\"Enter the number of elements in the list: \"))\n",
    "l = [int(input(f\"Enter element {i+1}: \")) for i in range(n)]\n",
    "print(f\"List of elements: {l}\")\n",
    "max_val = 0\n",
    "min_val = 0\n",
    "for i in l:\n",
    "    if i > max_val:\n",
    "        max_val = i\n",
    "    if i < min_val:\n",
    "        min_val = i\n",
    "print(f\"Maximum element: {max_val}\")\n",
    "print(f\"Minimum element: {min_val}\")"
   ]
  },
  {
   "cell_type": "markdown",
   "metadata": {},
   "source": [
    "# WAP to find the average of all elements in a given list.\n"
   ]
  },
  {
   "cell_type": "code",
   "execution_count": 7,
   "metadata": {},
   "outputs": [
    {
     "name": "stdout",
     "output_type": "stream",
     "text": [
      "List of elements: [10, 3, 2, 5, 7, 20]\n",
      "Average of elements: 7.833333333333333\n"
     ]
    }
   ],
   "source": [
    "n = int(input(\"Enter the number of elements in the lists:\"))\n",
    "l = [int(input(f\"Enter element {i+1}: \")) for i in range(n)]\n",
    "print(f\"List of elements: {l}\")\n",
    "sum_elm = 0\n",
    "count = 0\n",
    "for i in l:\n",
    "    sum_elm += i\n",
    "    count += 1\n",
    "    avg = sum_elm / count\n",
    "\n",
    "print(f\"Average of elements: {avg}\")"
   ]
  },
  {
   "cell_type": "markdown",
   "metadata": {},
   "source": [
    "# WAP to find the second largest and second smallest elements in a given list."
   ]
  },
  {
   "cell_type": "code",
   "execution_count": 6,
   "metadata": {},
   "outputs": [
    {
     "name": "stdout",
     "output_type": "stream",
     "text": [
      "Second Largest: 6\n",
      "Second Smallest: 2\n"
     ]
    }
   ],
   "source": [
    "    # Step 2: Find second smallest and second largest\n",
    "   \n",
    "\n",
    "    # Check if second largest and second smallest exist\n",
    "    if second_largest is None or second_smallest is None:\n",
    "        return \"Second largest or second smallest element not found.\"\n",
    "\n",
    "    return second_largest, second_smallest\n",
    "\n",
    "# Example usage\n",
    "arr = [3, 1, 4, 1, 5, 9, 2, 6, 5]\n",
    "result = find_second_largest_smallest(arr)\n",
    "print(\"Second Largest:\", result[0])\n",
    "print(\"Second Smallest:\", result[1])\n"
   ]
  },
  {
   "cell_type": "code",
   "execution_count": 8,
   "metadata": {},
   "outputs": [
    {
     "name": "stdout",
     "output_type": "stream",
     "text": [
      "List of elements: [2, 5, 8, 2, 3, 4]\n",
      "second Largest : 5\n",
      "Second Smallest 3\n"
     ]
    }
   ],
   "source": [
    "def second_largest_samallest(lst):\n",
    "    if len(lst) < 2:\n",
    "        return 'List must contain at least 2 elements.'\n",
    "    largest,second_largest = None, None\n",
    "    smallest, second_smallest = None, None\n",
    "    # Find initial values for smallest and largest\n",
    "    for i in lst:\n",
    "        if smallest is None or i < smallest:\n",
    "            smallest = i\n",
    "        if largest is None or i > largest:\n",
    "            largest = i\n",
    "            \n",
    "    for i in lst:\n",
    "        if i > smallest and (second_smallest is None or i < second_smallest):\n",
    "            second_smallest = i\n",
    "        if i < largest and (second_largest is None or i > second_largest):\n",
    "            second_largest = i\n",
    "    return second_largest,second_smallest\n",
    "            \n",
    " \n",
    "n = int(input(\"Enter the number of elements in the lists:\"))\n",
    "l = [int(input(f\"Enter element {i+1}: \")) for i in range(n)]\n",
    "print(f\"List of elements: {l}\")\n",
    "result = second_largest_samallest(l)\n",
    "print(\"second Largest :\" ,result[0])\n",
    "print(\"Second Smallest\", result[1])\n"
   ]
  },
  {
   "cell_type": "markdown",
   "metadata": {},
   "source": [
    "# WAP to find the even position elements in a given list."
   ]
  },
  {
   "cell_type": "code",
   "execution_count": 2,
   "metadata": {},
   "outputs": [
    {
     "name": "stdout",
     "output_type": "stream",
     "text": [
      "List of elements: [10, 3, 2, 5, 7, 20]\n",
      "Sum of even position elements: 28\n"
     ]
    }
   ],
   "source": [
    "n = int(input('Enter the number of elements in the lists:'))\n",
    "l = [int(input(f\"Enter the element {i+1}: \")) for i in range(n)]\n",
    "print(f\"List of elements: {l}\")\n",
    "res = 0\n",
    "for i in range(len(l)):\n",
    "    if i % 2 != 0:\n",
    "        res += l[i]\n",
    "print(f\"Sum of even position elements: {res}\")"
   ]
  },
  {
   "cell_type": "markdown",
   "metadata": {},
   "source": [
    "# WAP to find the odd position elements in a given list."
   ]
  },
  {
   "cell_type": "code",
   "execution_count": 3,
   "metadata": {},
   "outputs": [
    {
     "name": "stdout",
     "output_type": "stream",
     "text": [
      "List of elements: [10, 3, 2, 5, 7, 20]\n",
      "Sum of odd position elements: 19\n"
     ]
    }
   ],
   "source": [
    "n = int(input('Enter the number of elements in the lists:'))\n",
    "l = [int(input(f\"enter the element {i+1}: \")) for i in range(n)]\n",
    "print(f\"List of elements: {l}\")\n",
    "res = 0\n",
    "for i in range(len(l)):\n",
    "    if i % 2 == 0:\n",
    "        res += l[i]\n",
    "print(f\"Sum of odd position elements: {res}\")"
   ]
  },
  {
   "cell_type": "markdown",
   "metadata": {},
   "source": [
    "# Write a function to reverse a given list without using built-in reverse methods."
   ]
  },
  {
   "cell_type": "code",
   "execution_count": 1,
   "metadata": {},
   "outputs": [
    {
     "name": "stdout",
     "output_type": "stream",
     "text": [
      "Original list: [10, 3, 2, 5, 7, 20]\n",
      "Reversed list: [20, 7, 5, 2, 3, 10]\n"
     ]
    }
   ],
   "source": [
    "def reverse_list(l):\n",
    "    start = 0\n",
    "    end = len(l) - 1\n",
    "    \n",
    "    while  start < end:\n",
    "        l[start],l[end] = l[end],l[start]\n",
    "        start += 1\n",
    "        end -= 1\n",
    "    return l\n",
    "\n",
    "n = int(input(\"Enter the number of elements in the list: \"))\n",
    "l = [int(input(f'Enter the element {i + 1} :')) for i in range(n)]\n",
    "print(f'Original list: {l}')\n",
    "\n",
    "reversed_list = reverse_list(l)\n",
    "print(f'Reversed list: {reversed_list}')"
   ]
  },
  {
   "cell_type": "markdown",
   "metadata": {},
   "source": [
    "# Implement a function to find the second-largest number in a list without using any built-in sorting methods."
   ]
  },
  {
   "cell_type": "code",
   "execution_count": 3,
   "metadata": {},
   "outputs": [
    {
     "name": "stdout",
     "output_type": "stream",
     "text": [
      "List of elements: [2, 5, 3, 8, 4]\n",
      "Second largest number: 5\n"
     ]
    }
   ],
   "source": [
    "def second_largest(l):\n",
    "    if  len(l) < 2:\n",
    "        return 'List must contain at lest two elements'\n",
    "    largest = 0\n",
    "    second_largest = 0\n",
    "    for i in l:\n",
    "        if i > largest:\n",
    "            second_largest = largest\n",
    "            largest = i\n",
    "        elif i > second_largest and i != largest:\n",
    "            second_largest = i\n",
    "    return second_largest\n",
    "\n",
    "n = int(input(\"Enter the number of elements in the lists:\"))\n",
    "l = [int(input(f\"Enter the elements {i + 1} :\")) for i in range(n)]\n",
    "print(f\"List of elements: {l}\")\n",
    "second_largest_num = second_largest(l)\n",
    "print(f\"Second largest number: {second_largest_num}\")"
   ]
  },
  {
   "cell_type": "markdown",
   "metadata": {},
   "source": [
    "# Write a function that removes duplicate elements from a list while preserving the order of elements."
   ]
  },
  {
   "cell_type": "code",
   "execution_count": 5,
   "metadata": {},
   "outputs": [
    {
     "name": "stdout",
     "output_type": "stream",
     "text": [
      "Original List: [1, 1, 2, 2, 3, 3, 3, 3, 3, 1, 2, 4, 5, 3]\n",
      "List after removing duplicates: [1, 2, 3, 4, 5]\n"
     ]
    }
   ],
   "source": [
    "def remove_duplicates(l):\n",
    "    result = []\n",
    "    \n",
    "    for i in l:\n",
    "        if i not in result:\n",
    "            result.append(i)\n",
    "    return result\n",
    "lst = [1,1,2, 2, 3,3,3,3,3 ,1, 2, 4, 5, 3]\n",
    "print(\"Original List:\", lst)\n",
    "result = remove_duplicates(lst)\n",
    "print(\"List after removing duplicates:\", result)"
   ]
  },
  {
   "cell_type": "markdown",
   "metadata": {},
   "source": [
    "# Write a function that returns a list containing the elements that are common to both lists."
   ]
  },
  {
   "cell_type": "code",
   "execution_count": 6,
   "metadata": {},
   "outputs": [
    {
     "name": "stdout",
     "output_type": "stream",
     "text": [
      "Common elements: [4, 5]\n"
     ]
    }
   ],
   "source": [
    "def common_elements(l1,l2):\n",
    "    comm = []\n",
    "    \n",
    "    for i in l1:\n",
    "        if i in l2 and i not in comm:\n",
    "            comm.append(i)\n",
    "    return comm\n",
    "\n",
    "list1 = [1, 2, 3, 4, 5]\n",
    "list2 = [4, 5, 6, 7, 8]\n",
    "result = common_elements(list1, list2)\n",
    "print(\"Common elements:\", result)"
   ]
  },
  {
   "cell_type": "code",
   "execution_count": null,
   "metadata": {},
   "outputs": [],
   "source": []
  },
  {
   "cell_type": "code",
   "execution_count": null,
   "metadata": {},
   "outputs": [],
   "source": []
  }
 ],
 "metadata": {
  "kernelspec": {
   "display_name": "Python 3",
   "language": "python",
   "name": "python3"
  },
  "language_info": {
   "codemirror_mode": {
    "name": "ipython",
    "version": 3
   },
   "file_extension": ".py",
   "mimetype": "text/x-python",
   "name": "python",
   "nbconvert_exporter": "python",
   "pygments_lexer": "ipython3",
   "version": "3.13.0"
  }
 },
 "nbformat": 4,
 "nbformat_minor": 2
}
