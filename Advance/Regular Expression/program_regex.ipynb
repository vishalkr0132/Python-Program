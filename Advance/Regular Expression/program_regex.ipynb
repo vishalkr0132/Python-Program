{
 "cells": [
  {
   "cell_type": "markdown",
   "metadata": {},
   "source": [
    "# WAP to check given email id is valid or not valid using regular expression."
   ]
  },
  {
   "cell_type": "code",
   "execution_count": 6,
   "metadata": {},
   "outputs": [
    {
     "name": "stdout",
     "output_type": "stream",
     "text": [
      "Valid email: vishalgupta.itcs@gmail.com\n"
     ]
    }
   ],
   "source": [
    "import re\n",
    "def valid_email(email):\n",
    "    pattern = r\"[a-zA-Z0-9]+@[a-zA-Z]+\\.(com|in|edu|org)\"\n",
    "    res = re.search(pattern, email)\n",
    "    if res:\n",
    "        return f\"Valid email: {email}\"\n",
    "    return f\"Invalid email: {email}\"\n",
    "\n",
    "email = input(\"Enter an email: \")\n",
    "print(valid_email(email))"
   ]
  },
  {
   "cell_type": "code",
   "execution_count": 1,
   "metadata": {},
   "outputs": [
    {
     "name": "stdout",
     "output_type": "stream",
     "text": [
      "Valid email.\n"
     ]
    }
   ],
   "source": [
    "import re\n",
    "def valid_email(email):\n",
    "    pattern = r'^[a-zA-Z0-9._%+-]+@[a-zA-Z0-9.-]+\\.[a-zA-Z]{2,}$'\n",
    "    if re.match(pattern, email):\n",
    "        return True\n",
    "    else:\n",
    "        return False\n",
    "\n",
    "email = input(\"Enter an email: \")\n",
    "\n",
    "if valid_email(email):\n",
    "    print(\"Valid email.\")\n",
    "else:\n",
    "    print(\"Invalid email.\")"
   ]
  },
  {
   "cell_type": "markdown",
   "metadata": {},
   "source": [
    "# Sub()"
   ]
  },
  {
   "cell_type": "code",
   "execution_count": null,
   "metadata": {},
   "outputs": [
    {
     "name": "stdout",
     "output_type": "stream",
     "text": [
      "PythonRcodingRisRawesomeRifRweRpresent\n"
     ]
    }
   ],
   "source": [
    "import re\n",
    "\n",
    "def change_old_char(old_chr, new_char, phrase):\n",
    "    res = re.sub(old_chr, new_char, phrase)\n",
    "    return res\n",
    "\n",
    "phrase = \"Python coding is awesome if we present\"\n",
    "old_char = r'\\s'\n",
    "new_char = r'R'\n",
    "print(change_old_char(old_char, new_char, phrase))\n"
   ]
  },
  {
   "cell_type": "markdown",
   "metadata": {},
   "source": [
    "# WAP to check given phone number is valid or not using Regular expression."
   ]
  },
  {
   "cell_type": "code",
   "execution_count": 4,
   "metadata": {},
   "outputs": [
    {
     "name": "stdout",
     "output_type": "stream",
     "text": [
      "Valid phone number: 91-(799)-119-8925\n"
     ]
    }
   ],
   "source": [
    "import re\n",
    "def valid_phone_number(number):\n",
    "    pattern = r'\\+?\\d{1,3}[\\s.-]?\\(?\\d{1,3}\\)?[\\s.-]?\\d{1,3}[\\s.-]?\\d{1,4}'\n",
    "    result = re.search(pattern,number)\n",
    "    if result:\n",
    "        return f'Valid phone number: {number}'\n",
    "    return f'Invalid phone number: {number}'\n",
    "\n",
    "number = input('Enter a phone number: ')\n",
    "print(valid_phone_number(number))"
   ]
  },
  {
   "cell_type": "markdown",
   "metadata": {},
   "source": [
    "# WAP to check date is valid or not using regular expression."
   ]
  },
  {
   "cell_type": "code",
   "execution_count": null,
   "metadata": {},
   "outputs": [
    {
     "name": "stdout",
     "output_type": "stream",
     "text": [
      "Valid date: 24-04-2024\n"
     ]
    }
   ],
   "source": [
    "import re\n",
    "def valid_date(date):\n",
    "    pattern = r'\\d{1,2}[-/]\\d{1,2}[-/]\\d{4}'\n",
    "    result = re.search(pattern, date)\n",
    "    if result:\n",
    "        return f'Valid date: {date}'\n",
    "    return f'Invalid date: {date}'\n",
    "\n",
    "date = input('Enter a date (dd/mm/yyyy): ')\n",
    "print(valid_date(date))"
   ]
  },
  {
   "cell_type": "code",
   "execution_count": 4,
   "metadata": {},
   "outputs": [
    {
     "name": "stdout",
     "output_type": "stream",
     "text": [
      "Valid date: 2024-04-25\n"
     ]
    }
   ],
   "source": [
    "import re\n",
    "def valid_date(date):\n",
    "    pattern = r'\\d{4}[-/]?\\d{1,2}[-/]?\\d{1,2}'\n",
    "    result = re.search(pattern, date)\n",
    "    if result:\n",
    "        return f'Valid date: {date}'\n",
    "    return f'Invalid date: {date}'\n",
    "\n",
    "date = input('Enter a date (yyyy/mm/dd) or (yyyy-mm-dd): ')\n",
    "print(valid_date(date))"
   ]
  },
  {
   "cell_type": "code",
   "execution_count": null,
   "metadata": {},
   "outputs": [
    {
     "name": "stdout",
     "output_type": "stream",
     "text": [
      "Invalid date: 2000-75-54\n"
     ]
    }
   ],
   "source": [
    "import re\n",
    "def valid_date(date):\n",
    "    pattern = r'\\d{4}[-/]?(0[1-9]|1[0-2])[-/]?(0[1-9]|[1-2]\\d|3[0-1])'\n",
    "    result = re.search(pattern, date)\n",
    "    if result:\n",
    "        return f'Valid date: {date}'\n",
    "    return f'Invalid date: {date}'\n",
    "\n",
    "date = input('Enter a date (yyyy/mm/dd) or (yyyy-mm-dd): ')\n",
    "print(valid_date(date))"
   ]
  },
  {
   "cell_type": "code",
   "execution_count": null,
   "metadata": {},
   "outputs": [],
   "source": []
  }
 ],
 "metadata": {
  "kernelspec": {
   "display_name": "Python 3",
   "language": "python",
   "name": "python3"
  },
  "language_info": {
   "codemirror_mode": {
    "name": "ipython",
    "version": 3
   },
   "file_extension": ".py",
   "mimetype": "text/x-python",
   "name": "python",
   "nbconvert_exporter": "python",
   "pygments_lexer": "ipython3",
   "version": "3.13.0"
  }
 },
 "nbformat": 4,
 "nbformat_minor": 2
}
