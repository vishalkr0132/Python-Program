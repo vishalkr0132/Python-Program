{
 "cells": [
  {
   "cell_type": "markdown",
   "metadata": {},
   "source": [
    "# Email Extraction: Write a regex to extract all email addresses from a given text."
   ]
  },
  {
   "cell_type": "code",
   "execution_count": null,
   "metadata": {},
   "outputs": [
    {
     "name": "stdout",
     "output_type": "stream",
     "text": [
      "Invalid email address: vishalkumar.itcs2gmail.com\n"
     ]
    }
   ],
   "source": [
    "import re\n",
    "def valid_email(email):\n",
    "    pattern = r'[a-zA-Z0-9._]+@[a-zA-Z]+\\.(com|in|edu|gov|org)'\n",
    "    result = re.search(pattern, email)\n",
    "    if result:\n",
    "        return f\"Valid email address: {email}\"\n",
    "    return f\"Invalid email address: {email}\"\n",
    "\n",
    "email = input(\"Please enter a email address\")\n",
    "print(valid_email(email))"
   ]
  },
  {
   "cell_type": "markdown",
   "metadata": {},
   "source": [
    "# Date Validation: Validate if a string is a valid date in the format MM-DD-YYYY, DD-MM-YYYY, or YYYY-MM-DD."
   ]
  },
  {
   "cell_type": "code",
   "execution_count": null,
   "metadata": {},
   "outputs": [],
   "source": [
    "import re \n",
    "def valid_date(date):\n",
    "    patterns =[\n",
    "        r'(0[1-9]|1[0-2])[-/](0[1-9]|[12][0-9]|3[01])[-/]\\d{4}', # MM-DD-YYYY\n",
    "        r'(0[1-9]|[12][0-9]|3[01])[-/](0[1-9]|1[0-2])[-/]\\d{4}', # DD-MM-YYYY\n",
    "        r'\\d{4}[-/](0[1-9]|1[0-2])[-/](0[1-9]|[12][0-9]|3[01])' # YYYY-MM-DD\n",
    "    ]\n",
    "    for i in date:\n",
    "        if re.match(patterns,date):\n",
    "            return f\"Valid date: {date}\"\n",
    "        return f\"Invalid date: {date}\"\n",
    "    \n",
    "    \n",
    "date = [\n",
    "    \"12-31-2020\",  \n",
    "    \"31-12-2020\",  \n",
    "    \"2020-12-31\",  \n",
    "    \"02-29-2020\",  \n",
    "    \"02-29-2021\",  \n",
    "    \"04-31-2021\",  \n",
    "    \"2021-04-31\",  \n",
    "    \"2021-12-01\",  \n",
    "    \"15-04-2021\",  \n",
    "]\n",
    "print(valid_date(date))"
   ]
  },
  {
   "cell_type": "markdown",
   "metadata": {},
   "source": [
    "# URL Extraction: Find all URLs in a block of text, where URLs can start with http, https, or www."
   ]
  },
  {
   "cell_type": "code",
   "execution_count": 9,
   "metadata": {},
   "outputs": [
    {
     "name": "stdout",
     "output_type": "stream",
     "text": [
      "URLs found: ['https://www.example.com', 'http://blog.example.com', 'www.socialmedia.com', 'www.anotherexample.org', 'www.123456.789']\n"
     ]
    }
   ],
   "source": [
    "import re\n",
    "\n",
    "def valid_urls(file_path):\n",
    "    try:\n",
    "        with open(file_path, 'r') as fh:\n",
    "            if fh.readable():\n",
    "                data = fh.read()\n",
    "                pattern = r'\\b(?:https?://|www\\.)[^\\s,]+\\b'\n",
    "                urls = re.findall(pattern, data)\n",
    "                \n",
    "                if urls:\n",
    "                    return f\"URLs found: {urls}\"\n",
    "                return \"No URLs found\"\n",
    "    \n",
    "    except Exception as e:\n",
    "        print(f\"Error: {e}\")\n",
    "\n",
    "file_path = 'urls.txt'\n",
    "print(valid_urls(file_path))\n"
   ]
  },
  {
   "cell_type": "markdown",
   "metadata": {},
   "source": [
    "# Phone Number Formatting: Write a regex to format phone numbers in various formats (e.g. (123) 456-7890, 123-456-7890, 123.456.7890) into a standard format."
   ]
  },
  {
   "cell_type": "code",
   "execution_count": 2,
   "metadata": {},
   "outputs": [
    {
     "name": "stdout",
     "output_type": "stream",
     "text": [
      "Valid phone number: +1-800-555-1234\n",
      "Valid phone number: +91 123 456 7890\n",
      "Valid phone number: +91 (123) 456-7890\n",
      "Valid phone number: 123-456-7890\n",
      "Valid phone number: +44 20 7946 0958\n",
      "Valid phone number: 1234567890\n",
      "Valid phone number: +91-1234567890\n",
      "Valid phone number: +911234567890\n",
      "Valid phone number: 123-45-6789\n",
      "Valid phone number: +1 (800) 555 12345\n",
      "Valid phone number: +1-800-555\n",
      "Valid phone number: (123) 456-789\n",
      "Invalid phone number: hello world\n"
     ]
    }
   ],
   "source": [
    "import re\n",
    "\n",
    "def valid_number(number):\n",
    "    pattern = r'\\+?\\d{1,3}[\\s.-]?\\(?\\d{1,3}\\)?[\\s.-]?\\d{1,3}[\\s.-]?\\d{1,4}'\n",
    "    valid_number = re.findall(pattern, number)\n",
    "    \n",
    "    if valid_number:\n",
    "        return f\"Valid phone number: {number}\"\n",
    "    return f\"Invalid phone number: {number}\"\n",
    "\n",
    "# Test cases\n",
    "test_numbers = [\n",
    "    \"+1-800-555-1234\",      # Valid (US format with country code)\n",
    "    \"+91 123 456 7890\",     # Valid (Indian format with spaces)\n",
    "    \"+91 (123) 456-7890\",   # Valid (Indian format with parentheses)\n",
    "    \"123-456-7890\",         # Valid (US format without country code)\n",
    "    \"+44 20 7946 0958\",     # Valid (UK format with country code)\n",
    "    \"1234567890\",           # Valid (plain digits, no country code or separators)\n",
    "    \"+91-1234567890\",       # Valid (Indian format, no separators within number)\n",
    "    \"+911234567890\",        # Valid (Indian format without separators at all)\n",
    "    \"123-45-6789\",          # Invalid (incorrect number of digits)\n",
    "    \"+1 (800) 555 12345\",   # Invalid (too many digits)\n",
    "    \"+1-800-555\",           # Invalid (too few digits)\n",
    "    \"(123) 456-789\",        # Invalid (missing part of number)\n",
    "    \"hello world\",          # Invalid (no numbers at all)\n",
    "]\n",
    "\n",
    "# Run the test cases\n",
    "for number in test_numbers:\n",
    "    print(valid_number(number))\n"
   ]
  },
  {
   "cell_type": "markdown",
   "metadata": {},
   "source": [
    "# Word Boundary Matching: Find all words that start and end with the same letter in a sentence."
   ]
  },
  {
   "cell_type": "code",
   "execution_count": null,
   "metadata": {},
   "outputs": [
    {
     "name": "stdout",
     "output_type": "stream",
     "text": [
      "Words that start and end with the same letter: [' and', ' Bob', ' are', ' meeting', ' at', ' noon', ' near', ' the', ' civic', ' center']\n"
     ]
    }
   ],
   "source": [
    "import re\n",
    "def start_end_same(strings):\n",
    "    pattern = r'\\b\\w\\w*\\b'\n",
    "    result = re.findall(pattern, strings)\n",
    "\n",
    "    return result\n",
    "\n",
    "string = \"Anna and Bob are meeting at noon near the civic center.\"\n",
    "words = start_end_same(string)\n",
    "print(\"Words that start and end with the same letter:\", words)"
   ]
  },
  {
   "cell_type": "markdown",
   "metadata": {},
   "source": [
    "# Bracket Matching: Write a regex to check if a string contains balanced pairs of brackets () or {}"
   ]
  },
  {
   "cell_type": "code",
   "execution_count": null,
   "metadata": {},
   "outputs": [],
   "source": []
  },
  {
   "cell_type": "markdown",
   "metadata": {},
   "source": [
    "# Floating-Point Number Extraction: Extract all floating-point numbers (positive and negative) from a text."
   ]
  },
  {
   "cell_type": "code",
   "execution_count": null,
   "metadata": {},
   "outputs": [],
   "source": []
  },
  {
   "cell_type": "markdown",
   "metadata": {},
   "source": [
    "# HTML Tag Matching: Write a regex to identify all HTML tags in a document and extract their contents."
   ]
  },
  {
   "cell_type": "code",
   "execution_count": null,
   "metadata": {},
   "outputs": [],
   "source": []
  },
  {
   "cell_type": "markdown",
   "metadata": {},
   "source": [
    "# Extracting Hashtags: Extract all hashtags from a social media post (hashtags start with # and contain alphanumeric characters)."
   ]
  },
  {
   "cell_type": "code",
   "execution_count": null,
   "metadata": {},
   "outputs": [],
   "source": []
  },
  {
   "cell_type": "markdown",
   "metadata": {},
   "source": [
    "# Vowel Pattern Matching: Write a regex to match any sequence of three consecutive vowels in a word."
   ]
  },
  {
   "cell_type": "code",
   "execution_count": 4,
   "metadata": {},
   "outputs": [
    {
     "name": "stdout",
     "output_type": "stream",
     "text": [
      "30\n"
     ]
    }
   ],
   "source": [
    "def string_sum(s1):\n",
    "    sum = 0\n",
    "    num = ''\n",
    "    \n",
    "    for i in s1:\n",
    "        if '0' <= i <= '9': \n",
    "            num += i       \n",
    "        else:\n",
    "            if num:\n",
    "                sum += int(num)\n",
    "                num = ''   \n",
    "\n",
    "    if num:\n",
    "        sum += int(num)\n",
    "    \n",
    "    return sum\n",
    "\n",
    "strngs = '1abc24c5'\n",
    "print(string_sum(strngs))\n"
   ]
  },
  {
   "cell_type": "code",
   "execution_count": null,
   "metadata": {},
   "outputs": [],
   "source": []
  }
 ],
 "metadata": {
  "kernelspec": {
   "display_name": "Python 3",
   "language": "python",
   "name": "python3"
  },
  "language_info": {
   "codemirror_mode": {
    "name": "ipython",
    "version": 3
   },
   "file_extension": ".py",
   "mimetype": "text/x-python",
   "name": "python",
   "nbconvert_exporter": "python",
   "pygments_lexer": "ipython3",
   "version": "3.13.0"
  }
 },
 "nbformat": 4,
 "nbformat_minor": 2
}
