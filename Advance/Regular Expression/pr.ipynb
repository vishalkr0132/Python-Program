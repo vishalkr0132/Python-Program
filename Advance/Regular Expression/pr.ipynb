{
 "cells": [
  {
   "cell_type": "code",
   "execution_count": 5,
   "metadata": {},
   "outputs": [
    {
     "name": "stdout",
     "output_type": "stream",
     "text": [
      "Not Match Found\n"
     ]
    }
   ],
   "source": [
    "import re\n",
    "def find(message,patt):\n",
    "    res = re.search(patt,message)\n",
    "    if res:\n",
    "        return 'Match Found'\n",
    "    return 'Not Match Found'\n",
    "\n",
    "message = 'The most violet man called one man the most violent'\n",
    "patt = input('Enter the searching words:')\n",
    "print(find(message, patt))"
   ]
  },
  {
   "cell_type": "code",
   "execution_count": null,
   "metadata": {},
   "outputs": [],
   "source": []
  }
 ],
 "metadata": {
  "kernelspec": {
   "display_name": "Python 3",
   "language": "python",
   "name": "python3"
  },
  "language_info": {
   "codemirror_mode": {
    "name": "ipython",
    "version": 3
   },
   "file_extension": ".py",
   "mimetype": "text/x-python",
   "name": "python",
   "nbconvert_exporter": "python",
   "pygments_lexer": "ipython3",
   "version": "3.12.0"
  }
 },
 "nbformat": 4,
 "nbformat_minor": 2
}
