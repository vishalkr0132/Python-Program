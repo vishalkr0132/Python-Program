{
 "cells": [
  {
   "cell_type": "markdown",
   "metadata": {},
   "source": [
    "# WAP to insert a single linked list into the stack"
   ]
  },
  {
   "cell_type": "code",
   "execution_count": 17,
   "metadata": {},
   "outputs": [
    {
     "data": {
      "text/plain": [
       "[30, 20, 10]"
      ]
     },
     "execution_count": 17,
     "metadata": {},
     "output_type": "execute_result"
    }
   ],
   "source": [
    "class Node:\n",
    "    def __init__(self,data):\n",
    "        self.data = data\n",
    "        self.next = None\n",
    "        \n",
    "class Singly_Linked_List:\n",
    "    def __init__(self):\n",
    "        self.head = None\n",
    "    \n",
    "    def insert_at_end(self, data):\n",
    "            new_node = Node(data)\n",
    "            if not self.head:\n",
    "                self.head = new_node\n",
    "            else:\n",
    "                temp = self.head\n",
    "                while temp.next:\n",
    "                    temp = temp.next\n",
    "                temp.next = new_node\n",
    "class Stack:\n",
    "        def __init__(self):\n",
    "            self.stack = []\n",
    "        def push(self, data):\n",
    "            self.stack.append(data)\n",
    "            \n",
    "        def display(self):\n",
    "            return self.stack[::-1]\n",
    "        \n",
    "        \n",
    "sll = Singly_Linked_List()\n",
    "sll.insert_at_end(10)\n",
    "sll.insert_at_end(20)\n",
    "sll.insert_at_end(30)\n",
    "\n",
    "datas = sll.head\n",
    "stack = Stack()\n",
    "while datas:\n",
    "    stack.push(datas.data)\n",
    "    datas=datas.next\n",
    "stack.display()"
   ]
  },
  {
   "cell_type": "code",
   "execution_count": 18,
   "metadata": {},
   "outputs": [
    {
     "name": "stdout",
     "output_type": "stream",
     "text": [
      "20\n",
      "10\n"
     ]
    }
   ],
   "source": [
    "class Node:\n",
    "    def __init__(self,data):\n",
    "        self.data = data\n",
    "        self.next = None\n",
    "class stack_Linked_List:\n",
    "    def __init__(self):\n",
    "        self.head = None\n",
    "    \n",
    "    def push(self, data):\n",
    "        newNode = Node(data)\n",
    "        if self.head is None:\n",
    "            self.head = newNode\n",
    "        else:\n",
    "            newNode.next = self.head\n",
    "            self.head = newNode\n",
    "    def display(self):\n",
    "        if self.head is None:\n",
    "            print(\"Stack is empty\")\n",
    "        else:\n",
    "            temp = self.head\n",
    "            while temp:\n",
    "                print(temp.data)\n",
    "                temp = temp.next\n",
    "    def pop(self):\n",
    "        if self.head is None:\n",
    "            print(\"Stack is empty\")\n",
    "        else:\n",
    "            # popped_data = self.head.data\n",
    "            # self.head = self.head.next\n",
    "            # return popped_data\n",
    "            self.head = self.head.next\n",
    "            \n",
    "    def peek(self):\n",
    "        if self.head is None:\n",
    "            print(\"Stack is empty\")\n",
    "        else:\n",
    "            print(self.head.data)\n",
    "            \n",
    "stack = stack_Linked_List()\n",
    "\n",
    "stack.push(10)\n",
    "stack.push(20)\n",
    "\n",
    "stack.display()"
   ]
  },
  {
   "cell_type": "code",
   "execution_count": null,
   "metadata": {},
   "outputs": [],
   "source": []
  }
 ],
 "metadata": {
  "kernelspec": {
   "display_name": "Python 3",
   "language": "python",
   "name": "python3"
  },
  "language_info": {
   "codemirror_mode": {
    "name": "ipython",
    "version": 3
   },
   "file_extension": ".py",
   "mimetype": "text/x-python",
   "name": "python",
   "nbconvert_exporter": "python",
   "pygments_lexer": "ipython3",
   "version": "3.13.0"
  }
 },
 "nbformat": 4,
 "nbformat_minor": 2
}
