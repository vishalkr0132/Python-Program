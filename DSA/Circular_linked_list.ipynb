{
 "cells": [
  {
   "cell_type": "code",
   "execution_count": null,
   "metadata": {},
   "outputs": [],
   "source": [
    "class Circular_queue:\n",
    "    def ___init__(self,MaxSize):\n",
    "        self.maxSize = MaxSize\n",
    "        self.c_queue = [None] * MaxSize\n",
    "        self.front = -1\n",
    "        self.rear = -1"
   ]
  }
 ],
 "metadata": {
  "kernelspec": {
   "display_name": "Python 3",
   "language": "python",
   "name": "python3"
  },
  "language_info": {
   "name": "python",
   "version": "3.13.0"
  }
 },
 "nbformat": 4,
 "nbformat_minor": 2
}
